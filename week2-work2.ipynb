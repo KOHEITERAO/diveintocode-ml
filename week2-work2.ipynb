{
 "cells": [
  {
   "cell_type": "markdown",
   "metadata": {},
   "source": [
    "# week2-session1"
   ]
  },
  {
   "cell_type": "markdown",
   "metadata": {},
   "source": [
    "# 【課題1】1次元配列を作ろう"
   ]
  },
  {
   "cell_type": "code",
   "execution_count": 2,
   "metadata": {},
   "outputs": [
    {
     "name": "stdout",
     "output_type": "stream",
     "text": [
      "[0.   0.01 0.02 0.03 0.04 0.05 0.06 0.07 0.08 0.09 0.1  0.11 0.12 0.13\n",
      " 0.14 0.15 0.16 0.17 0.18 0.19 0.2  0.21 0.22 0.23 0.24 0.25 0.26 0.27\n",
      " 0.28 0.29 0.3  0.31 0.32 0.33 0.34 0.35 0.36 0.37 0.38 0.39 0.4  0.41\n",
      " 0.42 0.43 0.44 0.45 0.46 0.47 0.48 0.49 0.5  0.51 0.52 0.53 0.54 0.55\n",
      " 0.56 0.57 0.58 0.59 0.6  0.61 0.62 0.63 0.64 0.65 0.66 0.67 0.68 0.69\n",
      " 0.7  0.71 0.72 0.73 0.74 0.75 0.76 0.77 0.78 0.79 0.8  0.81 0.82 0.83\n",
      " 0.84 0.85 0.86 0.87 0.88 0.89 0.9  0.91 0.92 0.93 0.94 0.95 0.96 0.97\n",
      " 0.98 0.99 1.  ]\n"
     ]
    }
   ],
   "source": [
    "import numpy as np\n",
    "\n",
    "# data = np.arange(0,1.,0.01) 最後の数値をどうするか\n",
    "data_x = np.linspace(0,1,num=101,endpoint = True)\n",
    "print(data_x)"
   ]
  },
  {
   "cell_type": "markdown",
   "metadata": {},
   "source": [
    "# 【課題2】2次元配列を作ろう"
   ]
  },
  {
   "cell_type": "code",
   "execution_count": 14,
   "metadata": {},
   "outputs": [
    {
     "name": "stdout",
     "output_type": "stream",
     "text": [
      "[1.    1.005 1.01  1.015 1.02  1.025 1.03  1.035 1.04  1.045 1.05  1.055\n",
      " 1.06  1.065 1.07  1.075 1.08  1.085 1.09  1.095 1.1   1.105 1.11  1.115\n",
      " 1.12  1.125 1.13  1.135 1.14  1.145 1.15  1.155 1.16  1.165 1.17  1.175\n",
      " 1.18  1.185 1.19  1.195 1.2   1.205 1.21  1.215 1.22  1.225 1.23  1.235\n",
      " 1.24  1.245 1.25  1.255 1.26  1.265 1.27  1.275 1.28  1.285 1.29  1.295\n",
      " 1.3   1.305 1.31  1.315 1.32  1.325 1.33  1.335 1.34  1.345 1.35  1.355\n",
      " 1.36  1.365 1.37  1.375 1.38  1.385 1.39  1.395 1.4   1.405 1.41  1.415\n",
      " 1.42  1.425 1.43  1.435 1.44  1.445 1.45  1.455 1.46  1.465 1.47  1.475\n",
      " 1.48  1.485 1.49  1.495 1.5  ]\n"
     ]
    },
    {
     "data": {
      "text/html": [
       "<div>\n",
       "<style scoped>\n",
       "    .dataframe tbody tr th:only-of-type {\n",
       "        vertical-align: middle;\n",
       "    }\n",
       "\n",
       "    .dataframe tbody tr th {\n",
       "        vertical-align: top;\n",
       "    }\n",
       "\n",
       "    .dataframe thead th {\n",
       "        text-align: right;\n",
       "    }\n",
       "</style>\n",
       "<table border=\"1\" class=\"dataframe\">\n",
       "  <thead>\n",
       "    <tr style=\"text-align: right;\">\n",
       "      <th></th>\n",
       "      <th>0</th>\n",
       "      <th>1</th>\n",
       "      <th>2</th>\n",
       "      <th>3</th>\n",
       "      <th>4</th>\n",
       "      <th>5</th>\n",
       "      <th>6</th>\n",
       "      <th>7</th>\n",
       "      <th>8</th>\n",
       "      <th>9</th>\n",
       "      <th>...</th>\n",
       "      <th>91</th>\n",
       "      <th>92</th>\n",
       "      <th>93</th>\n",
       "      <th>94</th>\n",
       "      <th>95</th>\n",
       "      <th>96</th>\n",
       "      <th>97</th>\n",
       "      <th>98</th>\n",
       "      <th>99</th>\n",
       "      <th>100</th>\n",
       "    </tr>\n",
       "  </thead>\n",
       "  <tbody>\n",
       "    <tr>\n",
       "      <th>0</th>\n",
       "      <td>0.0</td>\n",
       "      <td>0.010</td>\n",
       "      <td>0.02</td>\n",
       "      <td>0.030</td>\n",
       "      <td>0.04</td>\n",
       "      <td>0.050</td>\n",
       "      <td>0.06</td>\n",
       "      <td>0.070</td>\n",
       "      <td>0.08</td>\n",
       "      <td>0.090</td>\n",
       "      <td>...</td>\n",
       "      <td>0.910</td>\n",
       "      <td>0.92</td>\n",
       "      <td>0.930</td>\n",
       "      <td>0.94</td>\n",
       "      <td>0.950</td>\n",
       "      <td>0.96</td>\n",
       "      <td>0.970</td>\n",
       "      <td>0.98</td>\n",
       "      <td>0.990</td>\n",
       "      <td>1.0</td>\n",
       "    </tr>\n",
       "    <tr>\n",
       "      <th>1</th>\n",
       "      <td>1.0</td>\n",
       "      <td>1.005</td>\n",
       "      <td>1.01</td>\n",
       "      <td>1.015</td>\n",
       "      <td>1.02</td>\n",
       "      <td>1.025</td>\n",
       "      <td>1.03</td>\n",
       "      <td>1.035</td>\n",
       "      <td>1.04</td>\n",
       "      <td>1.045</td>\n",
       "      <td>...</td>\n",
       "      <td>1.455</td>\n",
       "      <td>1.46</td>\n",
       "      <td>1.465</td>\n",
       "      <td>1.47</td>\n",
       "      <td>1.475</td>\n",
       "      <td>1.48</td>\n",
       "      <td>1.485</td>\n",
       "      <td>1.49</td>\n",
       "      <td>1.495</td>\n",
       "      <td>1.5</td>\n",
       "    </tr>\n",
       "  </tbody>\n",
       "</table>\n",
       "<p>2 rows × 101 columns</p>\n",
       "</div>"
      ],
      "text/plain": [
       "   0      1     2      3     4      5     6      7     8      9    ...    91   \\\n",
       "0  0.0  0.010  0.02  0.030  0.04  0.050  0.06  0.070  0.08  0.090  ...  0.910   \n",
       "1  1.0  1.005  1.01  1.015  1.02  1.025  1.03  1.035  1.04  1.045  ...  1.455   \n",
       "\n",
       "    92     93    94     95    96     97    98     99   100  \n",
       "0  0.92  0.930  0.94  0.950  0.96  0.970  0.98  0.990  1.0  \n",
       "1  1.46  1.465  1.47  1.475  1.48  1.485  1.49  1.495  1.5  \n",
       "\n",
       "[2 rows x 101 columns]"
      ]
     },
     "execution_count": 14,
     "metadata": {},
     "output_type": "execute_result"
    }
   ],
   "source": [
    "import pandas as pd\n",
    "data_y = 1/2 * data_x + 1\n",
    "print(data_y)\n",
    "data_x_y = np.array([data_x,data_y]).T\n",
    "data_x_y_T = data_x_y.T\n",
    "print(data_y)\n"
   ]
  },
  {
   "cell_type": "markdown",
   "metadata": {},
   "source": [
    "# 【課題3】勾配を求めよう"
   ]
  },
  {
   "cell_type": "code",
   "execution_count": 94,
   "metadata": {},
   "outputs": [
    {
     "name": "stdout",
     "output_type": "stream",
     "text": [
      "[ 0.5  0.5  0.5  0.5  0.5  0.5  0.5  0.5  0.5  0.5  0.5  0.5  0.5  0.5  0.5\n",
      "  0.5  0.5  0.5  0.5  0.5  0.5  0.5  0.5  0.5  0.5  0.5  0.5  0.5  0.5  0.5\n",
      "  0.5  0.5  0.5  0.5  0.5  0.5  0.5  0.5  0.5  0.5  0.5  0.5  0.5  0.5  0.5\n",
      "  0.5  0.5  0.5  0.5  0.5  0.5  0.5  0.5  0.5  0.5  0.5  0.5  0.5  0.5  0.5\n",
      "  0.5  0.5  0.5  0.5  0.5  0.5  0.5  0.5  0.5  0.5  0.5  0.5  0.5  0.5  0.5\n",
      "  0.5  0.5  0.5  0.5  0.5  0.5  0.5  0.5  0.5  0.5  0.5  0.5  0.5  0.5  0.5\n",
      "  0.5  0.5  0.5  0.5  0.5  0.5  0.5  0.5  0.5  0.5]\n"
     ]
    },
    {
     "data": {
      "text/plain": [
       "array([ 0.005,  0.005,  0.005,  0.005,  0.005,  0.005,  0.005,  0.005,\n",
       "        0.005,  0.005,  0.005,  0.005,  0.005,  0.005,  0.005,  0.005,\n",
       "        0.005,  0.005,  0.005,  0.005,  0.005,  0.005,  0.005,  0.005,\n",
       "        0.005,  0.005,  0.005,  0.005,  0.005,  0.005,  0.005,  0.005,\n",
       "        0.005,  0.005,  0.005,  0.005,  0.005,  0.005,  0.005,  0.005,\n",
       "        0.005,  0.005,  0.005,  0.005,  0.005,  0.005,  0.005,  0.005,\n",
       "        0.005,  0.005,  0.005,  0.005,  0.005,  0.005,  0.005,  0.005,\n",
       "        0.005,  0.005,  0.005,  0.005,  0.005,  0.005,  0.005,  0.005,\n",
       "        0.005,  0.005,  0.005,  0.005,  0.005,  0.005,  0.005,  0.005,\n",
       "        0.005,  0.005,  0.005,  0.005,  0.005,  0.005,  0.005,  0.005,\n",
       "        0.005,  0.005,  0.005,  0.005,  0.005,  0.005,  0.005,  0.005,\n",
       "        0.005,  0.005,  0.005,  0.005,  0.005,  0.005,  0.005,  0.005,\n",
       "        0.005,  0.005,  0.005,  0.005])"
      ]
     },
     "execution_count": 94,
     "metadata": {},
     "output_type": "execute_result"
    }
   ],
   "source": [
    "data_slope = []\n",
    "for i in range(0,100):\n",
    "     data_slope.append((data_x_y[1,i+1]-data_x_y[1,i])/(data_x_y[0,i+1]-data_x_y[0,i]))\n",
    "data_slope = np.round(data_slope,5)\n",
    "\n",
    "#numpy.diff(data_y) / numpy.diff(data_x)\n",
    "\n",
    "\n",
    "print(data_slope)\n",
    "numpy.diff(data_y)"
   ]
  },
  {
   "cell_type": "code",
   "execution_count": 87,
   "metadata": {},
   "outputs": [
    {
     "name": "stdout",
     "output_type": "stream",
     "text": [
      "[ 0.5  0.5  0.5  0.5  0.5  0.5  0.5  0.5  0.5  0.5  0.5  0.5  0.5  0.5  0.5\n",
      "  0.5  0.5  0.5  0.5  0.5  0.5  0.5  0.5  0.5  0.5  0.5  0.5  0.5  0.5  0.5\n",
      "  0.5  0.5  0.5  0.5  0.5  0.5  0.5  0.5  0.5  0.5  0.5  0.5  0.5  0.5  0.5\n",
      "  0.5  0.5  0.5  0.5  0.5  0.5  0.5  0.5  0.5  0.5  0.5  0.5  0.5  0.5  0.5\n",
      "  0.5  0.5  0.5  0.5  0.5  0.5  0.5  0.5  0.5  0.5  0.5  0.5  0.5  0.5  0.5\n",
      "  0.5  0.5  0.5  0.5  0.5  0.5  0.5  0.5  0.5  0.5  0.5  0.5  0.5  0.5  0.5\n",
      "  0.5  0.5  0.5  0.5  0.5  0.5  0.5  0.5  0.5  0.5  0.5]\n"
     ]
    },
    {
     "data": {
      "text/plain": [
       "101"
      ]
     },
     "execution_count": 87,
     "metadata": {},
     "output_type": "execute_result"
    }
   ],
   "source": [
    "data_slope_final = np.append(data_slope,0.5)\n",
    "print(data_slope_final)\n",
    "len(data_slope_final)"
   ]
  },
  {
   "cell_type": "markdown",
   "metadata": {},
   "source": [
    "# 【課題4】配列、勾配、グラフを作ろう"
   ]
  },
  {
   "cell_type": "code",
   "execution_count": 92,
   "metadata": {},
   "outputs": [
    {
     "name": "stdout",
     "output_type": "stream",
     "text": [
      "[[ 0.    0.01  0.02  0.03  0.04  0.05  0.06  0.07  0.08  0.09  0.1   0.11\n",
      "   0.12  0.13  0.14  0.15  0.16  0.17  0.18  0.19  0.2   0.21  0.22  0.23\n",
      "   0.24  0.25  0.26  0.27  0.28  0.29  0.3   0.31  0.32  0.33  0.34  0.35\n",
      "   0.36  0.37  0.38  0.39  0.4   0.41  0.42  0.43  0.44  0.45  0.46  0.47\n",
      "   0.48  0.49  0.5   0.51  0.52  0.53  0.54  0.55  0.56  0.57  0.58  0.59\n",
      "   0.6   0.61  0.62  0.63  0.64  0.65  0.66  0.67  0.68  0.69  0.7   0.71\n",
      "   0.72  0.73  0.74  0.75  0.76  0.77  0.78  0.79  0.8   0.81  0.82  0.83\n",
      "   0.84  0.85  0.86  0.87  0.88  0.89  0.9   0.91  0.92  0.93  0.94  0.95\n",
      "   0.96  0.97  0.98  0.99  1.  ]\n",
      " [ 0.    0.    0.    0.    0.    0.    0.    0.    0.01  0.01  0.01  0.01\n",
      "   0.01  0.02  0.02  0.02  0.03  0.03  0.03  0.04  0.04  0.04  0.05  0.05\n",
      "   0.06  0.06  0.07  0.07  0.08  0.08  0.09  0.1   0.1   0.11  0.12  0.12\n",
      "   0.13  0.14  0.14  0.15  0.16  0.17  0.18  0.18  0.19  0.2   0.21  0.22\n",
      "   0.23  0.24  0.25  0.26  0.27  0.28  0.29  0.3   0.31  0.32  0.34  0.35\n",
      "   0.36  0.37  0.38  0.4   0.41  0.42  0.44  0.45  0.46  0.48  0.49  0.5\n",
      "   0.52  0.53  0.55  0.56  0.58  0.59  0.61  0.62  0.64  0.66  0.67  0.69\n",
      "   0.71  0.72  0.74  0.76  0.77  0.79  0.81  0.83  0.85  0.86  0.88  0.9\n",
      "   0.92  0.94  0.96  0.98  1.  ]]\n"
     ]
    }
   ],
   "source": [
    "#配列の作成\n",
    "\n",
    "import numpy as np\n",
    "data_x2 = np.linspace(0,1,num=101,endpoint = True)\n",
    "data_y2 = data_x2**2\n",
    "data_x2_y2 = np.array([data_x2,data_y2])\n",
    "print(np.round(data_x2_y2,2))\n",
    "\n"
   ]
  },
  {
   "cell_type": "code",
   "execution_count": 93,
   "metadata": {},
   "outputs": [
    {
     "name": "stdout",
     "output_type": "stream",
     "text": [
      "[ 0.01  0.03  0.05  0.07  0.09  0.11  0.13  0.15  0.17  0.19  0.21  0.23\n",
      "  0.25  0.27  0.29  0.31  0.33  0.35  0.37  0.39  0.41  0.43  0.45  0.47\n",
      "  0.49  0.51  0.53  0.55  0.57  0.59  0.61  0.63  0.65  0.67  0.69  0.71\n",
      "  0.73  0.75  0.77  0.79  0.81  0.83  0.85  0.87  0.89  0.91  0.93  0.95\n",
      "  0.97  0.99  1.01  1.03  1.05  1.07  1.09  1.11  1.13  1.15  1.17  1.19\n",
      "  1.21  1.23  1.25  1.27  1.29  1.31  1.33  1.35  1.37  1.39  1.41  1.43\n",
      "  1.45  1.47  1.49  1.51  1.53  1.55  1.57  1.59  1.61  1.63  1.65  1.67\n",
      "  1.69  1.71  1.73  1.75  1.77  1.79  1.81  1.83  1.85  1.87  1.89  1.91\n",
      "  1.93  1.95  1.97  1.99  2.01]\n"
     ]
    }
   ],
   "source": [
    "#勾配の作成\n",
    "data_slope2 = []\n",
    "for i in range(0,100):\n",
    "     data_slope2.append((data_x2_y2[1,i+1]-data_x2_y2[1,i])/(data_x2_y2[0,i+1]-data_x2_y2[0,i]))\n",
    "data_slope2_final = np.append(data_slope2,2.01)\n",
    "print(np.round(data_slope2_final,5))"
   ]
  },
  {
   "cell_type": "code",
   "execution_count": 90,
   "metadata": {},
   "outputs": [
    {
     "data": {
      "text/plain": [
       "[<matplotlib.lines.Line2D at 0x1be24ba3ac8>]"
      ]
     },
     "execution_count": 90,
     "metadata": {},
     "output_type": "execute_result"
    },
    {
     "data": {
      "image/png": "[encoded data removed]",
      "text/plain": [
       "<Figure size 432x288 with 1 Axes>"
      ]
     },
     "metadata": {},
     "output_type": "display_data"
    }
   ],
   "source": [
    "#1日当たりのその日にもらうコメの数のグラフ\n",
    "import matplotlib.pyplot as plt\n",
    "%matplotlib inline\n",
    "\n",
    "plt.title(\"slope of y=x^2\")\n",
    "plt.xlabel(\"x\")\n",
    "plt.ylabel(\"slope\")\n",
    "plt.plot(data_x2,data_slope2_final, color='red') # 「配列名」のところにlist型変数を入れる"
   ]
  },
  {
   "cell_type": "markdown",
   "metadata": {},
   "source": [
    "# 【課題5】最小値の求め方を説明しよう"
   ]
  },
  {
   "cell_type": "markdown",
   "metadata": {},
   "source": [
    "前提として、y=x^2が下に凸な関数であることを利用する。\n",
    "\n",
    "①まず最初値となるxの値を求める。最小値となるxは勾配がゼロになる点である。\n",
    "そのため、適当なxで微分した結果算出される勾配分だけ、xを減少させることを繰り返す。\n",
    "これを勾配降下法と呼び、\n",
    "勾配がプラスである場合、xはマイナス方向に動き、\n",
    "勾配がマイナスである場合、xはプラス方向に動く。\n",
    "\n",
    "xが最小値の点に近づくと、勾配の政正負が逆転を繰り返す場合があり、\n",
    "この時には、xの値から勾配分の減少を繰り返しても最小値に到達しない可能性がある。\n",
    "そのため、勾配に0~1の係数を掛け合わせ、xの移動の幅を小さくしてゆく。\n",
    "\n",
    "②勾配をゼロにするxの値が最小値をとる際のxの値であり、y=x^2に代入する。"
   ]
  },
  {
   "cell_type": "markdown",
   "metadata": {},
   "source": [
    "# 【課題6】最小値を求めよう。"
   ]
  },
  {
   "cell_type": "markdown",
   "metadata": {},
   "source": [
    "y' = 2x + 5\n",
    "y' = 0 の時、x = -5/2\n",
    "この時、yは最小値で-25/4"
   ]
  },
  {
   "cell_type": "code",
   "execution_count": null,
   "metadata": {},
   "outputs": [],
   "source": []
  }
 ],
 "metadata": {
  "kernelspec": {
   "display_name": "Python 3",
   "language": "python",
   "name": "python3"
  },
  "language_info": {
   "codemirror_mode": {
    "name": "ipython",
    "version": 3
   },
   "file_extension": ".py",
   "mimetype": "text/x-python",
   "name": "python",
   "nbconvert_exporter": "python",
   "pygments_lexer": "ipython3",
   "version": "3.6.8"
  }
 },
 "nbformat": 4,
 "nbformat_minor": 2
}
