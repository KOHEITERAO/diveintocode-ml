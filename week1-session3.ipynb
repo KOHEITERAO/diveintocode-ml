{
 "cells": [
  {
   "cell_type": "markdown",
   "metadata": {},
   "source": [
    "# 栗饅頭問題"
   ]
  },
  {
   "cell_type": "code",
   "execution_count": 10,
   "metadata": {},
   "outputs": [
    {
     "name": "stdout",
     "output_type": "stream",
     "text": [
      "太陽系の体積を超えるまでにかかる時間:1090分\n"
     ]
    },
    {
     "data": {
      "text/plain": [
       "217"
      ]
     },
     "execution_count": 10,
     "metadata": {},
     "output_type": "execute_result"
    }
   ],
   "source": [
    "#栗饅頭の体積(立法メートル)\n",
    "import math\n",
    "manju_volume_0 = 4/3*0.05**3*math.pi\n",
    "\n",
    "#栗饅頭の体積のリスト\n",
    "manju_volume_list = [manju_volume_0]\n",
    "\n",
    "#増殖した回数\n",
    "count = 0\n",
    "\n",
    "#初期の体積を設定\n",
    "manju_volume_n = manju_volume_0 \n",
    "\n",
    "#饅頭の増加体積の上限を太陽系の大きさに設定\n",
    "solar_system_radius = 25000 * 9.461e+15\n",
    "solar_system_volume = 4/3 * solar_system_radius**3 * math.pi\n",
    "#max_volume = solar_system_volume\n",
    "\n",
    "\n",
    "#増殖を繰り返し、体積をリストに挿入\n",
    "while manju_volume_n <= solar_system_volume:\n",
    "    count += 1\n",
    "    manju_volume_n *= 2\n",
    "    manju_volume_list.append(manju_volume_n)\n",
    "\n",
    "#到達にかかる時間\n",
    "#2倍増殖にかかる時間\n",
    "time_to_multiply = 5\n",
    "time_to_fill = time_to_multiply * (count + 1)\n",
    "    \n",
    "print('太陽系の体積を超えるまでにかかる時間:' + str(time_to_fill) + '分')\n",
    "count"
   ]
  },
  {
   "cell_type": "markdown",
   "metadata": {},
   "source": [
    "# 栗饅頭問題一般化　関数作成"
   ]
  },
  {
   "cell_type": "code",
   "execution_count": 15,
   "metadata": {},
   "outputs": [],
   "source": [
    "#関数化\n",
    "\n",
    "def time_to_fill(volume_to_fill_with,volume_to_be_filled,time_to_multiply=5):\n",
    "    #物体の増加によって到達する体積のリスト\n",
    "    volume_list = [volume_to_fill_with]\n",
    "\n",
    "    #増殖した回数\n",
    "    count = 0\n",
    "    \n",
    "    #初期のボリュームを設定\n",
    "    volume_n = volume_to_fill_with \n",
    "    \n",
    "    \n",
    "    #増殖を繰り返し、体積をリストに挿入\n",
    "    while volume_n <= volume_to_be_filled:\n",
    "        count += 1\n",
    "        volume_n *= 2\n",
    "        volume_list.append(volume_n)\n",
    "    return  time_to_multiply * (count + 1)\n"
   ]
  },
  {
   "cell_type": "code",
   "execution_count": 17,
   "metadata": {},
   "outputs": [
    {
     "data": {
      "text/plain": [
       "1090"
      ]
     },
     "execution_count": 17,
     "metadata": {},
     "output_type": "execute_result"
    }
   ],
   "source": [
    "# 栗饅頭と太陽系で検算\n",
    "time_to_fill(4/3*0.05**3*math.pi,4/3 * (25000 * 9.461e+15)**3 * math.pi)"
   ]
  },
  {
   "cell_type": "code",
   "execution_count": null,
   "metadata": {},
   "outputs": [],
   "source": []
  },
  {
   "cell_type": "code",
   "execution_count": null,
   "metadata": {},
   "outputs": [],
   "source": []
  }
 ],
 "metadata": {
  "kernelspec": {
   "display_name": "Python 3",
   "language": "python",
   "name": "python3"
  },
  "language_info": {
   "codemirror_mode": {
    "name": "ipython",
    "version": 3
   },
   "file_extension": ".py",
   "mimetype": "text/x-python",
   "name": "python",
   "nbconvert_exporter": "python",
   "pygments_lexer": "ipython3",
   "version": "3.6.4"
  }
 },
 "nbformat": 4,
 "nbformat_minor": 2
}
