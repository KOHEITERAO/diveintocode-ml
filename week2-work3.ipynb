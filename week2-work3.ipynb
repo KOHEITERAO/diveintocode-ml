{
 "cells": [
  {
   "cell_type": "markdown",
   "metadata": {},
   "source": [
    "# week2-work3"
   ]
  },
  {
   "cell_type": "markdown",
   "metadata": {},
   "source": [
    "# 【課題１】内積を手計算しよう"
   ]
  },
  {
   "cell_type": "markdown",
   "metadata": {},
   "source": [
    "\n",
    "\n",
    "A = \\left(\n",
    "\\begin{matrix} \n",
    "6 & 29 & -20 \\\\ \n",
    "12 & 52 & 38 \\\\ \n",
    "-18 & -51 & -48 \n",
    "\\end{matrix} \n",
    "\\right)\n"
   ]
  },
  {
   "cell_type": "markdown",
   "metadata": {},
   "source": [
    "# 【課題2】1次元配列の内積をfor文で計算しよう"
   ]
  },
  {
   "cell_type": "code",
   "execution_count": 101,
   "metadata": {},
   "outputs": [
    {
     "data": {
      "text/plain": [
       "29"
      ]
     },
     "execution_count": 101,
     "metadata": {},
     "output_type": "execute_result"
    }
   ],
   "source": [
    "import numpy as np\n",
    "\n",
    "\n",
    "A = np.array([[-1,2,3],[4,-5,6],[7,8,-9]])\n",
    "B = np.array([[0,2,1],[0,2,-8],[2,9,-1]])\n",
    "\n",
    "process1 = []\n",
    "\n",
    "for i in range(0,3):\n",
    "    process1.append(A[0,i] * B[i,1])\n",
    "result = sum(process1)\n",
    "result"
   ]
  },
  {
   "cell_type": "markdown",
   "metadata": {},
   "source": [
    "# 【課題3】多次元配列の内積をfor分で計算しよう"
   ]
  },
  {
   "cell_type": "code",
   "execution_count": 102,
   "metadata": {},
   "outputs": [
    {
     "name": "stdout",
     "output_type": "stream",
     "text": [
      "[[  6  29 -20]\n",
      " [  0   0   0]\n",
      " [  0   0   0]]\n",
      "[[  6  29 -20]\n",
      " [ 12  52  38]\n",
      " [  0   0   0]]\n",
      "[[  6  29 -20]\n",
      " [ 12  52  38]\n",
      " [-18 -51 -48]]\n"
     ]
    },
    {
     "data": {
      "text/plain": [
       "array([[  6,  29, -20],\n",
       "       [ 12,  52,  38],\n",
       "       [-18, -51, -48]])"
      ]
     },
     "execution_count": 102,
     "metadata": {},
     "output_type": "execute_result"
    }
   ],
   "source": [
    "process2 = np.zeros((3,3),int)\n",
    "for i in range(0,3):\n",
    "    for j in range(0,3):\n",
    "        temp = []\n",
    "        for k in range(0,3):\n",
    "            temp.append(A[i,k] * B[k,j])\n",
    "        process2[i,j] = sum(temp)\n",
    "    print(process2)\n",
    "process2"
   ]
  },
  {
   "cell_type": "markdown",
   "metadata": {},
   "source": [
    "# 【課題4】内積をnp.dotで計算しよう"
   ]
  },
  {
   "cell_type": "code",
   "execution_count": 103,
   "metadata": {},
   "outputs": [
    {
     "data": {
      "text/plain": [
       "array([[  6,  29, -20],\n",
       "       [ 12,  52,  38],\n",
       "       [-18, -51, -48]])"
      ]
     },
     "execution_count": 103,
     "metadata": {},
     "output_type": "execute_result"
    }
   ],
   "source": [
    "np.dot(A,B)"
   ]
  },
  {
   "cell_type": "markdown",
   "metadata": {},
   "source": [
    "# 【課題5】内積ができないときはどうするか"
   ]
  },
  {
   "cell_type": "markdown",
   "metadata": {},
   "source": [
    "Aの列数とBの行数が一致していないため。"
   ]
  },
  {
   "cell_type": "code",
   "execution_count": 104,
   "metadata": {},
   "outputs": [
    {
     "data": {
      "text/plain": [
       "array([[ 46,  -4],\n",
       "       [-34,  73]])"
      ]
     },
     "execution_count": 104,
     "metadata": {},
     "output_type": "execute_result"
    }
   ],
   "source": [
    "A2 = np.array([[-1,2,3],[4,-5,6]])\n",
    "B2 = np.array([[-9,8,7],[6,-5,4]])\n",
    "np.dot(A2,B2.T)"
   ]
  },
  {
   "cell_type": "code",
   "execution_count": null,
   "metadata": {},
   "outputs": [],
   "source": []
  }
 ],
 "metadata": {
  "kernelspec": {
   "display_name": "Python 3",
   "language": "python",
   "name": "python3"
  },
  "language_info": {
   "codemirror_mode": {
    "name": "ipython",
    "version": 3
   },
   "file_extension": ".py",
   "mimetype": "text/x-python",
   "name": "python",
   "nbconvert_exporter": "python",
   "pygments_lexer": "ipython3",
   "version": "3.6.4"
  }
 },
 "nbformat": 4,
 "nbformat_minor": 2
}
