{
 "cells": [
  {
   "cell_type": "markdown",
   "metadata": {},
   "source": [
    "# 【課題1】練習のために特徴量とカテゴリを選択\n",
    "#### 選び方は合計18通りありますが、以下の組み合わせで練習することにします。irisデータセットをWeek3同様に取得した後、データフレームからこれらを抜き出してください。\n",
    "\n",
    "#### virgicolorとvirginica\n",
    "#### sepal_lengthとpetal_length"
   ]
  },
  {
   "cell_type": "code",
   "execution_count": 1,
   "metadata": {},
   "outputs": [],
   "source": [
    "from sklearn import datasets\n",
    "import pandas as pd\n",
    "iris = datasets.load_iris()\n",
    "X_original = pd.DataFrame(iris.data, columns=iris.feature_names)\n",
    "y_original = pd.DataFrame(iris.target, columns=[\"species\"])\n",
    "X_y_original = pd.concat([X_original.loc[:,['sepal length (cm)','petal length (cm)']],y_original], axis = 1)"
   ]
  },
  {
   "cell_type": "code",
   "execution_count": 2,
   "metadata": {},
   "outputs": [],
   "source": [
    "X_y = X_y_original[X_y_original['species'] > 0]"
   ]
  },
  {
   "cell_type": "code",
   "execution_count": 3,
   "metadata": {},
   "outputs": [
    {
     "data": {
      "text/html": [
       "<div>\n",
       "<style scoped>\n",
       "    .dataframe tbody tr th:only-of-type {\n",
       "        vertical-align: middle;\n",
       "    }\n",
       "\n",
       "    .dataframe tbody tr th {\n",
       "        vertical-align: top;\n",
       "    }\n",
       "\n",
       "    .dataframe thead th {\n",
       "        text-align: right;\n",
       "    }\n",
       "</style>\n",
       "<table border=\"1\" class=\"dataframe\">\n",
       "  <thead>\n",
       "    <tr style=\"text-align: right;\">\n",
       "      <th></th>\n",
       "      <th>sepal length (cm)</th>\n",
       "      <th>petal length (cm)</th>\n",
       "      <th>species</th>\n",
       "    </tr>\n",
       "  </thead>\n",
       "  <tbody>\n",
       "    <tr>\n",
       "      <th>50</th>\n",
       "      <td>7.0</td>\n",
       "      <td>4.7</td>\n",
       "      <td>1</td>\n",
       "    </tr>\n",
       "    <tr>\n",
       "      <th>51</th>\n",
       "      <td>6.4</td>\n",
       "      <td>4.5</td>\n",
       "      <td>1</td>\n",
       "    </tr>\n",
       "    <tr>\n",
       "      <th>52</th>\n",
       "      <td>6.9</td>\n",
       "      <td>4.9</td>\n",
       "      <td>1</td>\n",
       "    </tr>\n",
       "    <tr>\n",
       "      <th>53</th>\n",
       "      <td>5.5</td>\n",
       "      <td>4.0</td>\n",
       "      <td>1</td>\n",
       "    </tr>\n",
       "    <tr>\n",
       "      <th>54</th>\n",
       "      <td>6.5</td>\n",
       "      <td>4.6</td>\n",
       "      <td>1</td>\n",
       "    </tr>\n",
       "  </tbody>\n",
       "</table>\n",
       "</div>"
      ],
      "text/plain": [
       "    sepal length (cm)  petal length (cm)  species\n",
       "50                7.0                4.7        1\n",
       "51                6.4                4.5        1\n",
       "52                6.9                4.9        1\n",
       "53                5.5                4.0        1\n",
       "54                6.5                4.6        1"
      ]
     },
     "execution_count": 3,
     "metadata": {},
     "output_type": "execute_result"
    }
   ],
   "source": [
    "X_y.head()"
   ]
  },
  {
   "cell_type": "markdown",
   "metadata": {},
   "source": [
    "# 【問題2】データの分析\n",
    "#### まずはデータの分析を行いますが、これはWeek3の課題1で行いました。\n",
    "#### その際出力した散布図行列を見ることで、\n",
    "#### 先ほどの18通りそれぞれの散布図も確認できます。\n",
    "#### sepal_lengthとpetal_lengthを使い、\n",
    "#### virgicolorとvirginicaを分類するのは少し難しそうな状況であることが分かるはずです。\n",
    "\n",
    "#### ここでは復習を兼ねて、抜き出したデータの散布図と箱ひげ図（boxplot）、バイオリン図（violinplot）を表示してください。"
   ]
  },
  {
   "cell_type": "code",
   "execution_count": 4,
   "metadata": {},
   "outputs": [
    {
     "data": {
      "text/plain": [
       "<matplotlib.axes._subplots.AxesSubplot at 0x25593aa1f60>"
      ]
     },
     "execution_count": 4,
     "metadata": {},
     "output_type": "execute_result"
    },
    {
     "data": {
      "image/png": "[encoded data removed]",
      "text/plain": [
       "<Figure size 432x288 with 1 Axes>"
      ]
     },
     "metadata": {
      "needs_background": "light"
     },
     "output_type": "display_data"
    }
   ],
   "source": [
    "import seaborn as sns\n",
    "%matplotlib inline\n",
    "sns.boxplot(x='species',y='sepal length (cm)', data=X_y, palette='PRGn')"
   ]
  },
  {
   "cell_type": "code",
   "execution_count": 5,
   "metadata": {},
   "outputs": [
    {
     "data": {
      "text/plain": [
       "<matplotlib.axes._subplots.AxesSubplot at 0x25593dbd6d8>"
      ]
     },
     "execution_count": 5,
     "metadata": {},
     "output_type": "execute_result"
    },
    {
     "data": {
      "image/png": "[encoded data removed]",
      "text/plain": [
       "<Figure size 432x288 with 1 Axes>"
      ]
     },
     "metadata": {
      "needs_background": "light"
     },
     "output_type": "display_data"
    }
   ],
   "source": [
    "sns.boxplot(x='species',y='petal length (cm)', data=X_y, palette='PRGn')"
   ]
  },
  {
   "cell_type": "code",
   "execution_count": 6,
   "metadata": {},
   "outputs": [
    {
     "data": {
      "text/plain": [
       "<matplotlib.axes._subplots.AxesSubplot at 0x25593e45278>"
      ]
     },
     "execution_count": 6,
     "metadata": {},
     "output_type": "execute_result"
    },
    {
     "data": {
      "image/png": "[encoded data removed]",
      "text/plain": [
       "<Figure size 432x288 with 1 Axes>"
      ]
     },
     "metadata": {
      "needs_background": "light"
     },
     "output_type": "display_data"
    }
   ],
   "source": [
    "sns.violinplot(x='species',y='sepal length (cm)', data=X_y, palette='PRGn')"
   ]
  },
  {
   "cell_type": "code",
   "execution_count": 7,
   "metadata": {},
   "outputs": [
    {
     "data": {
      "text/plain": [
       "<matplotlib.axes._subplots.AxesSubplot at 0x25593ea6080>"
      ]
     },
     "execution_count": 7,
     "metadata": {},
     "output_type": "execute_result"
    },
    {
     "data": {
      "image/png": "[encoded data removed]",
      "text/plain": [
       "<Figure size 432x288 with 1 Axes>"
      ]
     },
     "metadata": {
      "needs_background": "light"
     },
     "output_type": "display_data"
    }
   ],
   "source": [
    "sns.violinplot(x='species',y='petal length (cm)', data=X_y, palette='PRGn')"
   ]
  },
  {
   "cell_type": "markdown",
   "metadata": {},
   "source": [
    "# 【問題2】前処理・学習用データと検証用データの分割\n",
    "#### 前処理の一貫として、学習用（train）データと検証用（validation）データの分割を行います。\n",
    "#### 今回は学習用データ75%、検証用データ25%として分割してください。\n",
    "\n",
    "#### データの分析まではPandasのDataFrame型を使用してきました。\n",
    "#### しかし、scikit-learnはNumPyのndarray型を想定して作られています。\n",
    "#### そのため、この段階でndarrayへの変換を行いましょう。\n",
    "#### 特徴量（説明変数）をX、正解（目的変数）をyというndarrayに格納します。"
   ]
  },
  {
   "cell_type": "code",
   "execution_count": 8,
   "metadata": {},
   "outputs": [
    {
     "data": {
      "text/plain": [
       "array([[5.1, 3. ],\n",
       "       [6.3, 4.7],\n",
       "       [5.9, 5.1],\n",
       "       [6.4, 5.6],\n",
       "       [6.2, 4.8],\n",
       "       [6.5, 5.1],\n",
       "       [7.4, 6.1],\n",
       "       [6.7, 5.6],\n",
       "       [7.7, 6.9],\n",
       "       [5.8, 5.1],\n",
       "       [6.7, 5. ],\n",
       "       [6.2, 4.5],\n",
       "       [4.9, 4.5],\n",
       "       [5.7, 5. ],\n",
       "       [6.7, 5.7],\n",
       "       [6.4, 4.5],\n",
       "       [6.4, 5.3],\n",
       "       [5.8, 4. ],\n",
       "       [6.1, 4.6],\n",
       "       [6.5, 4.6],\n",
       "       [6.7, 4.4],\n",
       "       [5.8, 4.1],\n",
       "       [5.5, 4.4],\n",
       "       [5.6, 4.1],\n",
       "       [5.7, 4.5],\n",
       "       [6.9, 5.1],\n",
       "       [7.2, 6.1],\n",
       "       [7. , 4.7],\n",
       "       [5.4, 4.5],\n",
       "       [6. , 4.5],\n",
       "       [6.3, 6. ],\n",
       "       [5.9, 4.2],\n",
       "       [6. , 4.5],\n",
       "       [6.1, 4.7],\n",
       "       [7.1, 5.9],\n",
       "       [5. , 3.5],\n",
       "       [5.5, 3.7],\n",
       "       [6.5, 5.5],\n",
       "       [7.3, 6.3],\n",
       "       [7.2, 5.8],\n",
       "       [7.7, 6.1],\n",
       "       [5.8, 3.9],\n",
       "       [6.1, 5.6],\n",
       "       [5.6, 3.6],\n",
       "       [6.9, 5.4],\n",
       "       [5.6, 3.9],\n",
       "       [5.7, 3.5],\n",
       "       [5.7, 4.1],\n",
       "       [6.5, 5.2],\n",
       "       [6.2, 5.4],\n",
       "       [6. , 5. ],\n",
       "       [5.9, 4.8],\n",
       "       [6.7, 5.7],\n",
       "       [7.7, 6.7],\n",
       "       [6.1, 4.9],\n",
       "       [6.6, 4.4],\n",
       "       [6.3, 4.4],\n",
       "       [7.9, 6.4],\n",
       "       [5.7, 4.2],\n",
       "       [5.5, 4. ],\n",
       "       [6.4, 5.3],\n",
       "       [6.7, 5.8],\n",
       "       [6. , 4. ],\n",
       "       [6. , 4.8],\n",
       "       [6.9, 5.7],\n",
       "       [6.4, 5.5],\n",
       "       [6.7, 4.7],\n",
       "       [6.1, 4. ],\n",
       "       [6.3, 5.1],\n",
       "       [5.2, 3.9],\n",
       "       [6.3, 5. ],\n",
       "       [7.7, 6.7],\n",
       "       [5.8, 5.1],\n",
       "       [6.2, 4.3],\n",
       "       [5.6, 4.2]])"
      ]
     },
     "execution_count": 8,
     "metadata": {},
     "output_type": "execute_result"
    }
   ],
   "source": [
    "from sklearn.model_selection import train_test_split\n",
    "X_y_train,X_y_test = train_test_split(X_y,test_size=0.25,random_state=0)\n",
    "\n",
    "#学習用\n",
    "X = X_y_train.iloc[:,0:2].values\n",
    "y = X_y_train.iloc[:,2].values\n",
    "#検証用\n",
    "X_test = X_y_test.iloc[:,0:2].values\n",
    "y_test = X_y_test.iloc[:,2].values\n",
    "X"
   ]
  },
  {
   "cell_type": "markdown",
   "metadata": {},
   "source": [
    "# 【問題3】前処理・標準化\n",
    "#### 分類精度をあげるための加工を行います。\n",
    "#### 手法ごとに適切な方法は異なりますが、ここでは一例として 標準化 を行うことにします。\n",
    "#### 標準化を行うライブラリもscikit-learnに用意されています。これを使って標準化してください。\n",
    "\n",
    "#### 注意点\n",
    "\n",
    "#### 標準化は学習用のデータでfitを行い、学習用、検証用双方のデータにtransformを行います。\n",
    "#### 検証用データは学習の段階には存在しない未知のデータの代わりなので、\n",
    "#### 標準化のための平均や標準偏差の計算に使ってはいけません。"
   ]
  },
  {
   "cell_type": "code",
   "execution_count": 9,
   "metadata": {},
   "outputs": [
    {
     "name": "stdout",
     "output_type": "stream",
     "text": [
      "[[-1.77029021 -2.29778941]\n",
      " [ 0.03817879 -0.24187257]\n",
      " [-0.56464421  0.24187257]\n",
      " [ 0.18888454  0.84655399]\n",
      " [-0.11252696 -0.12093628]\n",
      " [ 0.33959029  0.24187257]\n",
      " [ 1.69594204  1.45123542]\n",
      " [ 0.64100179  0.84655399]\n",
      " [ 2.14805929  2.4187257 ]\n",
      " [-0.71534996  0.24187257]\n",
      " [ 0.64100179  0.12093628]\n",
      " [-0.11252696 -0.48374514]\n",
      " [-2.07170171 -0.48374514]\n",
      " [-0.86605571  0.12093628]\n",
      " [ 0.64100179  0.96749028]\n",
      " [ 0.18888454 -0.48374514]\n",
      " [ 0.18888454  0.48374514]\n",
      " [-0.71534996 -1.08842656]\n",
      " [-0.26323271 -0.36280885]\n",
      " [ 0.33959029 -0.36280885]\n",
      " [ 0.64100179 -0.60468142]\n",
      " [-0.71534996 -0.96749028]\n",
      " [-1.16746721 -0.60468142]\n",
      " [-1.01676146 -0.96749028]\n",
      " [-0.86605571 -0.48374514]\n",
      " [ 0.94241329  0.24187257]\n",
      " [ 1.39453054  1.45123542]\n",
      " [ 1.09311904 -0.24187257]\n",
      " [-1.31817296 -0.48374514]\n",
      " [-0.41393846 -0.48374514]\n",
      " [ 0.03817879  1.33029913]\n",
      " [-0.56464421 -0.84655399]\n",
      " [-0.41393846 -0.48374514]\n",
      " [-0.26323271 -0.24187257]\n",
      " [ 1.24382479  1.20936285]\n",
      " [-1.92099596 -1.69310799]\n",
      " [-1.16746721 -1.45123542]\n",
      " [ 0.33959029  0.72561771]\n",
      " [ 1.54523629  1.69310799]\n",
      " [ 1.39453054  1.08842656]\n",
      " [ 2.14805929  1.45123542]\n",
      " [-0.71534996 -1.20936285]\n",
      " [-0.26323271  0.84655399]\n",
      " [-1.01676146 -1.5721717 ]\n",
      " [ 0.94241329  0.60468142]\n",
      " [-1.01676146 -1.20936285]\n",
      " [-0.86605571 -1.69310799]\n",
      " [-0.86605571 -0.96749028]\n",
      " [ 0.33959029  0.36280885]\n",
      " [-0.11252696  0.60468142]\n",
      " [-0.41393846  0.12093628]\n",
      " [-0.56464421 -0.12093628]\n",
      " [ 0.64100179  0.96749028]\n",
      " [ 2.14805929  2.17685313]\n",
      " [-0.26323271  0.        ]\n",
      " [ 0.49029604 -0.60468142]\n",
      " [ 0.03817879 -0.60468142]\n",
      " [ 2.44947079  1.81404427]\n",
      " [-0.86605571 -0.84655399]\n",
      " [-1.16746721 -1.08842656]\n",
      " [ 0.18888454  0.48374514]\n",
      " [ 0.64100179  1.08842656]\n",
      " [-0.41393846 -1.08842656]\n",
      " [-0.41393846 -0.12093628]\n",
      " [ 0.94241329  0.96749028]\n",
      " [ 0.18888454  0.72561771]\n",
      " [ 0.64100179 -0.24187257]\n",
      " [-0.26323271 -1.08842656]\n",
      " [ 0.03817879  0.24187257]\n",
      " [-1.61958446 -1.20936285]\n",
      " [ 0.03817879  0.12093628]\n",
      " [ 2.14805929  2.17685313]\n",
      " [-0.71534996  0.24187257]\n",
      " [-0.11252696 -0.72561771]\n",
      " [-1.01676146 -0.84655399]]\n"
     ]
    }
   ],
   "source": [
    "from sklearn.preprocessing import StandardScaler\n",
    "scl = StandardScaler()\n",
    "scl.fit(X)\n",
    "X_train_std = scl.transform(X)\n",
    "print(X_train_std)"
   ]
  },
  {
   "cell_type": "markdown",
   "metadata": {},
   "source": [
    "# 【問題4】学習と推定\n",
    "#### 最近傍法（k-nearest neighbors, k-nn）で学習を行います。scikit-learnの公式ドキュメントのExamplesを参考に、k-nnの学習を行ってください。ここで入力するのは学習用データです。\n",
    "\n",
    "#### sklearn.neighbors.KNeighborsClassifier — scikit-learn 0.20.2 documentation\n",
    "\n",
    "#### 学習が終わった後、検証用データをpredictメソッドに入力し、推定を行ってください。\n",
    "\n",
    "#### パラメータが複数ありますが、今はそれらの理解を重視しません。最も基本的な要素として、n_neighborsの数があるため、これは複数試してみましょう。デフォルトの5、および1と3を最低限行ってください。5の場合を5-nn、3の場合を3-nnのように呼びます。"
   ]
  },
  {
   "cell_type": "code",
   "execution_count": 10,
   "metadata": {},
   "outputs": [],
   "source": [
    "from sklearn.neighbors import KNeighborsClassifier\n",
    "\n",
    "\n",
    "#検証用\n",
    "X_test = X_y_test.iloc[:,0:2].values\n",
    "y_test = X_y_test.iloc[:,2].values\n",
    "\n",
    "#検証用の標準化\n",
    "X_test_std = scl.transform(X_test)"
   ]
  },
  {
   "cell_type": "code",
   "execution_count": 12,
   "metadata": {},
   "outputs": [
    {
     "name": "stdout",
     "output_type": "stream",
     "text": [
      "[1] score: 0.84\n",
      "[2] score: 0.88\n",
      "[3] score: 0.92\n",
      "[4] score: 0.92\n",
      "[5] score: 0.88\n",
      "[6] score: 0.92\n",
      "[7] score: 0.92\n",
      "[8] score: 0.92\n",
      "[9] score: 0.92\n",
      "[10] score: 0.92\n",
      "[11] score: 0.92\n",
      "[12] score: 0.92\n",
      "[13] score: 0.92\n",
      "[14] score: 0.88\n",
      "[15] score: 0.84\n",
      "[16] score: 0.84\n",
      "[17] score: 0.84\n",
      "[18] score: 0.84\n",
      "[19] score: 0.80\n",
      "[20] score: 0.84\n",
      "[21] score: 0.80\n",
      "[22] score: 0.80\n",
      "[23] score: 0.80\n",
      "[24] score: 0.80\n",
      "[25] score: 0.80\n",
      "[26] score: 0.84\n",
      "[27] score: 0.80\n",
      "[28] score: 0.80\n",
      "[29] score: 0.80\n",
      "[30] score: 0.80\n"
     ]
    },
    {
     "data": {
      "text/plain": [
       "[<matplotlib.lines.Line2D at 0x25594146208>]"
      ]
     },
     "execution_count": 12,
     "metadata": {},
     "output_type": "execute_result"
    },
    {
     "data": {
      "image/png": "[encoded data removed]",
      "text/plain": [
       "<Figure size 432x288 with 1 Axes>"
      ]
     },
     "metadata": {
      "needs_background": "light"
     },
     "output_type": "display_data"
    }
   ],
   "source": [
    "import matplotlib.pyplot as plt\n",
    "%matplotlib inline\n",
    "list_nn = []\n",
    "list_score = []\n",
    "for k in range(1, 31):\n",
    "    # KNeighborsClassifier\n",
    "    knc = KNeighborsClassifier(n_neighbors=k)\n",
    "    knc.fit(X_train_std, y)\n",
    "    # 予測\n",
    "    y_pred = knc.predict(X_test_std)\n",
    "    # 評価 R^2\n",
    "    score = knc.score(X_test_std, y_test)\n",
    "    print(\"[%d] score: {:.2f}\".format(score) % k)\n",
    "    list_nn.append(k)\n",
    "    list_score.append(score)\n",
    "\n",
    "plt.ylim(0.7, 1.0)\n",
    "plt.xlabel(\"n_neighbors\")\n",
    "plt.ylabel(\"score\")\n",
    "plt.plot(list_nn, list_score)"
   ]
  },
  {
   "cell_type": "markdown",
   "metadata": {},
   "source": [
    "# 【問題5】評価\n",
    "#### 検証用データの特徴量を入力して得られた推定値と、検証用データの正解値の近さを計算し、学習したモデルを評価します。\n",
    "\n",
    "#### 2値分類を評価するための指標値には accuracy、precision、recall、f値 があります。scikit-learnに用意されていますので、それぞれを計算してください。また、それぞれの意味について簡単に調査してマークダウンでまとめてください。\n",
    "#### sklearn.metrics.accuracy_score — scikit-learn 0.20.2 documentation\n",
    "#### sklearn.metrics.precision_score — scikit-learn 0.20.2 documentation\n",
    "#### sklearn.metrics.recall_score — scikit-learn 0.20.2 documentation\n",
    "#### sklearn.metrics.f1_score — scikit-learn 0.20.2 documentation\n",
    "#### precision、recall、f値を計算する背景には\n",
    "#### True Positive、True Negative、False Positive、False Negativeがあります。\n",
    "#### この4種類を計算し表示するものとして混合行列があります。\n",
    "#### これもscikit-learnを使い表示させてください。"
   ]
  },
  {
   "cell_type": "markdown",
   "metadata": {},
   "source": [
    "Accuracy\t正解率のこと。予測結果全体と、答えがどれぐらい一致しているかを判断する指標。\n",
    "<br>Precision\t適合率のこと。予測を正と判断した中で、答えも正のもの。\n",
    "<br>Recall\t再現率のこと。答えが正の中で、予測が正とされたもの。\n",
    "<br>F-measure\tF値のこと。予測精度の評価指標。PresicionとRecallの調和平均。\n",
    "\n",
    "※参考\n",
    "<br>ROC曲線\tReceiver Operating Characteristicのこと。\n",
    "<br>→縦軸にTrue Positive、横軸にFalse Positiveの割合を2次元プロットして点を線で連結した曲線\n",
    "<br>AUC\tArea Under the Curveのこと。ROC曲線の曲線よりしたの面積。分類器の精度評価に使う。"
   ]
  },
  {
   "cell_type": "code",
   "execution_count": 13,
   "metadata": {},
   "outputs": [
    {
     "name": "stdout",
     "output_type": "stream",
     "text": [
      "accuracy_score: 0.92\n",
      "precision_score: 0.85\n",
      "recall_score: 1.00\n",
      "f1_score: 0.92\n"
     ]
    }
   ],
   "source": [
    "#仮に再度k=3で再度モデル構築\n",
    "knc = KNeighborsClassifier(n_neighbors=3)\n",
    "knc.fit(X_train_std, y) \n",
    "y_pred = knc.predict(X_test_std)\n",
    "\n",
    "\n",
    "#精度指標を表示\n",
    "from sklearn.metrics import accuracy_score\n",
    "from sklearn.metrics import precision_score\n",
    "from sklearn.metrics import recall_score\n",
    "from sklearn.metrics import f1_score\n",
    "\n",
    "print(\"accuracy_score: {:.2f}\".format(accuracy_score(y_pred,y_test)))\n",
    "print(\"precision_score: {:.2f}\".format(precision_score(y_pred,y_test)))\n",
    "print(\"recall_score: {:.2f}\".format(recall_score(y_pred,y_test)))\n",
    "print(\"f1_score: {:.2f}\".format(f1_score(y_pred,y_test)))"
   ]
  },
  {
   "cell_type": "code",
   "execution_count": 14,
   "metadata": {},
   "outputs": [
    {
     "name": "stdout",
     "output_type": "stream",
     "text": [
      "[[11  2]\n",
      " [ 0 12]]\n"
     ]
    }
   ],
   "source": [
    "#混合行列を作成\n",
    "from sklearn.metrics import confusion_matrix\n",
    "print(confusion_matrix(y_test, y_pred))"
   ]
  },
  {
   "cell_type": "markdown",
   "metadata": {},
   "source": [
    "# 【問題6】可視化\n",
    "#### 評価の一貫として可視化を行います。\n",
    "#### 今回の場合2次元の特徴量で分類を行いましたから、散布図で可視化が可能です。\n",
    "#### どう分割するかという 決定領域 を描く関数を用意しました。\n",
    "#### これを利用して可視化を行ってください。\n",
    "#### 可能であればより見やすく改良も行いましょう。"
   ]
  },
  {
   "cell_type": "code",
   "execution_count": 15,
   "metadata": {},
   "outputs": [],
   "source": [
    "import matplotlib.pyplot as plt\n",
    "from matplotlib.colors import ListedColormap\n",
    "import matplotlib.patches as mpatches\n",
    "import numpy as np\n",
    "\n",
    "def decision_region(X_train, y_train, model, step=0.01, title='decision region', xlabel='xlabel', ylabel='ylabel', target_names=['versicolor', 'virginica']):\n",
    "    \"\"\"\n",
    "    2値分類を2次元の特徴量で学習したモデルの決定領域を描く。\n",
    "    背景の色が学習したモデルによる推定値から描画される。\n",
    "    散布図の点は学習用データである。\n",
    "\n",
    "    Parameters\n",
    "    ----------------\n",
    "    X_train : ndarray, shape(n_samples, 2)\n",
    "        学習用データの特徴量\n",
    "    y_train : ndarray, shape(n_samples,)\n",
    "        学習用データの正解値\n",
    "    model : object\n",
    "        学習したモデルのインスンタスを入れる\n",
    "    step : float, (default : 0.1)\n",
    "        推定値を計算する間隔を設定する\n",
    "    title : str\n",
    "        グラフのタイトルの文章を与える\n",
    "    xlabel, ylabel : str\n",
    "        軸ラベルの文章を与える\n",
    "    target_names= : list of str\n",
    "        凡例の一覧を与える\n",
    "    \"\"\"\n",
    "    # setting\n",
    "    scatter_color = ['red', 'blue']\n",
    "    contourf_color = ['pink', 'skyblue']\n",
    "    n_class = 2\n",
    "\n",
    "    # pred\n",
    "    mesh_f0, mesh_f1  = np.meshgrid(np.arange(np.min(X_train[:,0])-0.5, np.max(X_train[:,0])+0.5, step), np.arange(np.min(X_train[:,1])-0.5, np.max(X_train[:,1])+0.5, step))\n",
    "    mesh = np.c_[np.ravel(mesh_f0),np.ravel(mesh_f1)]\n",
    "    pred = model.predict(mesh).reshape(mesh_f0.shape)\n",
    "\n",
    "    # plot\n",
    "    plt.title(title)\n",
    "    plt.xlabel(xlabel)\n",
    "    plt.ylabel(ylabel)\n",
    "    plt.contourf(mesh_f0, mesh_f1, pred, n_class-1, cmap=ListedColormap(contourf_color))\n",
    "    plt.contour(mesh_f0, mesh_f1, pred, n_class-1, colors='y', linewidths=3, alpha=0.5)\n",
    "    for i, target in enumerate(set(y_train)):\n",
    "        plt.scatter(X_train[y_train==target][:, 0], X_train[y_train==target][:, 1], s=80, color=scatter_color[i], label=target_names[i], marker='o')\n",
    "    patches = [mpatches.Patch(color=scatter_color[i], label=target_names[i]) for i in range(n_class)]\n",
    "    plt.legend(handles=patches)\n",
    "    plt.legend()\n",
    "    plt.show()"
   ]
  },
  {
   "cell_type": "code",
   "execution_count": 16,
   "metadata": {},
   "outputs": [
    {
     "data": {
      "image/png": "[encoded data removed]",
      "text/plain": [
       "<Figure size 432x288 with 1 Axes>"
      ]
     },
     "metadata": {
      "needs_background": "light"
     },
     "output_type": "display_data"
    }
   ],
   "source": [
    "decision_region(X_train_std, y, knc)"
   ]
  },
  {
   "cell_type": "markdown",
   "metadata": {},
   "source": [
    "# 【問題7】他の手法の学習\n",
    "#### 以下の全ての手法について学習・推定・評価・可視化を行ってください。そして、指標値を１つの表にまとめてください。その表と決定領域を利用して結果を簡単に考察してください。どの手法がどの指標値が良かったかや、どういった決定領域になっていたかを述べてください。\n",
    "\n",
    "#### 最近傍法\n",
    "#### ロジスティック回帰\n",
    "#### SVM\n",
    "#### 決定木\n",
    "#### ランダムフォレスト\n",
    "#### 公式ドキュメントへのリンクは以下です。本来はそれぞれパラメータをチューニングするべきですが、まずはデフォルトで実行しましょう。\n",
    "\n",
    "sklearn.neighbors.KNeighborsClassifier — scikit-learn 0.20.2 documentation\n",
    "sklearn.linear_model.LogisticRegression — scikit-learn 0.20.2 documentation\n",
    "sklearn.svm.SVC — scikit-learn 0.20.2 documentation\n",
    "sklearn.tree.DecisionTreeClassifier — scikit-learn 0.20.2 documentation\n",
    "sklearn.ensemble.RandomForestClassifier — scikit-learn 0.20.2 documentation\n"
   ]
  },
  {
   "cell_type": "code",
   "execution_count": 17,
   "metadata": {},
   "outputs": [],
   "source": [
    "#各モデルのセット\n",
    "from sklearn.linear_model import LogisticRegression\n",
    "from sklearn.tree import DecisionTreeClassifier\n",
    "from sklearn.svm import SVC\n",
    "from sklearn.ensemble import RandomForestClassifier\n",
    "\n",
    "lr = LogisticRegression(random_state=0)\n",
    "svc = SVC(random_state=0)\n",
    "tree = DecisionTreeClassifier(random_state=0)\n",
    "rf = RandomForestClassifier(random_state=0)"
   ]
  },
  {
   "cell_type": "code",
   "execution_count": 18,
   "metadata": {},
   "outputs": [
    {
     "name": "stderr",
     "output_type": "stream",
     "text": [
      "C:\\Users\\kohei\\Anaconda3\\lib\\site-packages\\sklearn\\linear_model\\logistic.py:433: FutureWarning: Default solver will be changed to 'lbfgs' in 0.22. Specify a solver to silence this warning.\n",
      "  FutureWarning)\n",
      "C:\\Users\\kohei\\Anaconda3\\lib\\site-packages\\sklearn\\ensemble\\forest.py:246: FutureWarning: The default value of n_estimators will change from 10 in version 0.20 to 100 in 0.22.\n",
      "  \"10 in version 0.20 to 100 in 0.22.\", FutureWarning)\n"
     ]
    },
    {
     "data": {
      "text/plain": [
       "RandomForestClassifier(bootstrap=True, class_weight=None, criterion='gini',\n",
       "            max_depth=None, max_features='auto', max_leaf_nodes=None,\n",
       "            min_impurity_decrease=0.0, min_impurity_split=None,\n",
       "            min_samples_leaf=1, min_samples_split=2,\n",
       "            min_weight_fraction_leaf=0.0, n_estimators=10, n_jobs=None,\n",
       "            oob_score=False, random_state=0, verbose=0, warm_start=False)"
      ]
     },
     "execution_count": 18,
     "metadata": {},
     "output_type": "execute_result"
    }
   ],
   "source": [
    "#各モデルの学習\n",
    "lr.fit(X_train_std, y)\n",
    "svc.fit(X_train_std, y)\n",
    "tree.fit(X_train_std, y)\n",
    "rf.fit(X_train_std, y)"
   ]
  },
  {
   "cell_type": "code",
   "execution_count": 19,
   "metadata": {},
   "outputs": [
    {
     "data": {
      "text/html": [
       "<div>\n",
       "<style scoped>\n",
       "    .dataframe tbody tr th:only-of-type {\n",
       "        vertical-align: middle;\n",
       "    }\n",
       "\n",
       "    .dataframe tbody tr th {\n",
       "        vertical-align: top;\n",
       "    }\n",
       "\n",
       "    .dataframe thead th {\n",
       "        text-align: right;\n",
       "    }\n",
       "</style>\n",
       "<table border=\"1\" class=\"dataframe\">\n",
       "  <thead>\n",
       "    <tr style=\"text-align: right;\">\n",
       "      <th></th>\n",
       "      <th>knc</th>\n",
       "      <th>lr</th>\n",
       "      <th>svc</th>\n",
       "      <th>tree</th>\n",
       "      <th>rf</th>\n",
       "    </tr>\n",
       "  </thead>\n",
       "  <tbody>\n",
       "    <tr>\n",
       "      <th>accuracy</th>\n",
       "      <td>0.92</td>\n",
       "      <td>0.92</td>\n",
       "      <td>0.92</td>\n",
       "      <td>0.84</td>\n",
       "      <td>0.84</td>\n",
       "    </tr>\n",
       "    <tr>\n",
       "      <th>precision</th>\n",
       "      <td>1</td>\n",
       "      <td>1</td>\n",
       "      <td>1</td>\n",
       "      <td>0.909091</td>\n",
       "      <td>1</td>\n",
       "    </tr>\n",
       "    <tr>\n",
       "      <th>recall</th>\n",
       "      <td>0.846154</td>\n",
       "      <td>0.846154</td>\n",
       "      <td>0.846154</td>\n",
       "      <td>0.769231</td>\n",
       "      <td>0.692308</td>\n",
       "    </tr>\n",
       "    <tr>\n",
       "      <th>f1</th>\n",
       "      <td>0.916667</td>\n",
       "      <td>0.916667</td>\n",
       "      <td>0.916667</td>\n",
       "      <td>0.833333</td>\n",
       "      <td>0.818182</td>\n",
       "    </tr>\n",
       "  </tbody>\n",
       "</table>\n",
       "</div>"
      ],
      "text/plain": [
       "                knc        lr       svc      tree        rf\n",
       "accuracy       0.92      0.92      0.92      0.84      0.84\n",
       "precision         1         1         1  0.909091         1\n",
       "recall     0.846154  0.846154  0.846154  0.769231  0.692308\n",
       "f1         0.916667  0.916667  0.916667  0.833333  0.818182"
      ]
     },
     "execution_count": 19,
     "metadata": {},
     "output_type": "execute_result"
    }
   ],
   "source": [
    "#各モデルと名前をリストに格納\n",
    "SCORES = [accuracy_score,precision_score,recall_score,f1_score]\n",
    "SCORE_NAMES = ['accuracy','precision','recall','f1']\n",
    "MODELS =[knc,lr,svc,tree,rf]\n",
    "MODEL_NAMES =['knc','lr','svc','tree','rf']\n",
    "\n",
    "#各モデルの各精度指標のデータフレームを作成\n",
    "scores_datas = pd.DataFrame(index=SCORE_NAMES, columns=MODEL_NAMES)\n",
    "\n",
    "\n",
    "\n",
    "#各モデルの各スコアをデータフレームに記入してゆく\n",
    "for model,model_names in zip(MODELS,MODEL_NAMES):\n",
    "    for score,score_names in zip(SCORES,SCORE_NAMES):\n",
    "        scores_datas.at[score_names,model_names] = score(y_test,model.predict(X_test_std))\n",
    "scores_datas"
   ]
  },
  {
   "cell_type": "code",
   "execution_count": 20,
   "metadata": {},
   "outputs": [
    {
     "data": {
      "image/png": "[encoded data removed]",
      "text/plain": [
       "<Figure size 432x288 with 1 Axes>"
      ]
     },
     "metadata": {
      "needs_background": "light"
     },
     "output_type": "display_data"
    },
    {
     "data": {
      "image/png": "[encoded data removed]",
      "text/plain": [
       "<Figure size 432x288 with 1 Axes>"
      ]
     },
     "metadata": {
      "needs_background": "light"
     },
     "output_type": "display_data"
    },
    {
     "data": {
      "image/png": "[encoded data removed]",
      "text/plain": [
       "<Figure size 432x288 with 1 Axes>"
      ]
     },
     "metadata": {
      "needs_background": "light"
     },
     "output_type": "display_data"
    },
    {
     "data": {
      "image/png": "[encoded data removed]",
      "text/plain": [
       "<Figure size 432x288 with 1 Axes>"
      ]
     },
     "metadata": {
      "needs_background": "light"
     },
     "output_type": "display_data"
    },
    {
     "data": {
      "image/png": "[encoded data removed]",
      "text/plain": [
       "<Figure size 432x288 with 1 Axes>"
      ]
     },
     "metadata": {
      "needs_background": "light"
     },
     "output_type": "display_data"
    }
   ],
   "source": [
    "#各モデルの決定領域\n",
    "decision_region(X_train_std, y, knc,title='knc decision region')\n",
    "decision_region(X_train_std, y, lr,title='lr decision region')\n",
    "decision_region(X_train_std, y, svc,title='svc decision region')\n",
    "decision_region(X_train_std, y, tree,title='tree decision region')\n",
    "decision_region(X_train_std, y, rf,title='rf decision region')"
   ]
  },
  {
   "cell_type": "markdown",
   "metadata": {},
   "source": [
    "y_label、つまり、petal length(花びらの長さ)が境界となって、2種類の花が分類されている。\n",
    "加えて、全ての指標で高い精度での分類に成功しているのは、最近傍法、ロジスティック回帰、SVMである。"
   ]
  },
  {
   "cell_type": "markdown",
   "metadata": {},
   "source": [
    "# 【問題8】（アドバンス課題）各パラメータの意味\n",
    "#### 手法のパラメータはデフォルトとしましたが、実際に利用する上ではデフォルトは必ずしも良い設定ではありません。それぞれの意味を調査した上で複数の設定を試し、その結果を報告してください。"
   ]
  },
  {
   "cell_type": "markdown",
   "metadata": {},
   "source": [
    "# 【問題9】（アドバンス課題）全ての目的変数を使用して精度が高い手法\n",
    "#### ここまではアヤメの種類を減らし2値分類を行ってきましたが、3種類全てを使った多値分類を行います。学習と推定、評価を行って、最も精度の高い手法を探してください。\n",
    "\n",
    "#### ロジスティック回帰やSVMは2値分類を基本とした手法で、多値分類には工夫が必要ですが、\n",
    "#### scikit-learnでは意識せず動作させることができます。\n",
    "#### しかし、指標値precision、recall、f値はライブラリのパラメータをデフォルトから変更する必要があります。\n",
    "#### マイクロ平均やマクロ平均という考え方を使いますので、これについて調査して説明をまとめましょう。"
   ]
  },
  {
   "cell_type": "code",
   "execution_count": null,
   "metadata": {},
   "outputs": [],
   "source": []
  },
  {
   "cell_type": "code",
   "execution_count": null,
   "metadata": {},
   "outputs": [],
   "source": []
  }
 ],
 "metadata": {
  "kernelspec": {
   "display_name": "Python 3",
   "language": "python",
   "name": "python3"
  },
  "language_info": {
   "codemirror_mode": {
    "name": "ipython",
    "version": 3
   },
   "file_extension": ".py",
   "mimetype": "text/x-python",
   "name": "python",
   "nbconvert_exporter": "python",
   "pygments_lexer": "ipython3",
   "version": "3.6.8"
  }
 },
 "nbformat": 4,
 "nbformat_minor": 2
}
