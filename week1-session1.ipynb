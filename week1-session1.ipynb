{
 "cells": [
  {
   "cell_type": "markdown",
   "metadata": {},
   "source": [
    "# WEEK1 曾呂利新左衛門問題"
   ]
  },
  {
   "cell_type": "markdown",
   "metadata": {},
   "source": [
    "# 計算課題"
   ]
  },
  {
   "cell_type": "code",
   "execution_count": 1,
   "metadata": {},
   "outputs": [
    {
     "name": "stdout",
     "output_type": "stream",
     "text": [
      "コメの数： 1267650600228229401496703205376粒\n"
     ]
    }
   ],
   "source": [
    "rice = 1\n",
    "total_days = 100\n",
    "\n",
    "for i in range(total_days):\n",
    "    rice *=2\n",
    "\n",
    "print(\"コメの数： {}粒\".format(rice))"
   ]
  },
  {
   "cell_type": "code",
   "execution_count": 2,
   "metadata": {},
   "outputs": [
    {
     "name": "stdout",
     "output_type": "stream",
     "text": [
      "100日後のコメの数： 1267650600228229401496703205376粒\n"
     ]
    },
    {
     "data": {
      "text/plain": [
       "[1,\n",
       " 3,\n",
       " 7,\n",
       " 15,\n",
       " 31,\n",
       " 63,\n",
       " 127,\n",
       " 255,\n",
       " 511,\n",
       " 1023,\n",
       " 2047,\n",
       " 4095,\n",
       " 8191,\n",
       " 16383,\n",
       " 32767,\n",
       " 65535,\n",
       " 131071,\n",
       " 262143,\n",
       " 524287,\n",
       " 1048575,\n",
       " 2097151,\n",
       " 4194303,\n",
       " 8388607,\n",
       " 16777215,\n",
       " 33554431,\n",
       " 67108863,\n",
       " 134217727,\n",
       " 268435455,\n",
       " 536870911,\n",
       " 1073741823,\n",
       " 2147483647,\n",
       " 4294967295,\n",
       " 8589934591,\n",
       " 17179869183,\n",
       " 34359738367,\n",
       " 68719476735,\n",
       " 137438953471,\n",
       " 274877906943,\n",
       " 549755813887,\n",
       " 1099511627775,\n",
       " 2199023255551,\n",
       " 4398046511103,\n",
       " 8796093022207,\n",
       " 17592186044415,\n",
       " 35184372088831,\n",
       " 70368744177663,\n",
       " 140737488355327,\n",
       " 281474976710655,\n",
       " 562949953421311,\n",
       " 1125899906842623,\n",
       " 2251799813685247,\n",
       " 4503599627370495,\n",
       " 9007199254740991,\n",
       " 18014398509481983,\n",
       " 36028797018963967,\n",
       " 72057594037927935,\n",
       " 144115188075855871,\n",
       " 288230376151711743,\n",
       " 576460752303423487,\n",
       " 1152921504606846975,\n",
       " 2305843009213693951,\n",
       " 4611686018427387903,\n",
       " 9223372036854775807,\n",
       " 18446744073709551615,\n",
       " 36893488147419103231,\n",
       " 73786976294838206463,\n",
       " 147573952589676412927,\n",
       " 295147905179352825855,\n",
       " 590295810358705651711,\n",
       " 1180591620717411303423,\n",
       " 2361183241434822606847,\n",
       " 4722366482869645213695,\n",
       " 9444732965739290427391,\n",
       " 18889465931478580854783,\n",
       " 37778931862957161709567,\n",
       " 75557863725914323419135,\n",
       " 151115727451828646838271,\n",
       " 302231454903657293676543,\n",
       " 604462909807314587353087,\n",
       " 1208925819614629174706175,\n",
       " 2417851639229258349412351,\n",
       " 4835703278458516698824703,\n",
       " 9671406556917033397649407,\n",
       " 19342813113834066795298815,\n",
       " 38685626227668133590597631,\n",
       " 77371252455336267181195263,\n",
       " 154742504910672534362390527,\n",
       " 309485009821345068724781055,\n",
       " 618970019642690137449562111,\n",
       " 1237940039285380274899124223,\n",
       " 2475880078570760549798248447,\n",
       " 4951760157141521099596496895,\n",
       " 9903520314283042199192993791,\n",
       " 19807040628566084398385987583,\n",
       " 39614081257132168796771975167,\n",
       " 79228162514264337593543950335,\n",
       " 158456325028528675187087900671,\n",
       " 316912650057057350374175801343,\n",
       " 633825300114114700748351602687,\n",
       " 1267650600228229401496703205375]"
      ]
     },
     "execution_count": 2,
     "metadata": {},
     "output_type": "execute_result"
    }
   ],
   "source": [
    "\n",
    "#前提条件\n",
    "rice = 1\n",
    "total_days = 100\n",
    "\n",
    "# 1日にもらうコメの数（グラフに使用）\n",
    "daily_rice = []\n",
    "#　過去にもらったコメの累計数（グラフに使用）\n",
    "total_rice = []\n",
    "total_rice_count = 1\n",
    "\n",
    "\n",
    "for i in range(total_days):\n",
    "    daily_rice.append(rice) #リストに入れる　1日にもらうコメの数\n",
    "    total_rice.append(total_rice_count) #その日までにもらったコメの数のリスト \n",
    "    rice *=2 # その日もらうコメの数を計算 \n",
    "    total_rice_count += rice #その日までにもらったコメの数の累計を計算\n",
    "\n",
    "print(\"100日後のコメの数： {}粒\".format(rice))\n",
    "len(daily_rice)\n",
    "total_rice"
   ]
  },
  {
   "cell_type": "code",
   "execution_count": 3,
   "metadata": {},
   "outputs": [
    {
     "data": {
      "text/plain": [
       "[<matplotlib.lines.Line2D at 0x11514c828>]"
      ]
     },
     "execution_count": 3,
     "metadata": {},
     "output_type": "execute_result"
    },
    {
     "data": {
      "image/png": "[encoded data removed]",
      "text/plain": [
       "<Figure size 432x288 with 1 Axes>"
      ]
     },
     "metadata": {
      "needs_background": "light"
     },
     "output_type": "display_data"
    }
   ],
   "source": [
    "\"\"\"\n",
    "グラフを表示する。タイトルと軸ラベル名付き。\n",
    "\"\"\"\n",
    "import matplotlib.pyplot as plt\n",
    "%matplotlib inline\n",
    "\n",
    "\n",
    "#1日当たりのその日にもらうコメの数のグラフ\n",
    "plt.title(\"daily amount of rice\")\n",
    "plt.xlabel(\"days\")\n",
    "plt.ylabel(\"amount of rice\")\n",
    "plt.plot(daily_rice, color='red') # 「配列名」のところにlist型変数を入れる"
   ]
  },
  {
   "cell_type": "code",
   "execution_count": 4,
   "metadata": {},
   "outputs": [
    {
     "data": {
      "text/plain": [
       "[<matplotlib.lines.Line2D at 0x1151eb940>]"
      ]
     },
     "execution_count": 4,
     "metadata": {},
     "output_type": "execute_result"
    },
    {
     "data": {
      "image/png": "[encoded data removed]",
      "text/plain": [
       "<Figure size 432x288 with 1 Axes>"
      ]
     },
     "metadata": {
      "needs_background": "light"
     },
     "output_type": "display_data"
    }
   ],
   "source": [
    "#1日当たりの過去のもらうコメの数のグラフ\n",
    "plt.title(\"total amount of rice\")\n",
    "plt.xlabel(\"days\")\n",
    "plt.ylabel(\"amount of rice\")\n",
    "plt.plot(total_rice, color='red') # 「配列名」のところにlist型変数を入れる"
   ]
  },
  {
   "cell_type": "code",
   "execution_count": 20,
   "metadata": {},
   "outputs": [
    {
     "name": "stdout",
     "output_type": "stream",
     "text": [
      "[1, 2, 4, 8, 16, 32, 64, 128, 256, 512]\n",
      "[1, 3, 7, 15, 31, 63, 127, 255, 511, 1023]\n"
     ]
    }
   ],
   "source": [
    "def compute_sorori_shinzaemon(rice =1, day=100):\n",
    "    \"\"\"\n",
    "    曽呂利新左衛門の米の逸話を検証する関数。日にちごとの米の粒の数を計算する。\n",
    "\n",
    "    Parameteres\n",
    "    --------------\n",
    "    day: int\n",
    "        米を貰う日数 (default : 100)\n",
    "\n",
    "    Returns\n",
    "    --------------\n",
    "    list_n_grains : list\n",
    "        ある日に貰う米の数のリスト（リストの長さはdayに等しくなる）\n",
    "    list_total_grains : list\n",
    "        ある日までに累計で貰う米の数のリスト（リストの長さはdayに等しくなる）\n",
    "    \"\"\"\n",
    "\n",
    "    # 1日にもらうコメの数（グラフに使用）\n",
    "    list_n_grains = []\n",
    "    #　過去にもらったコメの累計数（グラフに使用）\n",
    "    list_total_grains = []\n",
    "    total_grains_count = rice \n",
    "\n",
    "    for i in range(day):\n",
    "        list_n_grains.append(rice) #リストに入れる　1日にもらうコメの数\n",
    "        list_total_grains.append(total_grains_count) #その日までにもらったコメの数のリスト \n",
    "        rice *=2 # その日もらうコメの数を計算 \n",
    "        total_grains_count += rice #その日までにもらったコメの数の累計を計算\n",
    "\n",
    "    return list_n_grains, list_total_grains\n",
    "\n",
    "\n",
    "list_n_grains, list_total_grains = compute_sorori_shinzaemon(day=10)\n",
    "\n",
    "\n",
    "print(list_n_grains)\n",
    "print(list_total_grains)"
   ]
  },
  {
   "cell_type": "code",
   "execution_count": 21,
   "metadata": {},
   "outputs": [
    {
     "data": {
      "text/plain": [
       "[<matplotlib.lines.Line2D at 0x115503d30>]"
      ]
     },
     "execution_count": 21,
     "metadata": {},
     "output_type": "execute_result"
    },
    {
     "data": {
      "image/png": "[encoded data removed]",
      "text/plain": [
       "<Figure size 432x288 with 1 Axes>"
      ]
     },
     "metadata": {
      "needs_background": "light"
     },
     "output_type": "display_data"
    }
   ],
   "source": [
    "#1日当たりのその日にもらうコメの数のグラフ\n",
    "plt.title(\"daily amount of rice\")\n",
    "plt.xlabel(\"day\")\n",
    "plt.ylabel(\"amount of rice\")\n",
    "plt.plot(list_n_grains, color='red') # 「配列名」のところにlist型変数を入れる"
   ]
  },
  {
   "cell_type": "code",
   "execution_count": 22,
   "metadata": {},
   "outputs": [
    {
     "data": {
      "text/plain": [
       "[<matplotlib.lines.Line2D at 0x115553400>]"
      ]
     },
     "execution_count": 22,
     "metadata": {},
     "output_type": "execute_result"
    },
    {
     "data": {
      "image/png": "[encoded data removed]",
      "text/plain": [
       "<Figure size 432x288 with 1 Axes>"
      ]
     },
     "metadata": {
      "needs_background": "light"
     },
     "output_type": "display_data"
    }
   ],
   "source": [
    "#1日当たりのもらったコメの数累計のグラフ\n",
    "plt.title(\"total amount of rice\")\n",
    "plt.xlabel(\"day\")\n",
    "plt.ylabel(\"total amount of rice\")\n",
    "plt.plot(list_total_grains, color='red') # 「配列名」のところにlist型変数を入れる"
   ]
  },
  {
   "cell_type": "code",
   "execution_count": 23,
   "metadata": {},
   "outputs": [
    {
     "name": "stdout",
     "output_type": "stream",
     "text": [
      "期間中にのコメの数： 1329227995784915872903807060280344575粒\n",
      "生活できる日数： 19663136032321240533158676398080日\n",
      "生活できる年数： 5.38716055680034e+28年\n"
     ]
    }
   ],
   "source": [
    "# 前提条件\n",
    "#機械学習コースを受講する期間にもらえる米粒の数\n",
    "\n",
    "list_n_grains, list_total_grains = compute_sorori_shinzaemon(day=120)\n",
    "got_rice = list_total_grains[-1] \n",
    "\n",
    "print(\"期間中にのコメの数： {}粒\".format(got_rice))\n",
    "\n",
    "#1日1人必要なコメの数\n",
    "needed_rice = 5200\n",
    "#受講している人数\n",
    "number_of_students = 13\n",
    "#1日に全員で必要となるコメの量\n",
    "minimun_rice = needed_rice * number_of_students\n",
    "\n",
    "\n",
    "#生活できる日数\n",
    "living_days = int(got_rice / minimun_rice)\n",
    "living_years = int(got_rice / minimun_rice)/365\n",
    "print(\"生活できる日数： {}日\".format(living_days))\n",
    "print(\"生活できる年数： {}年\".format(living_years))"
   ]
  },
  {
   "cell_type": "code",
   "execution_count": null,
   "metadata": {},
   "outputs": [],
   "source": []
  }
 ],
 "metadata": {
  "kernelspec": {
   "display_name": "Python 3",
   "language": "python",
   "name": "python3"
  },
  "language_info": {
   "codemirror_mode": {
    "name": "ipython",
    "version": 3
   },
   "file_extension": ".py",
   "mimetype": "text/x-python",
   "name": "python",
   "nbconvert_exporter": "python",
   "pygments_lexer": "ipython3",
   "version": "3.7.0"
  }
 },
 "nbformat": 4,
 "nbformat_minor": 2
}
