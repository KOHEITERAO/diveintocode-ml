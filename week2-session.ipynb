{
 "cells": [
  {
   "cell_type": "markdown",
   "metadata": {},
   "source": [
    "# week2-sesion1"
   ]
  },
  {
   "cell_type": "markdown",
   "metadata": {},
   "source": [
    "# 【課題１】断面図を描こう\n",
    "#### 前述の断面図をMatplotlibを使い作成してください。x=136の地点の赤い点や矢印も表示させてください。\n",
    "#### これ以降の問題では下りる過程の可視化を行いますが、その際にはこの断面図を活用してください。"
   ]
  },
  {
   "cell_type": "code",
   "execution_count": 2,
   "metadata": {},
   "outputs": [
    {
     "name": "stdout",
     "output_type": "stream",
     "text": [
      "[[    0.          35.134141   139.132082     0.           0.      ]\n",
      " [    1.          35.135826   139.129202     0.         322.      ]\n",
      " [    2.          35.13751    139.126322     0.         644.      ]\n",
      " ...\n",
      " [  297.          35.631284   138.271368  1973.99     95698.      ]\n",
      " [  298.          35.632947   138.268452  1841.36     96020.      ]\n",
      " [  299.          35.63461    138.265536  1725.8      96343.      ]]\n"
     ]
    }
   ],
   "source": [
    "import numpy as np\n",
    "np.set_printoptions(suppress=True) # 指数表示の禁止を設定する\n",
    "fuji = np.loadtxt(\"week2_session_mtfuji_data.csv\",delimiter=\",\", skiprows=1)\n",
    "print(fuji)"
   ]
  },
  {
   "cell_type": "code",
   "execution_count": 3,
   "metadata": {},
   "outputs": [
    {
     "data": {
      "text/plain": [
       "Text(100, 2000, 'you')"
      ]
     },
     "execution_count": 3,
     "metadata": {},
     "output_type": "execute_result"
    },
    {
     "data": {
      "image/png": "[encoded data removed]",
      "text/plain": [
       "<Figure size 432x288 with 1 Axes>"
      ]
     },
     "metadata": {
      "needs_background": "light"
     },
     "output_type": "display_data"
    }
   ],
   "source": [
    "import matplotlib.pyplot as plt\n",
    "%matplotlib inline\n",
    "\n",
    "#断面図のグラフの作成\n",
    "plt.title(\"Mt. Fuji\")\n",
    "plt.xlabel(\"x\")\n",
    "plt.ylabel(\"elevation(m)\")\n",
    "plt.plot(fuji[:,0],fuji[:,3], color='blue')\n",
    "\n",
    "#現在地の説明\n",
    "plt.plot(136, fuji[136,3],marker = 'o',color = 'red',markersize = 10)\n",
    "\n",
    "#矢印の作成\n",
    "plt.annotate(\n",
    "'you',\n",
    "xy=(136,fuji[136,3]),\n",
    "xytext=(100,2000),\n",
    "arrowprops = dict(facecolor='purple', width =1.0,headwidth=7.0,headlength=7.0,shrink=0.01\n",
    "))"
   ]
  },
  {
   "cell_type": "markdown",
   "metadata": {},
   "source": [
    "# 【課題2】勾配の計算の関数"
   ]
  },
  {
   "cell_type": "code",
   "execution_count": 10,
   "metadata": {},
   "outputs": [],
   "source": [
    "#勾配を計算する関数\n",
    "#input:今いる地点：x\n",
    "\n",
    "#output:今いる地点の勾配\n",
    "\n",
    "def gradient_calculate(x):\n",
    "    #今いる地点が0の場合\n",
    "    if x == 0:\n",
    "        print('1~299の整数で入力してください')\n",
    "\n",
    "    #今いる地点が0以外の場合\n",
    "    else:\n",
    "        #エラー処理\n",
    "        try:\n",
    "            #xの変化量\n",
    "            delta_x = fuji[x, 0] - fuji[x-1, 0]\n",
    "            #yの変化量\n",
    "            delta_y = fuji[x, 3] - fuji[x-1, 3]\n",
    "\n",
    "            return delta_y / delta_x\n",
    "        \n",
    "        #IndexError：範囲外のとき\n",
    "        except IndexError:\n",
    "            print('1~299の整数で入力してください')\n",
    "\n",
    "        #TypeError：型が違う時\n",
    "        except TypeError:\n",
    "            print('1~299の整数で入力してください')"
   ]
  },
  {
   "cell_type": "markdown",
   "metadata": {},
   "source": [
    "# 【課題3】勾配降下法の関数を作成\n",
    "#### 授業前課題では各地点での勾配を最初に求めました。\n",
    "#### しかし、暗闇の富士山の比喩を考えると、知ることができるのはあなたがいる地点の勾配だけです。\n",
    "\n",
    "#### ここでは「あなたが今いる地点x」と「その隣の地点x-1」の関係による勾配を求める関数を作成しましょう。この関数が返す値を「今いる地点の勾配」として次の問題で作成する関数内で使ってください。"
   ]
  },
  {
   "cell_type": "markdown",
   "metadata": {},
   "source": [
    "input:今いる地点のx\n",
    "output:移動すべき地点"
   ]
  },
  {
   "cell_type": "code",
   "execution_count": 15,
   "metadata": {},
   "outputs": [
    {
     "data": {
      "text/plain": [
       "85"
      ]
     },
     "execution_count": 15,
     "metadata": {},
     "output_type": "execute_result"
    }
   ],
   "source": [
    "#関数の作成\n",
    "\n",
    "def gradient_descent_method(x,a=0.3):\n",
    "    if x == 0:\n",
    "        return '1~299の整数で入力してください'\n",
    "\n",
    "    #今いる地点が0以外の場合\n",
    "    else:\n",
    "        #エラー処理\n",
    "        try:\n",
    "            return int(round(x - a * gradient_calculate(x)))\n",
    "\n",
    "       #IndexError：範囲外のとき\n",
    "        except IndexError:\n",
    "            print('1~299の整数で入力してください')\n",
    "\n",
    "       #TypeError：型が違う時\n",
    "        except TypeError:\n",
    "            print('1~299の整数で入力してください')\n",
    "\n",
    "#x=136を代入\n",
    "gradient_descent_method(136)"
   ]
  },
  {
   "cell_type": "code",
   "execution_count": 16,
   "metadata": {},
   "outputs": [
    {
     "data": {
      "text/plain": [
       "[85, 80, 79, 71, 86, 82, 77, 74, 73, 69]"
      ]
     },
     "execution_count": 16,
     "metadata": {},
     "output_type": "execute_result"
    }
   ],
   "source": [
    "#試行回数をn回ときめ、リストにxの変遷を格納してゆく。\n",
    "\n",
    "x_movement = []\n",
    "x_next = 136\n",
    "\n",
    "for i in range(0,100):\n",
    "    x_movement.append(gradient_descent_method(x_next)) #リストに計算結果を格納\n",
    "    x_next = gradient_descent_method(x_next)\n",
    "\n",
    "#リストを可視化\n",
    "x_movement[0:10]"
   ]
  },
  {
   "cell_type": "code",
   "execution_count": 17,
   "metadata": {},
   "outputs": [
    {
     "data": {
      "text/plain": [
       "[<matplotlib.lines.Line2D at 0x25b2175ac18>]"
      ]
     },
     "execution_count": 17,
     "metadata": {},
     "output_type": "execute_result"
    },
    {
     "data": {
      "image/png": "[encoded data removed]",
      "text/plain": [
       "<Figure size 432x288 with 1 Axes>"
      ]
     },
     "metadata": {
      "needs_background": "light"
     },
     "output_type": "display_data"
    }
   ],
   "source": [
    "import matplotlib.pyplot as plt\n",
    "%matplotlib inline\n",
    "\n",
    "plt.title(\"x_movement\")\n",
    "plt.xlabel(\"x\")\n",
    "plt.ylabel(\"x_movement\")\n",
    "plt.plot(x_movement, color='red') "
   ]
  },
  {
   "cell_type": "markdown",
   "metadata": {},
   "source": [
    "# 【課題4】初期値の変更"
   ]
  },
  {
   "cell_type": "code",
   "execution_count": 18,
   "metadata": {},
   "outputs": [
    {
     "data": {
      "image/png": "[encoded data removed]",
      "text/plain": [
       "<Figure size 432x288 with 1 Axes>"
      ]
     },
     "metadata": {
      "needs_background": "light"
     },
     "output_type": "display_data"
    }
   ],
   "source": [
    "#x=139スタート\n",
    "x_next = 139\n",
    "#xのリスト\n",
    "x_movement = [x_next]\n",
    "#学習率\n",
    "a = 0.1\n",
    "\n",
    "#試行回数をn回ときめ、リストにxの変遷を格納してゆく。\n",
    "for i in range(0,100):\n",
    "   x_movement.append(gradient_descent_method(x_next, a)) #リストに計算結果を格納\n",
    "   x_next = gradient_descent_method(x_next)\n",
    "\n",
    "#移動の過程のグラフ\n",
    "plt.title('Mt. Fuji')\n",
    "plt.xlabel('x')\n",
    "plt.ylabel('elevation(m)')\n",
    "plt.plot(fuji[:, 0], fuji[:, 3], color='blue')\n",
    "plt.plot(fuji[x_movement, 0], fuji[x_movement, 3], marker='o', color = 'red', markersize = 5);"
   ]
  },
  {
   "cell_type": "markdown",
   "metadata": {},
   "source": [
    "# ※未解決【課題5】アドバンスト課題　並列計算\n",
    "初期値によって結果が変化するわけですから、0から299まで全ての初期値の計算を行ってみるということを考えられます。\n",
    "for文を使い繰り返すこともできますが、NumPyの配列を工夫して使うことで複数の計算を同時に行うことができます。ここまで作成した関数を複数の初期値が同時に計算できるように改良してください。\n",
    "この改良は次のハイパーパラメータの検証にも応用することができます。\n",
    "ヒント\n",
    "NumPyは配列間で四則演算などの操作が可能です。以下のサンプルコードの3行目と4行目の挙動を参考にしてください。特に4行目の計算はブロードキャストと呼ばれるNumPy独特の機能であるため、各自でも調査してください。"
   ]
  },
  {
   "cell_type": "code",
   "execution_count": 19,
   "metadata": {},
   "outputs": [
    {
     "ename": "NameError",
     "evalue": "name 'all_elevation' is not defined",
     "output_type": "error",
     "traceback": [
      "\u001b[1;31m---------------------------------------------------------------------------\u001b[0m",
      "\u001b[1;31mNameError\u001b[0m                                 Traceback (most recent call last)",
      "\u001b[1;32m<ipython-input-19-12472961dc5d>\u001b[0m in \u001b[0;36m<module>\u001b[1;34m\u001b[0m\n\u001b[0;32m      4\u001b[0m \u001b[0mall_points\u001b[0m \u001b[1;33m=\u001b[0m \u001b[0marray3\u001b[0m \u001b[1;33m+\u001b[0m \u001b[1;36m1\u001b[0m\u001b[1;33m\u001b[0m\u001b[1;33m\u001b[0m\u001b[0m\n\u001b[0;32m      5\u001b[0m \u001b[1;31m#all_elevation = fuji[all_points.astype(int),3]\u001b[0m\u001b[1;33m\u001b[0m\u001b[1;33m\u001b[0m\u001b[1;33m\u001b[0m\u001b[0m\n\u001b[1;32m----> 6\u001b[1;33m \u001b[0mprint\u001b[0m\u001b[1;33m(\u001b[0m\u001b[0mall_points\u001b[0m\u001b[1;33m,\u001b[0m\u001b[0mall_elevation\u001b[0m\u001b[1;33m)\u001b[0m\u001b[1;33m\u001b[0m\u001b[1;33m\u001b[0m\u001b[0m\n\u001b[0m",
      "\u001b[1;31mNameError\u001b[0m: name 'all_elevation' is not defined"
     ]
    }
   ],
   "source": [
    "array1 = np.ones(300)\n",
    "array2 = np.arange(300)\n",
    "array3 = array1*array2\n",
    "all_points = array3 + 1\n",
    "#all_elevation = fuji[all_points.astype(int),3]\n",
    "print(all_points,all_elevation)"
   ]
  },
  {
   "cell_type": "code",
   "execution_count": 20,
   "metadata": {},
   "outputs": [
    {
     "ename": "IndexError",
     "evalue": "index 300 is out of bounds for axis 0 with size 300",
     "output_type": "error",
     "traceback": [
      "\u001b[1;31m---------------------------------------------------------------------------\u001b[0m",
      "\u001b[1;31mIndexError\u001b[0m                                Traceback (most recent call last)",
      "\u001b[1;32m<ipython-input-20-d84902eeea70>\u001b[0m in \u001b[0;36m<module>\u001b[1;34m\u001b[0m\n\u001b[0;32m     15\u001b[0m \u001b[1;31m#len(np.diff(all_points) - a * np.diff(fuji[all_points,3]) / np.diff(all_points))\u001b[0m\u001b[1;33m\u001b[0m\u001b[1;33m\u001b[0m\u001b[1;33m\u001b[0m\u001b[0m\n\u001b[0;32m     16\u001b[0m \u001b[1;33m\u001b[0m\u001b[0m\n\u001b[1;32m---> 17\u001b[1;33m \u001b[0mgradient_calculate_beta\u001b[0m\u001b[1;33m(\u001b[0m\u001b[0mall_points\u001b[0m\u001b[1;33m)\u001b[0m\u001b[1;33m\u001b[0m\u001b[1;33m\u001b[0m\u001b[0m\n\u001b[0m\u001b[0;32m     18\u001b[0m \u001b[0mall_points\u001b[0m\u001b[1;33m\u001b[0m\u001b[1;33m\u001b[0m\u001b[0m\n",
      "\u001b[1;32m<ipython-input-20-d84902eeea70>\u001b[0m in \u001b[0;36mgradient_calculate_beta\u001b[1;34m(x)\u001b[0m\n\u001b[0;32m     11\u001b[0m         \u001b[0mdelta_x\u001b[0m \u001b[1;33m=\u001b[0m \u001b[0mx\u001b[0m\u001b[1;33m\u001b[0m\u001b[1;33m\u001b[0m\u001b[0m\n\u001b[0;32m     12\u001b[0m         \u001b[1;31m#yの変化量\u001b[0m\u001b[1;33m\u001b[0m\u001b[1;33m\u001b[0m\u001b[1;33m\u001b[0m\u001b[0m\n\u001b[1;32m---> 13\u001b[1;33m         \u001b[0mdelta_y\u001b[0m \u001b[1;33m=\u001b[0m \u001b[0mfuji\u001b[0m\u001b[1;33m[\u001b[0m\u001b[0mx\u001b[0m\u001b[1;33m,\u001b[0m\u001b[1;36m3\u001b[0m\u001b[1;33m]\u001b[0m\u001b[1;33m-\u001b[0m\u001b[0mfuji\u001b[0m\u001b[1;33m[\u001b[0m\u001b[0mx\u001b[0m\u001b[1;33m-\u001b[0m\u001b[1;36m1\u001b[0m\u001b[1;33m,\u001b[0m\u001b[1;36m3\u001b[0m\u001b[1;33m]\u001b[0m\u001b[1;33m\u001b[0m\u001b[1;33m\u001b[0m\u001b[0m\n\u001b[0m\u001b[0;32m     14\u001b[0m     \u001b[1;32mreturn\u001b[0m \u001b[0mdelta_y\u001b[0m \u001b[1;33m/\u001b[0m \u001b[0mdelta_x\u001b[0m\u001b[1;33m\u001b[0m\u001b[1;33m\u001b[0m\u001b[0m\n\u001b[0;32m     15\u001b[0m \u001b[1;31m#len(np.diff(all_points) - a * np.diff(fuji[all_points,3]) / np.diff(all_points))\u001b[0m\u001b[1;33m\u001b[0m\u001b[1;33m\u001b[0m\u001b[1;33m\u001b[0m\u001b[0m\n",
      "\u001b[1;31mIndexError\u001b[0m: index 300 is out of bounds for axis 0 with size 300"
     ]
    }
   ],
   "source": [
    "#配列対応の関数への修正①\n",
    "#xは初期配列である\n",
    "def gradient_calculate_beta(x):\n",
    "    x = x.astype(int)\n",
    "    #xが配列ではない場合。\n",
    "    if type(x) != np.ndarray:\n",
    "        print('配列を入力してください')\n",
    "    #xが配列ではあるが、すべてが整数型ではない場合。\n",
    "    else:\n",
    "        #xの変化量\n",
    "        delta_x = x\n",
    "        #yの変化量\n",
    "        delta_y = fuji[x,3]-fuji[x-1,3]\n",
    "    return delta_y / delta_x\n",
    "#len(np.diff(all_points) - a * np.diff(fuji[all_points,3]) / np.diff(all_points))\n",
    "\n",
    "gradient_calculate_beta(all_points)\n",
    "all_points"
   ]
  },
  {
   "cell_type": "code",
   "execution_count": 21,
   "metadata": {},
   "outputs": [
    {
     "ename": "SyntaxError",
     "evalue": "invalid syntax (<ipython-input-21-3b27a397554a>, line 6)",
     "output_type": "error",
     "traceback": [
      "\u001b[1;36m  File \u001b[1;32m\"<ipython-input-21-3b27a397554a>\"\u001b[1;36m, line \u001b[1;32m6\u001b[0m\n\u001b[1;33m    return np.\u001b[0m\n\u001b[1;37m              ^\u001b[0m\n\u001b[1;31mSyntaxError\u001b[0m\u001b[1;31m:\u001b[0m invalid syntax\n"
     ]
    }
   ],
   "source": [
    "#配列対応の関数の作成②\n",
    "def gradient_descent_method_beta(x, a=0.2):\n",
    "    if type(x) != np.ndarray:\n",
    "        return '配列を入力して下さい' #配列内に対象外の数値やデータが入っていた場合の例外処理は？\n",
    "    else:\n",
    "        return np.\n",
    "\n",
    "\n",
    "gradient_descent_method_beta(all_points, a=0.2)"
   ]
  },
  {
   "cell_type": "code",
   "execution_count": 22,
   "metadata": {},
   "outputs": [
    {
     "ename": "NameError",
     "evalue": "name 'gradient_descent_method_beta' is not defined",
     "output_type": "error",
     "traceback": [
      "\u001b[1;31m---------------------------------------------------------------------------\u001b[0m",
      "\u001b[1;31mNameError\u001b[0m                                 Traceback (most recent call last)",
      "\u001b[1;32m<ipython-input-22-24d1c7fc72ae>\u001b[0m in \u001b[0;36m<module>\u001b[1;34m\u001b[0m\n\u001b[0;32m      6\u001b[0m \u001b[1;32mfor\u001b[0m \u001b[0mi\u001b[0m \u001b[1;32min\u001b[0m \u001b[0mrange\u001b[0m\u001b[1;33m(\u001b[0m\u001b[1;36m0\u001b[0m\u001b[1;33m,\u001b[0m\u001b[1;36m5\u001b[0m\u001b[1;33m)\u001b[0m\u001b[1;33m:\u001b[0m\u001b[1;33m\u001b[0m\u001b[1;33m\u001b[0m\u001b[0m\n\u001b[0;32m      7\u001b[0m     \u001b[0mx_movement\u001b[0m \u001b[1;33m=\u001b[0m \u001b[0mnp\u001b[0m\u001b[1;33m.\u001b[0m\u001b[0mconcatenate\u001b[0m\u001b[1;33m(\u001b[0m\u001b[1;33m(\u001b[0m\u001b[0mx_movement\u001b[0m\u001b[1;33m,\u001b[0m \u001b[0mx_next\u001b[0m\u001b[1;33m)\u001b[0m\u001b[1;33m,\u001b[0m\u001b[0maxis\u001b[0m \u001b[1;33m=\u001b[0m\u001b[1;36m0\u001b[0m\u001b[1;33m)\u001b[0m\u001b[1;33m\u001b[0m\u001b[1;33m\u001b[0m\u001b[0m\n\u001b[1;32m----> 8\u001b[1;33m     \u001b[0mx_next\u001b[0m \u001b[1;33m=\u001b[0m \u001b[1;33m(\u001b[0m\u001b[0mgradient_descent_method_beta\u001b[0m\u001b[1;33m(\u001b[0m\u001b[0mx_next\u001b[0m\u001b[1;33m)\u001b[0m\u001b[1;33m)\u001b[0m\u001b[1;33m.\u001b[0m\u001b[0mastype\u001b[0m\u001b[1;33m(\u001b[0m\u001b[0mint\u001b[0m\u001b[1;33m)\u001b[0m\u001b[1;33m\u001b[0m\u001b[1;33m\u001b[0m\u001b[0m\n\u001b[0m\u001b[0;32m      9\u001b[0m \u001b[1;31m#   print(gradient_descent_method(x_next))#リストに計算結果を格納\u001b[0m\u001b[1;33m\u001b[0m\u001b[1;33m\u001b[0m\u001b[1;33m\u001b[0m\u001b[0m\n\u001b[0;32m     10\u001b[0m \u001b[1;31m#\u001b[0m\u001b[1;33m\u001b[0m\u001b[1;33m\u001b[0m\u001b[1;33m\u001b[0m\u001b[0m\n",
      "\u001b[1;31mNameError\u001b[0m: name 'gradient_descent_method_beta' is not defined"
     ]
    }
   ],
   "source": [
    "#試行回数をn回ときめ、リストにxの変遷を格納してゆく。\n",
    "\n",
    "x_movement = []\n",
    "x_next = all_points.astype(int)\n",
    "\n",
    "for i in range(0,5):\n",
    "    x_movement = np.concatenate((x_movement, x_next),axis =0)\n",
    "    x_next = (gradient_descent_method_beta(x_next)).astype(int)\n",
    "#   print(gradient_descent_method(x_next))#リストに計算結果を格納\n",
    "#    \n",
    "\n",
    "#リストを可視化\n",
    "x_movement[1]"
   ]
  },
  {
   "cell_type": "markdown",
   "metadata": {},
   "source": [
    "# 【問題6】（アドバンス課題）ハイパーパラメータの検証\n",
    "勾配降下法の中で \n",
    "α\n",
    " はハイパーパラメータであり、前の問題でも複数試して良い結果が得られるものを探しました。これを発展させ、\n",
    "α\n",
    " を一定間隔で変化させていき、それぞれの山の下り方の比較を行ってください。うまい下り方となる \n",
    "α\n",
    " を見つけるだけではなく、大きかったり小さかった時にどうなるのかを検証して説明してください。\n",
    "\n",
    "ヒント\n",
    "\n",
    "検証のための一例として、横軸を \n",
    "α\n",
    " 、縦軸を一定回の繰り返し後のxや標高にした散布図を描いてみるという方法が考えられます。"
   ]
  },
  {
   "cell_type": "markdown",
   "metadata": {},
   "source": [
    "# 【問題7】（アドバンス課題）局所最適解\n",
    "山を下りることで最終的には海（標高が0）に向かいたいですが、勾配降下法は「局所的最適解」となる地点にしか到達しない可能性があります。局所的最適解とはどういったもので、それへの対策はどういったことができるかを調査して説明してください。\n",
    "\n",
    "言葉だけではなく、作成した関数も活用できると良いでしょう。"
   ]
  },
  {
   "cell_type": "code",
   "execution_count": null,
   "metadata": {},
   "outputs": [],
   "source": []
  },
  {
   "cell_type": "code",
   "execution_count": null,
   "metadata": {},
   "outputs": [],
   "source": []
  }
 ],
 "metadata": {
  "kernelspec": {
   "display_name": "Python 3",
   "language": "python",
   "name": "python3"
  },
  "language_info": {
   "codemirror_mode": {
    "name": "ipython",
    "version": 3
   },
   "file_extension": ".py",
   "mimetype": "text/x-python",
   "name": "python",
   "nbconvert_exporter": "python",
   "pygments_lexer": "ipython3",
   "version": "3.6.8"
  }
 },
 "nbformat": 4,
 "nbformat_minor": 2
}
