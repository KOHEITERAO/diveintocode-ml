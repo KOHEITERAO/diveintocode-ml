{
 "cells": [
  {
   "cell_type": "markdown",
   "metadata": {},
   "source": [
    "# セグメンテーション\n",
    "KaggleのTGS Salt Identification Challengeのデータセットを使用し、セグメンテーションを行います。\n",
    "\n",
    "TGS Salt Identification Challenge | Kaggle\n",
    "\n",
    "セグメンテーション手法としてU-Net[1]を使います。\n",
    "\n",
    "[1]O.Ronneberger, P.Fischer, T.Brox. U-Net: Convolutional Networks for Biomedical Image Segmentation. Medical Image Computing and Computer-Assisted Intervention (MICCAI), Springer, LNCS, Vol.9351: 234–241, 2015\n",
    "\n",
    "https://arxiv.org/pdf/1505.04597.pdf"
   ]
  },
  {
   "cell_type": "markdown",
   "metadata": {},
   "source": [
    "## グーグルコラボを利用する際の事前処理"
   ]
  },
  {
   "cell_type": "markdown",
   "metadata": {
    "colab_type": "text",
    "id": "yA7AEmT1ZjdD"
   },
   "source": [
    "#### Google Drive をマウント"
   ]
  },
  {
   "cell_type": "markdown",
   "metadata": {
    "colab_type": "text",
    "id": "T62Ovm7JZggH"
   },
   "source": [
    "Google Colab 自体も Google Drive 上のただの Jupyter ファイルみたいなものなので、\n",
    "データもそこで管理できるのであれば管理が統一されて便利。\n",
    "参考にしたのはこちらGoogle Colab Free GPU Tutorial - Medium\n",
    "まずは、必要なパッケージを取得しておく。"
   ]
  },
  {
   "cell_type": "markdown",
   "metadata": {
    "colab_type": "text",
    "id": "_oVepNRJZjiI"
   },
   "source": []
  },
  {
   "cell_type": "code",
   "execution_count": 0,
   "metadata": {
    "colab": {
     "base_uri": "https://localhost:8080/",
     "height": 136
    },
    "colab_type": "code",
    "id": "Yfv-OlJ0Ytbo",
    "outputId": "0772e072-eb51-4089-bc78-a06471ca27a0"
   },
   "outputs": [
    {
     "name": "stdout",
     "output_type": "stream",
     "text": [
      "E: Package 'python-software-properties' has no installation candidate\n",
      "Selecting previously unselected package google-drive-ocamlfuse.\n",
      "(Reading database ... 130912 files and directories currently installed.)\n",
      "Preparing to unpack .../google-drive-ocamlfuse_0.7.3-0ubuntu3~ubuntu18.04.1_amd64.deb ...\n",
      "Unpacking google-drive-ocamlfuse (0.7.3-0ubuntu3~ubuntu18.04.1) ...\n",
      "Setting up google-drive-ocamlfuse (0.7.3-0ubuntu3~ubuntu18.04.1) ...\n",
      "Processing triggers for man-db (2.8.3-2ubuntu0.1) ...\n"
     ]
    }
   ],
   "source": [
    "!apt-get install -y -qq software-properties-common python-software-properties module-init-tools\n",
    "!add-apt-repository -y ppa:alessandro-strada/ppa 2>&1 > /dev/null\n",
    "!apt-get update -qq 2>&1 > /dev/null\n",
    "!apt-get -y install -qq google-drive-ocamlfuse fuse"
   ]
  },
  {
   "cell_type": "markdown",
   "metadata": {
    "colab_type": "text",
    "id": "MtM5OmndZqcw"
   },
   "source": [
    "#### 以下を実行すると、認証情報を取得するための許可を求められるので、許可してトークンを発行し、テキストボックスに貼り付ける。"
   ]
  },
  {
   "cell_type": "code",
   "execution_count": 0,
   "metadata": {
    "colab": {},
    "colab_type": "code",
    "id": "Kfr15e17Y6qO"
   },
   "outputs": [],
   "source": [
    "from google.colab import auth\n",
    "auth.authenticate_user()\n",
    "from oauth2client.client import GoogleCredentials\n",
    "creds = GoogleCredentials.get_application_default()"
   ]
  },
  {
   "cell_type": "markdown",
   "metadata": {
    "colab_type": "text",
    "id": "MJ9h9beSZv0q"
   },
   "source": [
    "#### 以下実行により、今度は google-drive-ocamlfuse によるアクセスの許可を聞かれる。これも許可する。"
   ]
  },
  {
   "cell_type": "code",
   "execution_count": 0,
   "metadata": {
    "colab": {
     "base_uri": "https://localhost:8080/",
     "height": 105
    },
    "colab_type": "code",
    "id": "wq1rlKn1ZE47",
    "outputId": "6667cbb4-b036-4afa-d4ad-3ccb7bf67b3c"
   },
   "outputs": [
    {
     "name": "stdout",
     "output_type": "stream",
     "text": [
      "Please, open the following URL in a web browser: https://accounts.google.com/o/oauth2/auth?client_id=32555940559.apps.googleusercontent.com&redirect_uri=urn%3Aietf%3Awg%3Aoauth%3A2.0%3Aoob&scope=https%3A%2F%2Fwww.googleapis.com%2Fauth%2Fdrive&response_type=code&access_type=offline&approval_prompt=force\n",
      "··········\n",
      "Please, open the following URL in a web browser: https://accounts.google.com/o/oauth2/auth?client_id=32555940559.apps.googleusercontent.com&redirect_uri=urn%3Aietf%3Awg%3Aoauth%3A2.0%3Aoob&scope=https%3A%2F%2Fwww.googleapis.com%2Fauth%2Fdrive&response_type=code&access_type=offline&approval_prompt=force\n",
      "Please enter the verification code: Access token retrieved correctly.\n"
     ]
    }
   ],
   "source": [
    "import getpass\n",
    "!google-drive-ocamlfuse -headless -id={creds.client_id} -secret={creds.client_secret} < /dev/null 2>&1 | grep URL\n",
    "vcode = getpass.getpass()\n",
    "!echo {vcode} | google-drive-ocamlfuse -headless -id={creds.client_id} -secret={creds.client_secret}"
   ]
  },
  {
   "cell_type": "markdown",
   "metadata": {
    "colab_type": "text",
    "id": "erBWGIc-Z22f"
   },
   "source": [
    "#### drive 以下に マイドライブ以下のファイル/フォルダ全て がマウントされる。"
   ]
  },
  {
   "cell_type": "code",
   "execution_count": 0,
   "metadata": {
    "colab": {
     "base_uri": "https://localhost:8080/",
     "height": 102
    },
    "colab_type": "code",
    "id": "K6FOmRsaZFYm",
    "outputId": "86508af4-8fb9-4655-d93b-7574403a5d62"
   },
   "outputs": [
    {
     "name": "stdout",
     "output_type": "stream",
     "text": [
      " AIジョブカレ\t     WinPython-64bit-3.6.4.0Qt5b5\n",
      "'Colab Notebooks'    松尾研究室講座\n",
      " images.zip\t     無題のスプレッドシート.ods\n",
      "'Jupyter Notebook'   無題のドキュメント.odt\n",
      " masks.zip\t     論文テンプレート.pptx（復元済み）.pptx\n"
     ]
    }
   ],
   "source": [
    "!mkdir -p drive\n",
    "!google-drive-ocamlfuse drive\n",
    "!ls drive"
   ]
  },
  {
   "cell_type": "markdown",
   "metadata": {
    "colab_type": "text",
    "id": "xyAn8G5CZ4cA"
   },
   "source": [
    "**<現在のディレクトリを確認>**"
   ]
  },
  {
   "cell_type": "code",
   "execution_count": 0,
   "metadata": {
    "colab": {
     "base_uri": "https://localhost:8080/",
     "height": 34
    },
    "colab_type": "code",
    "id": "TcjH19mGZQn4",
    "outputId": "bc9cddc1-2f6d-413b-e5b1-7f91491d7cff"
   },
   "outputs": [
    {
     "data": {
      "text/plain": [
       "'/content'"
      ]
     },
     "execution_count": 5,
     "metadata": {
      "tags": []
     },
     "output_type": "execute_result"
    }
   ],
   "source": [
    "%pwd"
   ]
  },
  {
   "cell_type": "markdown",
   "metadata": {
    "colab_type": "text",
    "id": "BWVBaRkuaMWj"
   },
   "source": [
    "**＜一つ画像を可視化してみる＞**"
   ]
  },
  {
   "cell_type": "code",
   "execution_count": 0,
   "metadata": {
    "colab": {
     "base_uri": "https://localhost:8080/",
     "height": 1119
    },
    "colab_type": "code",
    "id": "T2Q140bwZVU1",
    "outputId": "87cbe531-7ea0-44e6-a12d-a0da992480f1"
   },
   "outputs": [
    {
     "name": "stdout",
     "output_type": "stream",
     "text": [
      "[[[131 131 131]\n",
      "  [131 131 131]\n",
      "  [131 131 131]\n",
      "  ...\n",
      "  [ 95  95  95]\n",
      "  [100 100 100]\n",
      "  [105 105 105]]\n",
      "\n",
      " [[131 131 131]\n",
      "  [131 131 131]\n",
      "  [134 134 134]\n",
      "  ...\n",
      "  [ 85  85  85]\n",
      "  [ 89  89  89]\n",
      "  [ 95  95  95]]\n",
      "\n",
      " [[135 135 135]\n",
      "  [135 135 135]\n",
      "  [137 137 137]\n",
      "  ...\n",
      "  [ 78  78  78]\n",
      "  [ 81  81  81]\n",
      "  [ 86  86  86]]\n",
      "\n",
      " ...\n",
      "\n",
      " [[140 140 140]\n",
      "  [144 144 144]\n",
      "  [146 146 146]\n",
      "  ...\n",
      "  [ 94  94  94]\n",
      "  [ 91  91  91]\n",
      "  [ 88  88  88]]\n",
      "\n",
      " [[144 144 144]\n",
      "  [141 141 141]\n",
      "  [140 140 140]\n",
      "  ...\n",
      "  [118 118 118]\n",
      "  [116 116 116]\n",
      "  [113 113 113]]\n",
      "\n",
      " [[146 146 146]\n",
      "  [137 137 137]\n",
      "  [133 133 133]\n",
      "  ...\n",
      "  [138 138 138]\n",
      "  [139 139 139]\n",
      "  [139 139 139]]]\n"
     ]
    },
    {
     "data": {
      "text/plain": [
       "<matplotlib.image.AxesImage at 0x7fb796e78208>"
      ]
     },
     "execution_count": 6,
     "metadata": {
      "tags": []
     },
     "output_type": "execute_result"
    },
    {
     "data": {
      "image/png": "[encoded data removed]",
      "text/plain": [
       "<Figure size 432x288 with 1 Axes>"
      ]
     },
     "metadata": {
      "tags": []
     },
     "output_type": "display_data"
    }
   ],
   "source": [
    "import cv2\n",
    " \n",
    "im = cv2.imread('drive/Colab Notebooks/unet-master/data/membrane/train/image/000e218f21.png')\n",
    "print(im)\n",
    "from matplotlib import pyplot as plt\n",
    "plt.imshow(im)"
   ]
  },
  {
   "cell_type": "markdown",
   "metadata": {
    "colab_type": "text",
    "id": "iChKmpF0a2JU"
   },
   "source": [
    "＜ディレクトリを変更＞"
   ]
  },
  {
   "cell_type": "code",
   "execution_count": 0,
   "metadata": {
    "colab": {
     "base_uri": "https://localhost:8080/",
     "height": 34
    },
    "colab_type": "code",
    "id": "qmXjBDwOatD5",
    "outputId": "790dda5f-649c-4b16-b772-67a6e31ec507"
   },
   "outputs": [
    {
     "name": "stdout",
     "output_type": "stream",
     "text": [
      "/content/drive/Colab Notebooks/unet-master\n"
     ]
    }
   ],
   "source": [
    "%cd drive/Colab Notebooks/unet-master"
   ]
  },
  {
   "cell_type": "code",
   "execution_count": 0,
   "metadata": {
    "colab": {
     "base_uri": "https://localhost:8080/",
     "height": 34
    },
    "colab_type": "code",
    "id": "ycHdeH42a6lu",
    "outputId": "3a729095-80f6-4717-9ba8-df1f9f61558c"
   },
   "outputs": [
    {
     "data": {
      "text/plain": [
       "'/content/drive/Colab Notebooks/unet-master'"
      ]
     },
     "execution_count": 8,
     "metadata": {
      "tags": []
     },
     "output_type": "execute_result"
    }
   ],
   "source": [
    "%pwd"
   ]
  },
  {
   "cell_type": "markdown",
   "metadata": {
    "colab_type": "text",
    "id": "0ebSK2WR0lCb"
   },
   "source": [
    "＜トレインネットの記述を実施＞"
   ]
  },
  {
   "cell_type": "code",
   "execution_count": 0,
   "metadata": {
    "colab": {
     "base_uri": "https://localhost:8080/",
     "height": 34
    },
    "colab_type": "code",
    "id": "aIUM9P7oalQY",
    "outputId": "2a59443c-8474-4804-e025-4a0550b7852e"
   },
   "outputs": [
    {
     "name": "stderr",
     "output_type": "stream",
     "text": [
      "Using TensorFlow backend.\n"
     ]
    }
   ],
   "source": [
    "from model import *\n",
    "from data import *"
   ]
  },
  {
   "cell_type": "markdown",
   "metadata": {},
   "source": [
    "＜学習を開始＞"
   ]
  },
  {
   "cell_type": "code",
   "execution_count": 0,
   "metadata": {
    "colab": {
     "base_uri": "https://localhost:8080/",
     "height": 581
    },
    "colab_type": "code",
    "id": "gZ3dA4ss0Uo-",
    "outputId": "fe260b60-1aec-4fce-cd94-be5d106c7240"
   },
   "outputs": [
    {
     "name": "stderr",
     "output_type": "stream",
     "text": [
      "WARNING: Logging before flag parsing goes to stderr.\n",
      "W0617 01:44:37.029616 140427120670592 deprecation_wrapper.py:119] From /usr/local/lib/python3.6/dist-packages/keras/backend/tensorflow_backend.py:74: The name tf.get_default_graph is deprecated. Please use tf.compat.v1.get_default_graph instead.\n",
      "\n",
      "W0617 01:44:37.093597 140427120670592 deprecation_wrapper.py:119] From /usr/local/lib/python3.6/dist-packages/keras/backend/tensorflow_backend.py:517: The name tf.placeholder is deprecated. Please use tf.compat.v1.placeholder instead.\n",
      "\n",
      "W0617 01:44:37.106810 140427120670592 deprecation_wrapper.py:119] From /usr/local/lib/python3.6/dist-packages/keras/backend/tensorflow_backend.py:4185: The name tf.truncated_normal is deprecated. Please use tf.random.truncated_normal instead.\n",
      "\n",
      "W0617 01:44:37.174169 140427120670592 deprecation_wrapper.py:119] From /usr/local/lib/python3.6/dist-packages/keras/backend/tensorflow_backend.py:3976: The name tf.nn.max_pool is deprecated. Please use tf.nn.max_pool2d instead.\n",
      "\n",
      "W0617 01:44:37.260797 140427120670592 deprecation_wrapper.py:119] From /usr/local/lib/python3.6/dist-packages/keras/backend/tensorflow_backend.py:133: The name tf.placeholder_with_default is deprecated. Please use tf.compat.v1.placeholder_with_default instead.\n",
      "\n",
      "W0617 01:44:37.279106 140427120670592 deprecation.py:506] From /usr/local/lib/python3.6/dist-packages/keras/backend/tensorflow_backend.py:3445: calling dropout (from tensorflow.python.ops.nn_ops) with keep_prob is deprecated and will be removed in a future version.\n",
      "Instructions for updating:\n",
      "Please use `rate` instead of `keep_prob`. Rate should be set to `rate = 1 - keep_prob`.\n",
      "W0617 01:44:37.357599 140427120670592 deprecation_wrapper.py:119] From /usr/local/lib/python3.6/dist-packages/keras/backend/tensorflow_backend.py:2018: The name tf.image.resize_nearest_neighbor is deprecated. Please use tf.compat.v1.image.resize_nearest_neighbor instead.\n",
      "\n",
      "W0617 01:44:37.562854 140427120670592 deprecation_wrapper.py:119] From /usr/local/lib/python3.6/dist-packages/keras/backend/tensorflow_backend.py:4138: The name tf.random_uniform is deprecated. Please use tf.random.uniform instead.\n",
      "\n",
      "/content/drive/Colab Notebooks/unet-master/model.py:55: UserWarning: Update your `Model` call to the Keras 2 API: `Model(inputs=Tensor(\"in..., outputs=Tensor(\"co...)`\n",
      "  model = Model(input = inputs, output = conv10)\n",
      "W0617 01:44:39.024252 140427120670592 deprecation_wrapper.py:119] From /usr/local/lib/python3.6/dist-packages/keras/optimizers.py:790: The name tf.train.Optimizer is deprecated. Please use tf.compat.v1.train.Optimizer instead.\n",
      "\n",
      "W0617 01:44:39.038593 140427120670592 deprecation.py:323] From /usr/local/lib/python3.6/dist-packages/tensorflow/python/ops/nn_impl.py:180: add_dispatch_support.<locals>.wrapper (from tensorflow.python.ops.array_ops) is deprecated and will be removed in a future version.\n",
      "Instructions for updating:\n",
      "Use tf.where in 2.0, which has the same broadcast rule as np.where\n"
     ]
    },
    {
     "name": "stdout",
     "output_type": "stream",
     "text": [
      "Epoch 1/1\n",
      "Found 4000 images belonging to 1 classes.\n",
      "Found 4000 images belonging to 1 classes.\n",
      "200/200 [==============================] - 3312s 17s/step - loss: 0.6023 - acc: 0.7471\n",
      "\n",
      "Epoch 00001: loss improved from inf to 0.60228, saving model to unet_membrane.hdf5\n"
     ]
    },
    {
     "data": {
      "text/plain": [
       "<keras.callbacks.History at 0x7fb772d18588>"
      ]
     },
     "execution_count": 11,
     "metadata": {
      "tags": []
     },
     "output_type": "execute_result"
    }
   ],
   "source": [
    "data_gen_args = dict(rotation_range=0.2,\n",
    "                    width_shift_range=0.05,\n",
    "                    height_shift_range=0.05,\n",
    "                    shear_range=0.05,\n",
    "                    zoom_range=0.05,\n",
    "                    horizontal_flip=True,\n",
    "                    fill_mode='nearest')\n",
    "myGene = trainGenerator(2,'data/membrane/train','image','label',data_gen_args,save_to_dir = None)\n",
    "model = unet()\n",
    "model_checkpoint = ModelCheckpoint('unet_membrane.hdf5', monitor='loss',verbose=1, save_best_only=True)\n",
    "model.fit_generator(myGene,steps_per_epoch=200,epochs=1,callbacks=[model_checkpoint])"
   ]
  },
  {
   "cell_type": "markdown",
   "metadata": {},
   "source": [
    "＜予測を実施＞"
   ]
  },
  {
   "cell_type": "code",
   "execution_count": 16,
   "metadata": {
    "colab": {
     "base_uri": "https://localhost:8080/",
     "height": 1618
    },
    "colab_type": "code",
    "id": "tij-tZJb0Xhm",
    "outputId": "ba0b232f-ecac-4d90-f108-d1dab4a67e81"
   },
   "outputs": [
    {
     "name": "stderr",
     "output_type": "stream",
     "text": [
      "/content/drive/Colab Notebooks/unet-master/model.py:55: UserWarning: Update your `Model` call to the Keras 2 API: `Model(inputs=Tensor(\"in..., outputs=Tensor(\"co...)`\n",
      "  model = Model(input = inputs, output = conv10)\n"
     ]
    },
    {
     "name": "stdout",
     "output_type": "stream",
     "text": [
      "30/30 [==============================] - 59s 2s/step\n"
     ]
    },
    {
     "name": "stderr",
     "output_type": "stream",
     "text": [
      "/usr/local/lib/python3.6/dist-packages/skimage/io/_io.py:141: UserWarning: data/membrane/test/0_predict.png is a low contrast image\n",
      "  warn('%s is a low contrast image' % fname)\n",
      "W0617 02:49:06.140134 140427120670592 util.py:61] Lossy conversion from float32 to uint8. Range [0, 1]. Convert image to uint8 prior to saving to suppress this warning.\n",
      "/usr/local/lib/python3.6/dist-packages/skimage/io/_io.py:141: UserWarning: data/membrane/test/1_predict.png is a low contrast image\n",
      "  warn('%s is a low contrast image' % fname)\n",
      "W0617 02:49:08.254037 140427120670592 util.py:61] Lossy conversion from float32 to uint8. Range [0, 1]. Convert image to uint8 prior to saving to suppress this warning.\n",
      "/usr/local/lib/python3.6/dist-packages/skimage/io/_io.py:141: UserWarning: data/membrane/test/2_predict.png is a low contrast image\n",
      "  warn('%s is a low contrast image' % fname)\n",
      "W0617 02:49:10.097336 140427120670592 util.py:61] Lossy conversion from float32 to uint8. Range [0, 1]. Convert image to uint8 prior to saving to suppress this warning.\n",
      "/usr/local/lib/python3.6/dist-packages/skimage/io/_io.py:141: UserWarning: data/membrane/test/3_predict.png is a low contrast image\n",
      "  warn('%s is a low contrast image' % fname)\n",
      "W0617 02:49:11.980069 140427120670592 util.py:61] Lossy conversion from float32 to uint8. Range [0, 1]. Convert image to uint8 prior to saving to suppress this warning.\n",
      "/usr/local/lib/python3.6/dist-packages/skimage/io/_io.py:141: UserWarning: data/membrane/test/4_predict.png is a low contrast image\n",
      "  warn('%s is a low contrast image' % fname)\n",
      "W0617 02:49:13.892181 140427120670592 util.py:61] Lossy conversion from float32 to uint8. Range [0, 1]. Convert image to uint8 prior to saving to suppress this warning.\n",
      "/usr/local/lib/python3.6/dist-packages/skimage/io/_io.py:141: UserWarning: data/membrane/test/5_predict.png is a low contrast image\n",
      "  warn('%s is a low contrast image' % fname)\n",
      "W0617 02:49:15.762326 140427120670592 util.py:61] Lossy conversion from float32 to uint8. Range [0, 1]. Convert image to uint8 prior to saving to suppress this warning.\n",
      "/usr/local/lib/python3.6/dist-packages/skimage/io/_io.py:141: UserWarning: data/membrane/test/6_predict.png is a low contrast image\n",
      "  warn('%s is a low contrast image' % fname)\n",
      "W0617 02:49:17.584549 140427120670592 util.py:61] Lossy conversion from float32 to uint8. Range [0, 1]. Convert image to uint8 prior to saving to suppress this warning.\n",
      "/usr/local/lib/python3.6/dist-packages/skimage/io/_io.py:141: UserWarning: data/membrane/test/7_predict.png is a low contrast image\n",
      "  warn('%s is a low contrast image' % fname)\n",
      "W0617 02:49:19.709599 140427120670592 util.py:61] Lossy conversion from float32 to uint8. Range [0, 1]. Convert image to uint8 prior to saving to suppress this warning.\n",
      "/usr/local/lib/python3.6/dist-packages/skimage/io/_io.py:141: UserWarning: data/membrane/test/8_predict.png is a low contrast image\n",
      "  warn('%s is a low contrast image' % fname)\n",
      "W0617 02:49:21.528032 140427120670592 util.py:61] Lossy conversion from float32 to uint8. Range [0, 1]. Convert image to uint8 prior to saving to suppress this warning.\n",
      "/usr/local/lib/python3.6/dist-packages/skimage/io/_io.py:141: UserWarning: data/membrane/test/9_predict.png is a low contrast image\n",
      "  warn('%s is a low contrast image' % fname)\n",
      "W0617 02:49:23.102181 140427120670592 util.py:61] Lossy conversion from float32 to uint8. Range [0, 1]. Convert image to uint8 prior to saving to suppress this warning.\n",
      "/usr/local/lib/python3.6/dist-packages/skimage/io/_io.py:141: UserWarning: data/membrane/test/10_predict.png is a low contrast image\n",
      "  warn('%s is a low contrast image' % fname)\n",
      "W0617 02:49:24.989339 140427120670592 util.py:61] Lossy conversion from float32 to uint8. Range [0, 1]. Convert image to uint8 prior to saving to suppress this warning.\n",
      "/usr/local/lib/python3.6/dist-packages/skimage/io/_io.py:141: UserWarning: data/membrane/test/11_predict.png is a low contrast image\n",
      "  warn('%s is a low contrast image' % fname)\n",
      "W0617 02:49:26.746496 140427120670592 util.py:61] Lossy conversion from float32 to uint8. Range [0, 1]. Convert image to uint8 prior to saving to suppress this warning.\n",
      "/usr/local/lib/python3.6/dist-packages/skimage/io/_io.py:141: UserWarning: data/membrane/test/12_predict.png is a low contrast image\n",
      "  warn('%s is a low contrast image' % fname)\n",
      "W0617 02:49:28.835602 140427120670592 util.py:61] Lossy conversion from float32 to uint8. Range [0, 1]. Convert image to uint8 prior to saving to suppress this warning.\n",
      "/usr/local/lib/python3.6/dist-packages/skimage/io/_io.py:141: UserWarning: data/membrane/test/13_predict.png is a low contrast image\n",
      "  warn('%s is a low contrast image' % fname)\n",
      "W0617 02:49:30.708171 140427120670592 util.py:61] Lossy conversion from float32 to uint8. Range [0, 1]. Convert image to uint8 prior to saving to suppress this warning.\n",
      "/usr/local/lib/python3.6/dist-packages/skimage/io/_io.py:141: UserWarning: data/membrane/test/14_predict.png is a low contrast image\n",
      "  warn('%s is a low contrast image' % fname)\n",
      "W0617 02:49:32.509593 140427120670592 util.py:61] Lossy conversion from float32 to uint8. Range [0, 1]. Convert image to uint8 prior to saving to suppress this warning.\n",
      "/usr/local/lib/python3.6/dist-packages/skimage/io/_io.py:141: UserWarning: data/membrane/test/15_predict.png is a low contrast image\n",
      "  warn('%s is a low contrast image' % fname)\n",
      "W0617 02:49:34.170710 140427120670592 util.py:61] Lossy conversion from float32 to uint8. Range [0, 1]. Convert image to uint8 prior to saving to suppress this warning.\n",
      "/usr/local/lib/python3.6/dist-packages/skimage/io/_io.py:141: UserWarning: data/membrane/test/16_predict.png is a low contrast image\n",
      "  warn('%s is a low contrast image' % fname)\n",
      "W0617 02:49:36.131998 140427120670592 util.py:61] Lossy conversion from float32 to uint8. Range [0, 1]. Convert image to uint8 prior to saving to suppress this warning.\n",
      "/usr/local/lib/python3.6/dist-packages/skimage/io/_io.py:141: UserWarning: data/membrane/test/17_predict.png is a low contrast image\n",
      "  warn('%s is a low contrast image' % fname)\n",
      "W0617 02:49:37.825020 140427120670592 util.py:61] Lossy conversion from float32 to uint8. Range [0, 1]. Convert image to uint8 prior to saving to suppress this warning.\n",
      "/usr/local/lib/python3.6/dist-packages/skimage/io/_io.py:141: UserWarning: data/membrane/test/18_predict.png is a low contrast image\n",
      "  warn('%s is a low contrast image' % fname)\n",
      "W0617 02:49:40.121525 140427120670592 util.py:61] Lossy conversion from float32 to uint8. Range [0, 1]. Convert image to uint8 prior to saving to suppress this warning.\n",
      "/usr/local/lib/python3.6/dist-packages/skimage/io/_io.py:141: UserWarning: data/membrane/test/19_predict.png is a low contrast image\n",
      "  warn('%s is a low contrast image' % fname)\n",
      "W0617 02:49:42.028524 140427120670592 util.py:61] Lossy conversion from float32 to uint8. Range [0, 1]. Convert image to uint8 prior to saving to suppress this warning.\n",
      "/usr/local/lib/python3.6/dist-packages/skimage/io/_io.py:141: UserWarning: data/membrane/test/20_predict.png is a low contrast image\n",
      "  warn('%s is a low contrast image' % fname)\n",
      "W0617 02:49:44.212974 140427120670592 util.py:61] Lossy conversion from float32 to uint8. Range [0, 1]. Convert image to uint8 prior to saving to suppress this warning.\n",
      "/usr/local/lib/python3.6/dist-packages/skimage/io/_io.py:141: UserWarning: data/membrane/test/21_predict.png is a low contrast image\n",
      "  warn('%s is a low contrast image' % fname)\n",
      "W0617 02:49:46.083485 140427120670592 util.py:61] Lossy conversion from float32 to uint8. Range [0, 1]. Convert image to uint8 prior to saving to suppress this warning.\n",
      "/usr/local/lib/python3.6/dist-packages/skimage/io/_io.py:141: UserWarning: data/membrane/test/22_predict.png is a low contrast image\n",
      "  warn('%s is a low contrast image' % fname)\n",
      "W0617 02:49:47.824773 140427120670592 util.py:61] Lossy conversion from float32 to uint8. Range [0, 1]. Convert image to uint8 prior to saving to suppress this warning.\n",
      "/usr/local/lib/python3.6/dist-packages/skimage/io/_io.py:141: UserWarning: data/membrane/test/23_predict.png is a low contrast image\n",
      "  warn('%s is a low contrast image' % fname)\n",
      "W0617 02:49:49.578988 140427120670592 util.py:61] Lossy conversion from float32 to uint8. Range [0, 1]. Convert image to uint8 prior to saving to suppress this warning.\n",
      "/usr/local/lib/python3.6/dist-packages/skimage/io/_io.py:141: UserWarning: data/membrane/test/24_predict.png is a low contrast image\n",
      "  warn('%s is a low contrast image' % fname)\n",
      "W0617 02:49:51.346684 140427120670592 util.py:61] Lossy conversion from float32 to uint8. Range [0, 1]. Convert image to uint8 prior to saving to suppress this warning.\n",
      "/usr/local/lib/python3.6/dist-packages/skimage/io/_io.py:141: UserWarning: data/membrane/test/25_predict.png is a low contrast image\n",
      "  warn('%s is a low contrast image' % fname)\n",
      "W0617 02:49:53.081872 140427120670592 util.py:61] Lossy conversion from float32 to uint8. Range [0, 1]. Convert image to uint8 prior to saving to suppress this warning.\n",
      "/usr/local/lib/python3.6/dist-packages/skimage/io/_io.py:141: UserWarning: data/membrane/test/26_predict.png is a low contrast image\n",
      "  warn('%s is a low contrast image' % fname)\n",
      "W0617 02:49:54.860966 140427120670592 util.py:61] Lossy conversion from float32 to uint8. Range [0, 1]. Convert image to uint8 prior to saving to suppress this warning.\n",
      "/usr/local/lib/python3.6/dist-packages/skimage/io/_io.py:141: UserWarning: data/membrane/test/27_predict.png is a low contrast image\n",
      "  warn('%s is a low contrast image' % fname)\n",
      "W0617 02:49:56.692119 140427120670592 util.py:61] Lossy conversion from float32 to uint8. Range [0, 1]. Convert image to uint8 prior to saving to suppress this warning.\n",
      "/usr/local/lib/python3.6/dist-packages/skimage/io/_io.py:141: UserWarning: data/membrane/test/28_predict.png is a low contrast image\n",
      "  warn('%s is a low contrast image' % fname)\n",
      "W0617 02:49:58.602102 140427120670592 util.py:61] Lossy conversion from float32 to uint8. Range [0, 1]. Convert image to uint8 prior to saving to suppress this warning.\n",
      "/usr/local/lib/python3.6/dist-packages/skimage/io/_io.py:141: UserWarning: data/membrane/test/29_predict.png is a low contrast image\n",
      "  warn('%s is a low contrast image' % fname)\n",
      "W0617 02:50:00.561404 140427120670592 util.py:61] Lossy conversion from float32 to uint8. Range [0, 1]. Convert image to uint8 prior to saving to suppress this warning.\n"
     ]
    }
   ],
   "source": [
    "testGene = testGenerator(\"data/membrane/test\")\n",
    "model = unet()\n",
    "model.load_weights(\"unet_membrane.hdf5\")\n",
    "results = model.predict_generator(testGene,30,verbose=1)\n",
    "saveResult(\"data/membrane/test\",results)"
   ]
  },
  {
   "cell_type": "markdown",
   "metadata": {
    "colab": {},
    "colab_type": "code",
    "id": "q1M9_klVToVl"
   },
   "source": [
    "# 【問題2】コードリーディング\n",
    "論文[1]に目を通した上で、上記実装のコードリーディングを行ってください。"
   ]
  },
  {
   "cell_type": "code",
   "execution_count": null,
   "metadata": {},
   "outputs": [],
   "source": [
    "\n",
    "############################\n",
    "# モデルとデータを全て(*)インポート\n",
    "############################\n",
    "from model import *\n",
    "from data import *\n",
    "\n",
    "#os.environ[\"CUDA_VISIBLE_DEVICES\"] = \"0\"\n",
    "\n",
    "####################\n",
    "# 学習データの増強を行う\n",
    "####################\n",
    "data_gen_args = dict(rotation_range=0.2,\n",
    "                    width_shift_range=0.05,\n",
    "                    height_shift_range=0.05,\n",
    "                    shear_range=0.05,\n",
    "                    zoom_range=0.05,\n",
    "                    horizontal_flip=True,\n",
    "                    fill_mode='nearest')\n",
    "myGene = trainGenerator(2,'data/membrane/train','image','label',data_gen_args,save_to_dir = None)\n",
    "\n",
    "\n",
    "\n",
    "####################\n",
    "# モデルのインスタンス化\n",
    "####################\n",
    "model = unet()\n",
    "\n",
    "\n",
    "\"\"\"\n",
    "def unet(pretrained_weights = None,input_size = (256,256,1)):\n",
    "\n",
    "    #U字の下りを行う畳み込みとプーリング\n",
    "    \n",
    "    inputs = Input(input_size)\n",
    "    conv1 = Conv2D(64, 3, activation = 'relu', padding = 'same', kernel_initializer = 'he_normal')(inputs)\n",
    "    conv1 = Conv2D(64, 3, activation = 'relu', padding = 'same', kernel_initializer = 'he_normal')(conv1)\n",
    "    pool1 = MaxPooling2D(pool_size=(2, 2))(conv1)\n",
    "    conv2 = Conv2D(128, 3, activation = 'relu', padding = 'same', kernel_initializer = 'he_normal')(pool1)\n",
    "    conv2 = Conv2D(128, 3, activation = 'relu', padding = 'same', kernel_initializer = 'he_normal')(conv2)\n",
    "    pool2 = MaxPooling2D(pool_size=(2, 2))(conv2)\n",
    "    conv3 = Conv2D(256, 3, activation = 'relu', padding = 'same', kernel_initializer = 'he_normal')(pool2)\n",
    "    conv3 = Conv2D(256, 3, activation = 'relu', padding = 'same', kernel_initializer = 'he_normal')(conv3)\n",
    "    pool3 = MaxPooling2D(pool_size=(2, 2))(conv3)\n",
    "    conv4 = Conv2D(512, 3, activation = 'relu', padding = 'same', kernel_initializer = 'he_normal')(pool3)\n",
    "    conv4 = Conv2D(512, 3, activation = 'relu', padding = 'same', kernel_initializer = 'he_normal')(conv4)\n",
    "    drop4 = Dropout(0.5)(conv4)\n",
    "    pool4 = MaxPooling2D(pool_size=(2, 2))(drop4)\n",
    "\n",
    "    conv5 = Conv2D(1024, 3, activation = 'relu', padding = 'same', kernel_initializer = 'he_normal')(pool4)\n",
    "    conv5 = Conv2D(1024, 3, activation = 'relu', padding = 'same', kernel_initializer = 'he_normal')(conv5)\n",
    "    drop5 = Dropout(0.5)(conv5)\n",
    "    \n",
    "    #U字の上りを行う畳み込みと結合\n",
    "    up6 = Conv2D(512, 2, activation = 'relu', padding = 'same', kernel_initializer = 'he_normal')(UpSampling2D(size = (2,2))(drop5))\n",
    "    merge6 = concatenate([drop4,up6], axis = 3)\n",
    "    conv6 = Conv2D(512, 3, activation = 'relu', padding = 'same', kernel_initializer = 'he_normal')(merge6)\n",
    "    conv6 = Conv2D(512, 3, activation = 'relu', padding = 'same', kernel_initializer = 'he_normal')(conv6)\n",
    "\n",
    "    up7 = Conv2D(256, 2, activation = 'relu', padding = 'same', kernel_initializer = 'he_normal')(UpSampling2D(size = (2,2))(conv6))\n",
    "    merge7 = concatenate([conv3,up7], axis = 3)\n",
    "    conv7 = Conv2D(256, 3, activation = 'relu', padding = 'same', kernel_initializer = 'he_normal')(merge7)\n",
    "    conv7 = Conv2D(256, 3, activation = 'relu', padding = 'same', kernel_initializer = 'he_normal')(conv7)\n",
    "\n",
    "    up8 = Conv2D(128, 2, activation = 'relu', padding = 'same', kernel_initializer = 'he_normal')(UpSampling2D(size = (2,2))(conv7))\n",
    "    merge8 = concatenate([conv2,up8], axis = 3)\n",
    "    conv8 = Conv2D(128, 3, activation = 'relu', padding = 'same', kernel_initializer = 'he_normal')(merge8)\n",
    "    conv8 = Conv2D(128, 3, activation = 'relu', padding = 'same', kernel_initializer = 'he_normal')(conv8)\n",
    "\n",
    "    up9 = Conv2D(64, 2, activation = 'relu', padding = 'same', kernel_initializer = 'he_normal')(UpSampling2D(size = (2,2))(conv8))\n",
    "    merge9 = concatenate([conv1,up9], axis = 3)\n",
    "    conv9 = Conv2D(64, 3, activation = 'relu', padding = 'same', kernel_initializer = 'he_normal')(merge9)\n",
    "    conv9 = Conv2D(64, 3, activation = 'relu', padding = 'same', kernel_initializer = 'he_normal')(conv9)\n",
    "    conv9 = Conv2D(2, 3, activation = 'relu', padding = 'same', kernel_initializer = 'he_normal')(conv9)\n",
    "    conv10 = Conv2D(1, 1, activation = 'sigmoid')(conv9)\n",
    "\n",
    "    model = Model(input = inputs, output = conv10)\n",
    "\n",
    "    model.compile(optimizer = Adam(lr = 1e-4), loss = 'binary_crossentropy', metrics = ['accuracy'])\n",
    "    \n",
    "    #model.summary()\n",
    "\n",
    "    if(pretrained_weights):\n",
    "    \tmodel.load_weights(pretrained_weights)\n",
    "\n",
    "    return model\n",
    "\"\"\"\n",
    "\n",
    "\n",
    "\n",
    "\n",
    "\n",
    "\n",
    "##########################################\n",
    "# モデルの学習と最も目的関数の下がった際の重みを保存\n",
    "##########################################\n",
    "model_checkpoint = ModelCheckpoint('unet_membrane.hdf5', monitor='loss',verbose=1, save_best_only=True)\n",
    "model.fit_generator(myGene,steps_per_epoch=300,epochs=1,callbacks=[model_checkpoint])\n",
    "\n",
    "\n",
    "\"\"\"\n",
    "model_checkpoint\n",
    "→Epoch終了後の各数値（acc,loss,val_acc,val_loss)を監視して条件が揃った場合モデルを保存。\n",
    "\n",
    "　例えば下記の使い方の設定方法を設定し学習を行うと「Val_loss」を監視。\n",
    "　1Epoch終了後に「保存されている重みの「Val_loss」＞学習後の「Val_loss」」\n",
    "　の場合の時だけモデル全体を保存していく。\n",
    "\n",
    "　これにより適当にEpochを決めて過学習となってしまった場合でもモデルファイルはそれ以前の「Val_loss」が最小の時のモデルファイルが\n",
    " 保存されるのでやり直しがなくて便利です。\n",
    " \n",
    " \n",
    " from keras.callbacks import ModelCheckpoint\n",
    " modelCheckpoint = ModelCheckpoint(filepath = 'XXX.h5',\n",
    "                                  monitor='val_loss',\n",
    "                                  verbose=1,\n",
    "                                  save_best_only=True,\n",
    "                                  save_weights_only=False,\n",
    "                                  mode='min',\n",
    "                                  period=1)\n",
    "                                  \n",
    "filepath: 重みのファイル名そのものを指示(ex. XXX.h5)\n",
    "monitor: 監視する値（acc,loss,val_acc,val_loss)\n",
    "verbose: 0=結果非表示　1=結果表示\n",
    "\n",
    "save_best_only: True=判定結果から保存を決定。False=後述の'period'の間隔で保存\n",
    "mode: 判定条件（auto、max、min）max=「acc、val_acc」、min=「loss、val_loss」\n",
    "save_weights_only: True=モデルの重みが保存。False=モデル全体を保存 \n",
    "period: 何エポックごとに保存するか\n",
    "\n",
    "\"\"\"\n",
    "\n",
    "\n",
    "################\n",
    "# 画像の水増しを行う\n",
    "################\n",
    "\n",
    "testGene = testGenerator(\"data/membrane/test\")\n",
    "\n",
    "\"\"\"\n",
    "def testGenerator(test_path,num_image = 30,target_size = (256,256),flag_multi_class = False,as_gray = True):\n",
    "    for i in range(num_image): #設定した画像数繰り返す\n",
    "        img = io.imread(os.path.join(test_path,\"%d.png\"%i),as_gray = as_gray) #0から順にグレイイメージで画像を読み込む \n",
    "        img = img / 255 #正則化する\n",
    "        img = trans.resize(img,target_size) #画像サイズを(256,256)に変更する\n",
    "        img = np.reshape(img,img.shape+(1,)) if (not flag_multi_class) else img\n",
    "        img = np.reshape(img,(1,)+img.shape)\n",
    "        yield img\n",
    "        \n",
    "※\n",
    "yieldは、関数を一時的に実行停止させることが出来る機能を持つ文。\n",
    "その時点での戻り値を返し、そしてまた再開させることができる。\n",
    "for文を一度回すたびに画像を返すため、yieldを活用する。\n",
    "\"\"\"\n",
    "\n",
    "\n",
    "\n",
    "################\n",
    "# 画像の予測と保存\n",
    "################\n",
    "results = model.predict_generator(testGene,30,verbose=1)\n",
    "saveResult(\"data/membrane/test\",results)"
   ]
  },
  {
   "cell_type": "code",
   "execution_count": null,
   "metadata": {},
   "outputs": [],
   "source": []
  }
 ],
 "metadata": {
  "colab": {
   "collapsed_sections": [],
   "name": "Sprint20.ipynb のコピー",
   "provenance": [],
   "toc_visible": true,
   "version": "0.3.2"
  },
  "kernelspec": {
   "display_name": "Python 3",
   "language": "python",
   "name": "python3"
  },
  "language_info": {
   "codemirror_mode": {
    "name": "ipython",
    "version": 3
   },
   "file_extension": ".py",
   "mimetype": "text/x-python",
   "name": "python",
   "nbconvert_exporter": "python",
   "pygments_lexer": "ipython3",
   "version": "3.7.3"
  }
 },
 "nbformat": 4,
 "nbformat_minor": 1
}
