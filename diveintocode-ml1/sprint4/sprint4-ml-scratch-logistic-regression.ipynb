{
 "cells": [
  {
   "cell_type": "markdown",
   "metadata": {},
   "source": [
    "# 【問題1】ロジスティック回帰のクラスを作成する\n",
    "### ロジスティック回帰のクラスを作成し、Sprint2で作成した分類のパイプラインに組み込んでください。\n",
    "### クラスの基本構造はSprint3の線形回帰を参考にし、名前はScratchLogisticRegressionとしてください。\n",
    "### メソッドやパラメータなどはscikit-learnを参考にしてください。推定関係ではラベルを出力するpredictメソッドと、確率を出力するpredict_probaメソッドの2種類を作成します。\n",
    "### sklearn.linear_model.LinearRegression — scikit-learn 0.20.0 documentation\n",
    "### 検証段階ではJupyter Notebook上で書いていき、最終的にはpyファイルにモジュールとしてまとめてください。\n"
   ]
  },
  {
   "cell_type": "markdown",
   "metadata": {},
   "source": [
    "<方針>\n",
    "<li>確率の予測とラベルの予測は別の関数で行う"
   ]
  },
  {
   "cell_type": "code",
   "execution_count": 5,
   "metadata": {},
   "outputs": [],
   "source": [
    "import numpy as np\n",
    "import pandas as pd\n",
    "import math\n",
    "import matplotlib.pyplot as plt"
   ]
  },
  {
   "cell_type": "code",
   "execution_count": 15,
   "metadata": {},
   "outputs": [],
   "source": [
    "class ScratchLogisticRegression():\n",
    "    \"\"\"\"\"\n",
    "    パラメータ\n",
    "    --------------------------------\n",
    "    学習率:\n",
    "    ir\n",
    "    \n",
    "    最急勾配降下法の学習回数:\n",
    "    iter\n",
    "    \n",
    "    重みの多次元時配列\n",
    "    self.coef_  次の形のndarray, shape (n_features,)\n",
    "    \n",
    "    学習データの損失記録:\n",
    "    self.loss : 次の形のndarray, shape (self.iter,)\n",
    "    \n",
    "    検証データの損失記録\n",
    "    self.val_loss : 次の形のndarray, shape (self.iter,)            \n",
    "    \"\"\"\"\"    \n",
    "    def __init__(self,lr=0.05,iter=10000,ramda=5,bias=True,verbose=True):\n",
    "        self.lr = lr\n",
    "        self.iter = iter\n",
    "        self.ramda = ramda\n",
    "        self.bias = bias\n",
    "        #self.coef_ = np.empty(1) #配列は(1,n_features)\n",
    "        self.verbose = verbose\n",
    "        \n",
    "        # 損失を記録する配列を用意\n",
    "        self.loss = np.zeros(self.iter)\n",
    "        self.val_loss = np.zeros(self.iter)\n",
    "        \n",
    "        #X_val、y_valの存在を宣言しておく\n",
    "        self.X_val = None\n",
    "        self.y_val = None\n",
    "    \n",
    "    def sigmoid_(self,X):\n",
    "        \"\"\"\"\"\n",
    "        シグモイド関数の作成 #今回は一旦使わないが...\n",
    "        \"\"\"\"\"\n",
    "        return 1/(1+np.exp(-X))\n",
    "    \n",
    "    \n",
    "    def hypothesis_(self,X):\n",
    "        \"\"\"\"\"\n",
    "        仮説関数\n",
    "        X行列と重みの内積をシグモイド関数に入れる\n",
    "        \n",
    "        重みの初期値は全て1\n",
    "        \n",
    "        Xの配列は(n_samples,n_features)\n",
    "        返す値の配列は(n_sanples,1)\n",
    "        \n",
    "        \"\"\"\"\"\n",
    "        #self.coef_ = np.ones(X.shape[1]) #クラス外での実験用\n",
    "        dot = np.dot(X,self.coef_.reshape(-1,1))\n",
    "        h_theta = self.sigmoid_(dot)\n",
    "        return h_theta\n",
    "\n",
    "    def objective_function_(self,X,y):\n",
    "        \"\"\"\"\"\n",
    "        目的関数は交差エントロピーである\n",
    "        \n",
    "        返す値の配列は(1,1)\n",
    "        \"\"\"\"\"\n",
    "        return (((-np.log(self.hypothesis_(X))*y)) \\\n",
    "                + (-np.log(1-self.hypothesis_(X))*(1-y))).mean() / X.shape[1]  \\\n",
    "                + self.ramda / (2 * X.shape[1]) * sum(self.coef_**2)\n",
    "        \n",
    "    \n",
    "    \n",
    "    def fit(self, X, y, X_val=None, y_val=None):\n",
    "        \n",
    "        \"\"\"\n",
    "        線形回帰を学習する。検証用データが入力された場合はそれに対する損失と精度もイテレーションごとに計算する。\n",
    "\n",
    "        Parameters\n",
    "        ----------\n",
    "        X : 次の形のndarray, shape (n_samples, n_features)\n",
    "            学習用データの特徴量\n",
    "        y : 次の形のndarray, shape (n_samples, )\n",
    "            学習用データの正解値\n",
    "        X_val : 次の形のndarray, shape (n_samples, n_features)\n",
    "            検証用データの特徴量\n",
    "        y_val : 次の形のndarray, shape (n_samples, )\n",
    "            検証用データの正解値\n",
    "        \"\"\"\n",
    "        self.X_val = X_val\n",
    "        self.y_val = y_val\n",
    "            \n",
    "        #　bias を含める場合、学習・検証データの全てのサンプルにx0=1を追加、含めない場合は。。。\n",
    "        if self.bias == True:\n",
    "            X = np.hstack([np.c_[np.ones(X.shape[0])],np.c_[X]]) \n",
    "            if (X_val is not None) and (y_val is not None): #　検証データがある場合\n",
    "                self.X_val = np.hstack([np.c_[np.ones(self.X_val.shape[0])],np.c_[self.X_val]])\n",
    "\n",
    "\n",
    "        \n",
    "        # coef_初期値を全ての重みが１となるように作成\n",
    "        self.coef_ = np.ones(X.shape[1])\n",
    "    \n",
    "    \n",
    "        #最急勾配降下法を実施\n",
    "        for i in range(self.iter):\n",
    "            y_pred_temp = self.hypothesis_(X) #試行回数i回時点のthetaにおけるy予測確率\n",
    "            if (X_val is not None) and (y_val is not None): #　検証データがある場合\n",
    "                y_val_pred_temp = self.hypothesis_(self.X_val) #試行回数i回時点のthetaにおけるy_val予測確率\n",
    "            \n",
    "            if self.bias == True: #バイアスありの場合の重み更新\n",
    "                self.coef_ = self.coef_ - self.lr * ((self.hypothesis_(X)- y) * X).mean(axis=0)  #重み更新　正則化項除く j=0\n",
    "                self.coef_[1:] = self.coef_[1:] - self.lr * (self.ramda / X.shape[1] * self.coef_[1:]) #重み更新　正則化項部分の更新をバイアス項以外で実施\n",
    "            else : #バイアスなしの場合の重み更新\n",
    "                self.coef_ = self.coef_ - self.lr * ((self.hypothesis_(X)- y) * X).mean(axis=0) \\\n",
    "                                - self.coef_ - self.lr * (self.ramda / X.shape[1] * self.coef_)\n",
    "                \n",
    "                \n",
    "            #目的関数のスコア格納\n",
    "            self.loss[i] = self.objective_function_(X,y) #学習データの目的関数スコアを格納してゆく\n",
    "            if (X_val is not None) and (y_val is not None): #検証データが存在する場合、目的関数スコアを格納してゆく\n",
    "                self.val_loss[i] = self.objective_function_(self.X_val,self.y_val)\n",
    "            \n",
    "            \n",
    "        # fit段階で設定した最終的な重みを設定\n",
    "        self.final_coef_ = self.coef_\n",
    "        \n",
    "        if self.verbose:\n",
    "            #verboseをTrueにした際は学習過程を出力\n",
    "            print(self.loss)\n",
    "        \n",
    "        \n",
    "    def predict_proba(self,X):\n",
    "        #　bias を含める場合、全てのサンプルにx0=1を追加\n",
    "        if self.bias == True:\n",
    "            X = np.hstack([np.c_[np.ones(X.shape[0])],np.c_[X]])  \n",
    "        \n",
    "        #最急勾配効果法を完了した時点でのthetaを使って標準化した場合のｙ_predを予測する\n",
    "        y_pred_proba = self.hypothesis_(X)\n",
    "        \n",
    "        return y_pred\n",
    "\n",
    "    def predict(self,X):\n",
    "        #　bias を含める場合、全てのサンプルにx0=1を追加\n",
    "        if self.bias == True:\n",
    "            X = np.hstack([np.c_[np.ones(X.shape[0])],np.c_[X]])  \n",
    "        \n",
    "        #最急勾配効果法を完了した時点でのthetaを使って標準化した場合のｙ_predを予測する\n",
    "        y_pred = self.hypothesis_(X)\n",
    "        y_pred_label = y_pred \n",
    "        \n",
    "        #０．５を境界にしてラベルをつける。\n",
    "        for i in range(0,y_pred.shape[0]):\n",
    "            for j in range(0,y_pred.shape[1]):\n",
    "                if y_pred[i,j] >= 0.5 :\n",
    "                    y_pred_label[i,j] = 1\n",
    "                else:\n",
    "                    y_pred_label[i,j] = 0\n",
    "                    \n",
    "        return y_pred_label\n",
    "\n",
    "    def loss_graph(self):\n",
    "        #損失関数の遷移\n",
    "        plt.figure(figsize=(3, 2), dpi=200)\n",
    "        plt.title('model loss')\n",
    "        plt.xlabel('iter')\n",
    "        plt.ylabel('Closs entropy')\n",
    "        if (self.X_val is not None) and (self.y_val is not None): #　検証データがある場合\n",
    "            plt.plot(self.val_loss, color='red',label = \"val_loss\",linewidth=1,linestyle='solid')\n",
    "        plt.plot(self.loss, color='blue',label = \"train_loss\",linewidth=1,linestyle='dashed')\n",
    "        plt.legend()"
   ]
  },
  {
   "cell_type": "code",
   "execution_count": 16,
   "metadata": {},
   "outputs": [],
   "source": [
    "from sklearn.datasets import load_iris\n",
    "from sklearn import datasets\n",
    "import pandas as pd\n",
    "\n",
    "#データセット読み込み\n",
    "iris = datasets.load_iris()\n",
    "X = iris.data\n",
    "y = iris.target\n",
    "\n",
    "\n",
    "#データセットの準備 ラベルが０または１のみのデータを抜き出す。\n",
    "df = pd.DataFrame(iris.data, columns=iris.feature_names)\n",
    "df['target'] = iris.target\n",
    "df_2 = df[df['target'] != 2]"
   ]
  },
  {
   "cell_type": "code",
   "execution_count": 17,
   "metadata": {},
   "outputs": [],
   "source": [
    "#データの配列変換\n",
    "X = np.array(df_2.iloc[:,0:2])\n",
    "y = np.array(df_2.iloc[:,4]).reshape(-1,1)\n",
    "\n",
    "#学習データ、検証データ分割\n",
    "from sklearn.model_selection import train_test_split\n",
    "X, X_val, y, y_val = train_test_split(X, y,test_size=0.3)"
   ]
  },
  {
   "cell_type": "code",
   "execution_count": 18,
   "metadata": {},
   "outputs": [
    {
     "data": {
      "text/plain": [
       "((70, 2), (30, 2), (70, 1), (30, 1))"
      ]
     },
     "execution_count": 18,
     "metadata": {},
     "output_type": "execute_result"
    }
   ],
   "source": [
    "X.shape, X_val.shape, y.shape, y_val.shape"
   ]
  },
  {
   "cell_type": "code",
   "execution_count": 19,
   "metadata": {},
   "outputs": [
    {
     "name": "stdout",
     "output_type": "stream",
     "text": [
      "[3.22607095 2.54071569 1.99254903 ... 0.32660354 0.32660354 0.32660354]\n"
     ]
    }
   ],
   "source": [
    "log_regression = ScratchLogisticRegression()\n",
    "log_regression.fit(X,y,X_val,y_val) # bias = Falseならうまくいく"
   ]
  },
  {
   "cell_type": "markdown",
   "metadata": {},
   "source": [
    "# 【問題2】学習曲線のプロット\n",
    "###### 学習曲線をプロットしてください"
   ]
  },
  {
   "cell_type": "code",
   "execution_count": 20,
   "metadata": {},
   "outputs": [
    {
     "data": {
      "image/png": "[encoded data removed]",
      "text/plain": [
       "<Figure size 600x400 with 1 Axes>"
      ]
     },
     "metadata": {
      "needs_background": "light"
     },
     "output_type": "display_data"
    }
   ],
   "source": [
    "log_regression.loss_graph()"
   ]
  },
  {
   "cell_type": "markdown",
   "metadata": {},
   "source": [
    "# 【問題3】指標値の算出\n",
    "###### 分類に関する指標値で精度を確認してください。"
   ]
  },
  {
   "cell_type": "markdown",
   "metadata": {},
   "source": [
    "正確度 (正解率、Accuracy)  \n",
    "適合率 (精度、陽性反応的中度、Precision)  \n",
    "再現率 (感度、真陽性率、Recall)  \n",
    "F-値 (F-score, F-measure)  \n",
    "AUC (Area Under the Curve)"
   ]
  },
  {
   "cell_type": "code",
   "execution_count": 21,
   "metadata": {},
   "outputs": [
    {
     "name": "stdout",
     "output_type": "stream",
     "text": [
      "正解率: 1.0\n",
      "適合率: 1.0\n",
      "再現率: 1.0\n",
      "F1スコア: 1.0\n"
     ]
    }
   ],
   "source": [
    "from sklearn.metrics import accuracy_score, precision_score, recall_score, f1_score, auc\n",
    "y_pred = log_regression.predict(X_val)\n",
    "\n",
    "print('正解率:', accuracy_score(y_pred,y_val))\n",
    "print('適合率:', precision_score(y_pred,y_val))\n",
    "print('再現率:', recall_score(y_pred,y_val))\n",
    "print('F1スコア:', f1_score(y_pred,y_val))\n",
    "#print('AUCスコア:', auc(y_pred,y_val))"
   ]
  },
  {
   "cell_type": "markdown",
   "metadata": {},
   "source": [
    "# 【問題4】決定領域の可視化\n",
    "###### 2値分類のデータセットに対して決定領域を可視化してください。"
   ]
  },
  {
   "cell_type": "code",
   "execution_count": 22,
   "metadata": {},
   "outputs": [],
   "source": [
    "import matplotlib.pyplot as plt\n",
    "from matplotlib.colors import ListedColormap\n",
    "import matplotlib.patches as mpatches\n",
    "import numpy as np\n",
    "\n",
    "def decision_region(X_train, y_train, model, step=0.01, title='decision region', xlabel='xlabel', ylabel='ylabel', target_names=['versicolor', 'virginica']):\n",
    "    \"\"\"\n",
    "    2値分類を2次元の特徴量で学習したモデルの決定領域を描く。\n",
    "    背景の色が学習したモデルによる推定値から描画される。\n",
    "    散布図の点は学習用データである。\n",
    "\n",
    "    Parameters\n",
    "    ----------------\n",
    "    X_train : ndarray, shape(n_samples, 2)\n",
    "        学習用データの特徴量\n",
    "    y_train : ndarray, shape(n_samples,)\n",
    "        学習用データの正解値\n",
    "    model : object\n",
    "        学習したモデルのインスンタスを入れる\n",
    "    step : float, (default : 0.1)\n",
    "        推定値を計算する間隔を設定する\n",
    "    title : str\n",
    "        グラフのタイトルの文章を与える\n",
    "    xlabel, ylabel : str\n",
    "        軸ラベルの文章を与える\n",
    "    target_names= : list of str\n",
    "        凡例の一覧を与える\n",
    "    \"\"\"\n",
    "    # setting\n",
    "    scatter_color = ['red', 'blue']\n",
    "    contourf_color = ['pink', 'skyblue']\n",
    "    n_class = 2\n",
    "\n",
    "    # pred\n",
    "    mesh_f0, mesh_f1  = np.meshgrid(np.arange(np.min(X_train[:,0])-0.5, np.max(X_train[:,0])+0.5, step), np.arange(np.min(X_train[:,1])-0.5, np.max(X_train[:,1])+0.5, step))\n",
    "    mesh = np.c_[np.ravel(mesh_f0),np.ravel(mesh_f1)]\n",
    "    pred = model.predict(mesh).reshape(mesh_f0.shape)\n",
    "\n",
    "    # plot\n",
    "    plt.title(title)\n",
    "    plt.xlabel(xlabel)\n",
    "    plt.ylabel(ylabel)\n",
    "    plt.contourf(mesh_f0, mesh_f1, pred, n_class-1, cmap=ListedColormap(contourf_color))\n",
    "    plt.contour(mesh_f0, mesh_f1, pred, n_class-1, colors='y', linewidths=3, alpha=0.5)\n",
    "    for i, target in enumerate(set(y_train)):\n",
    "        plt.scatter(X_train[y_train==target][:, 0], X_train[y_train==target][:, 1], s=80, color=scatter_color[i], label=target_names[i], marker='o')\n",
    "    patches = [mpatches.Patch(color=scatter_color[i], label=target_names[i]) for i in range(n_class)]\n",
    "    plt.legend(handles=patches)\n",
    "    plt.legend()\n",
    "    plt.show()"
   ]
  },
  {
   "cell_type": "code",
   "execution_count": 23,
   "metadata": {},
   "outputs": [
    {
     "data": {
      "image/png": "[encoded data removed]",
      "text/plain": [
       "<Figure size 432x288 with 1 Axes>"
      ]
     },
     "metadata": {
      "needs_background": "light"
     },
     "output_type": "display_data"
    }
   ],
   "source": [
    "y.ravel()\n",
    "decision_region(X,y.ravel(),log_regression,xlabel='xlabel', ylabel='ylabel', target_names=['versicolor', 'virginica'])"
   ]
  },
  {
   "cell_type": "markdown",
   "metadata": {},
   "source": [
    "# 【問題5】（アドバンス課題）重みの保存\n",
    "###### 検証が容易になるように、学習した重みを保存および読み込みができるようにしましょう。\n",
    "###### pickleモジュールやnumpy.savezを利用します。\n",
    "###### pickle — Python オブジェクトの直列化 — Python 3.7.1 ドキュメント\n",
    "###### numpy.savez — NumPy v1.15 Manual"
   ]
  },
  {
   "cell_type": "code",
   "execution_count": null,
   "metadata": {},
   "outputs": [],
   "source": []
  },
  {
   "cell_type": "code",
   "execution_count": null,
   "metadata": {},
   "outputs": [],
   "source": []
  },
  {
   "cell_type": "code",
   "execution_count": null,
   "metadata": {},
   "outputs": [],
   "source": []
  },
  {
   "cell_type": "code",
   "execution_count": null,
   "metadata": {},
   "outputs": [],
   "source": []
  },
  {
   "cell_type": "markdown",
   "metadata": {},
   "source": [
    "# 以下実験用"
   ]
  },
  {
   "cell_type": "code",
   "execution_count": 416,
   "metadata": {},
   "outputs": [],
   "source": [
    "#classを作成\n",
    "log_regression = ScratchLogisticRegression()"
   ]
  },
  {
   "cell_type": "code",
   "execution_count": 377,
   "metadata": {},
   "outputs": [
    {
     "name": "stdout",
     "output_type": "stream",
     "text": [
      "X_sample_array [-10  -9  -8  -7  -6  -5  -4  -3  -2  -1   0   1   2   3   4   5   6   7\n",
      "   8   9  10]\n"
     ]
    },
    {
     "ename": "AttributeError",
     "evalue": "'ScratchLogisticRegression' object has no attribute 'sigmoid'",
     "output_type": "error",
     "traceback": [
      "\u001b[0;31m---------------------------------------------------------------------------\u001b[0m",
      "\u001b[0;31mAttributeError\u001b[0m                            Traceback (most recent call last)",
      "\u001b[0;32m<ipython-input-377-448736a302e6>\u001b[0m in \u001b[0;36m<module>\u001b[0;34m\u001b[0m\n\u001b[1;32m      2\u001b[0m \u001b[0;31m# - arange：[start, stop)の連番numpy配列の生成\u001b[0m\u001b[0;34m\u001b[0m\u001b[0;34m\u001b[0m\u001b[0;34m\u001b[0m\u001b[0m\n\u001b[1;32m      3\u001b[0m \u001b[0mprint\u001b[0m\u001b[0;34m(\u001b[0m\u001b[0;34m'X_sample_array'\u001b[0m\u001b[0;34m,\u001b[0m\u001b[0mnp\u001b[0m\u001b[0;34m.\u001b[0m\u001b[0marange\u001b[0m\u001b[0;34m(\u001b[0m\u001b[0;34m-\u001b[0m\u001b[0;36m10\u001b[0m\u001b[0;34m,\u001b[0m\u001b[0;36m10\u001b[0m\u001b[0;34m+\u001b[0m\u001b[0;36m1\u001b[0m\u001b[0;34m)\u001b[0m \u001b[0;34m)\u001b[0m\u001b[0;34m\u001b[0m\u001b[0;34m\u001b[0m\u001b[0m\n\u001b[0;32m----> 4\u001b[0;31m \u001b[0mprint\u001b[0m\u001b[0;34m(\u001b[0m\u001b[0;34m'X_sample_arrayをシグモイド関数に代入した結果'\u001b[0m\u001b[0;34m,\u001b[0m\u001b[0mlog_regression\u001b[0m\u001b[0;34m.\u001b[0m\u001b[0msigmoid\u001b[0m\u001b[0;34m(\u001b[0m\u001b[0mnp\u001b[0m\u001b[0;34m.\u001b[0m\u001b[0marange\u001b[0m\u001b[0;34m(\u001b[0m\u001b[0;34m-\u001b[0m\u001b[0;36m10\u001b[0m\u001b[0;34m,\u001b[0m\u001b[0;36m10\u001b[0m\u001b[0;34m+\u001b[0m\u001b[0;36m1\u001b[0m\u001b[0;34m)\u001b[0m \u001b[0;34m)\u001b[0m\u001b[0;34m)\u001b[0m\u001b[0;34m\u001b[0m\u001b[0;34m\u001b[0m\u001b[0m\n\u001b[0m",
      "\u001b[0;31mAttributeError\u001b[0m: 'ScratchLogisticRegression' object has no attribute 'sigmoid'"
     ]
    }
   ],
   "source": [
    "#値を出力\n",
    "# - arange：[start, stop)の連番numpy配列の生成\n",
    "print('X_sample_array',np.arange(-10,10+1) )\n",
    "print('X_sample_arrayをシグモイド関数に代入した結果',log_regression.sigmoid(np.arange(-10,10+1) ))"
   ]
  },
  {
   "cell_type": "markdown",
   "metadata": {},
   "source": [
    "仮説関数の出力実験"
   ]
  },
  {
   "cell_type": "code",
   "execution_count": 40,
   "metadata": {},
   "outputs": [
    {
     "ename": "AttributeError",
     "evalue": "'ScratchLogisticRegression' object has no attribute 'coef_'",
     "output_type": "error",
     "traceback": [
      "\u001b[0;31m---------------------------------------------------------------------------\u001b[0m",
      "\u001b[0;31mAttributeError\u001b[0m                            Traceback (most recent call last)",
      "\u001b[0;32m<ipython-input-40-3c8860fd03d1>\u001b[0m in \u001b[0;36m<module>\u001b[0;34m\u001b[0m\n\u001b[1;32m      1\u001b[0m \u001b[0mX_sample\u001b[0m \u001b[0;34m=\u001b[0m \u001b[0mnp\u001b[0m\u001b[0;34m.\u001b[0m\u001b[0marray\u001b[0m\u001b[0;34m(\u001b[0m\u001b[0;34m[\u001b[0m\u001b[0;34m[\u001b[0m\u001b[0;36m1\u001b[0m\u001b[0;34m,\u001b[0m\u001b[0;36m2\u001b[0m\u001b[0;34m,\u001b[0m\u001b[0;36m3\u001b[0m\u001b[0;34m]\u001b[0m\u001b[0;34m,\u001b[0m\u001b[0;34m[\u001b[0m\u001b[0;36m4\u001b[0m\u001b[0;34m,\u001b[0m\u001b[0;36m5\u001b[0m\u001b[0;34m,\u001b[0m\u001b[0;36m6\u001b[0m\u001b[0;34m]\u001b[0m\u001b[0;34m,\u001b[0m\u001b[0;34m[\u001b[0m\u001b[0;36m7\u001b[0m\u001b[0;34m,\u001b[0m\u001b[0;36m8\u001b[0m\u001b[0;34m,\u001b[0m\u001b[0;36m9\u001b[0m\u001b[0;34m]\u001b[0m\u001b[0;34m]\u001b[0m\u001b[0;34m)\u001b[0m\u001b[0;34m\u001b[0m\u001b[0;34m\u001b[0m\u001b[0m\n\u001b[1;32m      2\u001b[0m \u001b[0my_sample\u001b[0m \u001b[0;34m=\u001b[0m \u001b[0mnp\u001b[0m\u001b[0;34m.\u001b[0m\u001b[0marray\u001b[0m\u001b[0;34m(\u001b[0m\u001b[0;34m[\u001b[0m\u001b[0;34m[\u001b[0m\u001b[0;36m1\u001b[0m\u001b[0;34m]\u001b[0m\u001b[0;34m,\u001b[0m\u001b[0;34m[\u001b[0m\u001b[0;36m0\u001b[0m\u001b[0;34m]\u001b[0m\u001b[0;34m,\u001b[0m\u001b[0;34m[\u001b[0m\u001b[0;36m0\u001b[0m\u001b[0;34m]\u001b[0m\u001b[0;34m]\u001b[0m\u001b[0;34m)\u001b[0m\u001b[0;34m\u001b[0m\u001b[0;34m\u001b[0m\u001b[0m\n\u001b[0;32m----> 3\u001b[0;31m \u001b[0mlog_regression\u001b[0m\u001b[0;34m.\u001b[0m\u001b[0mhypothesis_\u001b[0m\u001b[0;34m(\u001b[0m\u001b[0mX_sample\u001b[0m\u001b[0;34m)\u001b[0m\u001b[0;34m\u001b[0m\u001b[0;34m\u001b[0m\u001b[0m\n\u001b[0m",
      "\u001b[0;32m<ipython-input-37-091a088d5f03>\u001b[0m in \u001b[0;36mhypothesis_\u001b[0;34m(self, X)\u001b[0m\n\u001b[1;32m     40\u001b[0m         \"\"\"\"\"\n\u001b[1;32m     41\u001b[0m         \u001b[0;31m#self.coef_ = np.ones(X.shape[1]) #クラス外での実験用\u001b[0m\u001b[0;34m\u001b[0m\u001b[0;34m\u001b[0m\u001b[0;34m\u001b[0m\u001b[0m\n\u001b[0;32m---> 42\u001b[0;31m         \u001b[0mdot\u001b[0m \u001b[0;34m=\u001b[0m \u001b[0mnp\u001b[0m\u001b[0;34m.\u001b[0m\u001b[0mdot\u001b[0m\u001b[0;34m(\u001b[0m\u001b[0mX\u001b[0m\u001b[0;34m,\u001b[0m\u001b[0mself\u001b[0m\u001b[0;34m.\u001b[0m\u001b[0mcoef_\u001b[0m\u001b[0;34m)\u001b[0m\u001b[0;34m\u001b[0m\u001b[0;34m\u001b[0m\u001b[0m\n\u001b[0m\u001b[1;32m     43\u001b[0m         \u001b[0mh_theta\u001b[0m \u001b[0;34m=\u001b[0m \u001b[0;36m1\u001b[0m\u001b[0;34m/\u001b[0m\u001b[0;34m(\u001b[0m\u001b[0;36m1\u001b[0m\u001b[0;34m+\u001b[0m\u001b[0mnp\u001b[0m\u001b[0;34m.\u001b[0m\u001b[0mexp\u001b[0m\u001b[0;34m(\u001b[0m\u001b[0;34m-\u001b[0m\u001b[0mdot\u001b[0m\u001b[0;34m)\u001b[0m\u001b[0;34m)\u001b[0m\u001b[0;34m\u001b[0m\u001b[0;34m\u001b[0m\u001b[0m\n\u001b[1;32m     44\u001b[0m         \u001b[0;32mreturn\u001b[0m \u001b[0mh_theta\u001b[0m\u001b[0;34m\u001b[0m\u001b[0;34m\u001b[0m\u001b[0m\n",
      "\u001b[0;31mAttributeError\u001b[0m: 'ScratchLogisticRegression' object has no attribute 'coef_'"
     ]
    }
   ],
   "source": [
    "X_sample = np.array([[1,2,3],[4,5,6],[7,8,9]])\n",
    "y_sample = np.array([[1],[0],[0]])\n",
    "log_regression.hypothesis_(X_sample)"
   ]
  },
  {
   "cell_type": "markdown",
   "metadata": {},
   "source": [
    "### 目的関数の実装\n",
    "\n",
    "目的関数を3部分に分解  \n",
    "①Σ１項目  \n",
    "②Σ２項目  \n",
    "③正則化項"
   ]
  },
  {
   "cell_type": "code",
   "execution_count": 402,
   "metadata": {},
   "outputs": [
    {
     "name": "stdout",
     "output_type": "stream",
     "text": [
      "[[0 0 1]\n",
      " [0 0 2]\n",
      " [0 1 2]\n",
      " [1 1 1]]\n",
      "[[0]\n",
      " [0]\n",
      " [1]\n",
      " [1]]\n"
     ]
    }
   ],
   "source": [
    "#特量量が全体的に小さい値をとるとラベル１に判定されてしまうデータを作成\n",
    "print(X)\n",
    "print(y)"
   ]
  },
  {
   "cell_type": "code",
   "execution_count": 426,
   "metadata": {},
   "outputs": [],
   "source": [
    "def sigmoid_(X):\n",
    "    \"\"\"\"\"\n",
    "    シグモイド関数の作成 #今回は一旦使わないが...\n",
    "    \"\"\"\"\"\n",
    "    return 1/(1+np.exp(-X))\n",
    "\n",
    "def hypothesis(X):\n",
    "        \"\"\"\"\"\n",
    "        仮説関数\n",
    "        X行列と重みの内積をシグモイド関数に入れる\n",
    "        \n",
    "        重みの初期値は全て1\n",
    "        \"\"\"\"\"\n",
    "        coef_ = np.ones(X.shape[1]) #クラス外での実験用\n",
    "        dot = np.dot(X,coef_.reshape(-1,1))\n",
    "        h_theta = sigmoid_(dot)\n",
    "        return h_theta.reshape(-1,1)"
   ]
  },
  {
   "cell_type": "code",
   "execution_count": 427,
   "metadata": {},
   "outputs": [
    {
     "data": {
      "text/plain": [
       "array([[1.],\n",
       "       [1.],\n",
       "       [1.]])"
      ]
     },
     "execution_count": 427,
     "metadata": {},
     "output_type": "execute_result"
    }
   ],
   "source": [
    "coef_ = np.ones(X.shape[1])\n",
    "coef_.reshape(-1,1)"
   ]
  },
  {
   "cell_type": "code",
   "execution_count": 428,
   "metadata": {},
   "outputs": [
    {
     "data": {
      "text/plain": [
       "array([[-0.31326169],\n",
       "       [-0.12692801],\n",
       "       [-0.04858735],\n",
       "       [-0.04858735]])"
      ]
     },
     "execution_count": 428,
     "metadata": {},
     "output_type": "execute_result"
    }
   ],
   "source": [
    "#仮説関数にXを代入\n",
    "np.log(hypothesis(X))"
   ]
  },
  {
   "cell_type": "code",
   "execution_count": 43,
   "metadata": {},
   "outputs": [
    {
     "data": {
      "text/plain": [
       "array([[1],\n",
       "       [0],\n",
       "       [0]])"
      ]
     },
     "execution_count": 43,
     "metadata": {},
     "output_type": "execute_result"
    }
   ],
   "source": [
    "y_sample"
   ]
  },
  {
   "cell_type": "code",
   "execution_count": 44,
   "metadata": {},
   "outputs": [
    {
     "ename": "AttributeError",
     "evalue": "'ScratchLogisticRegression' object has no attribute 'coef_'",
     "output_type": "error",
     "traceback": [
      "\u001b[0;31m---------------------------------------------------------------------------\u001b[0m",
      "\u001b[0;31mAttributeError\u001b[0m                            Traceback (most recent call last)",
      "\u001b[0;32m<ipython-input-44-dae61d997d11>\u001b[0m in \u001b[0;36m<module>\u001b[0;34m\u001b[0m\n\u001b[0;32m----> 1\u001b[0;31m \u001b[0;34m-\u001b[0m\u001b[0mnp\u001b[0m\u001b[0;34m.\u001b[0m\u001b[0mdot\u001b[0m\u001b[0;34m(\u001b[0m\u001b[0mnp\u001b[0m\u001b[0;34m.\u001b[0m\u001b[0mlog\u001b[0m\u001b[0;34m(\u001b[0m\u001b[0mlog_regression\u001b[0m\u001b[0;34m.\u001b[0m\u001b[0mhypothesis_\u001b[0m\u001b[0;34m(\u001b[0m\u001b[0mX_sample\u001b[0m\u001b[0;34m)\u001b[0m\u001b[0;34m)\u001b[0m\u001b[0;34m,\u001b[0m\u001b[0my_sample\u001b[0m\u001b[0;34m)\u001b[0m \u001b[0;34m/\u001b[0m \u001b[0mX_sample\u001b[0m\u001b[0;34m.\u001b[0m\u001b[0mshape\u001b[0m\u001b[0;34m[\u001b[0m\u001b[0;36m1\u001b[0m\u001b[0;34m]\u001b[0m  \u001b[0;31m#①を実装\u001b[0m\u001b[0;34m\u001b[0m\u001b[0;34m\u001b[0m\u001b[0m\n\u001b[0m",
      "\u001b[0;32m<ipython-input-37-091a088d5f03>\u001b[0m in \u001b[0;36mhypothesis_\u001b[0;34m(self, X)\u001b[0m\n\u001b[1;32m     40\u001b[0m         \"\"\"\"\"\n\u001b[1;32m     41\u001b[0m         \u001b[0;31m#self.coef_ = np.ones(X.shape[1]) #クラス外での実験用\u001b[0m\u001b[0;34m\u001b[0m\u001b[0;34m\u001b[0m\u001b[0;34m\u001b[0m\u001b[0m\n\u001b[0;32m---> 42\u001b[0;31m         \u001b[0mdot\u001b[0m \u001b[0;34m=\u001b[0m \u001b[0mnp\u001b[0m\u001b[0;34m.\u001b[0m\u001b[0mdot\u001b[0m\u001b[0;34m(\u001b[0m\u001b[0mX\u001b[0m\u001b[0;34m,\u001b[0m\u001b[0mself\u001b[0m\u001b[0;34m.\u001b[0m\u001b[0mcoef_\u001b[0m\u001b[0;34m)\u001b[0m\u001b[0;34m\u001b[0m\u001b[0;34m\u001b[0m\u001b[0m\n\u001b[0m\u001b[1;32m     43\u001b[0m         \u001b[0mh_theta\u001b[0m \u001b[0;34m=\u001b[0m \u001b[0;36m1\u001b[0m\u001b[0;34m/\u001b[0m\u001b[0;34m(\u001b[0m\u001b[0;36m1\u001b[0m\u001b[0;34m+\u001b[0m\u001b[0mnp\u001b[0m\u001b[0;34m.\u001b[0m\u001b[0mexp\u001b[0m\u001b[0;34m(\u001b[0m\u001b[0;34m-\u001b[0m\u001b[0mdot\u001b[0m\u001b[0;34m)\u001b[0m\u001b[0;34m)\u001b[0m\u001b[0;34m\u001b[0m\u001b[0;34m\u001b[0m\u001b[0m\n\u001b[1;32m     44\u001b[0m         \u001b[0;32mreturn\u001b[0m \u001b[0mh_theta\u001b[0m\u001b[0;34m\u001b[0m\u001b[0;34m\u001b[0m\u001b[0m\n",
      "\u001b[0;31mAttributeError\u001b[0m: 'ScratchLogisticRegression' object has no attribute 'coef_'"
     ]
    }
   ],
   "source": [
    "-np.dot(np.log(log_regression.hypothesis_(X_sample)),y_sample) / X_sample.shape[1]  #①を実装"
   ]
  },
  {
   "cell_type": "code",
   "execution_count": 45,
   "metadata": {},
   "outputs": [
    {
     "ename": "AttributeError",
     "evalue": "'ScratchLogisticRegression' object has no attribute 'coef_'",
     "output_type": "error",
     "traceback": [
      "\u001b[0;31m---------------------------------------------------------------------------\u001b[0m",
      "\u001b[0;31mAttributeError\u001b[0m                            Traceback (most recent call last)",
      "\u001b[0;32m<ipython-input-45-139553ec0986>\u001b[0m in \u001b[0;36m<module>\u001b[0;34m\u001b[0m\n\u001b[0;32m----> 1\u001b[0;31m \u001b[0;34m-\u001b[0m\u001b[0mnp\u001b[0m\u001b[0;34m.\u001b[0m\u001b[0mdot\u001b[0m\u001b[0;34m(\u001b[0m\u001b[0mnp\u001b[0m\u001b[0;34m.\u001b[0m\u001b[0mlog\u001b[0m\u001b[0;34m(\u001b[0m\u001b[0;36m1\u001b[0m\u001b[0;34m-\u001b[0m\u001b[0mlog_regression\u001b[0m\u001b[0;34m.\u001b[0m\u001b[0mhypothesis_\u001b[0m\u001b[0;34m(\u001b[0m\u001b[0mX_sample\u001b[0m\u001b[0;34m)\u001b[0m\u001b[0;34m)\u001b[0m\u001b[0;34m,\u001b[0m\u001b[0;34m(\u001b[0m\u001b[0;36m1\u001b[0m\u001b[0;34m-\u001b[0m\u001b[0my_sample\u001b[0m\u001b[0;34m)\u001b[0m\u001b[0;34m)\u001b[0m \u001b[0;34m/\u001b[0m \u001b[0mX_sample\u001b[0m\u001b[0;34m.\u001b[0m\u001b[0mshape\u001b[0m\u001b[0;34m[\u001b[0m\u001b[0;36m1\u001b[0m\u001b[0;34m]\u001b[0m \u001b[0;31m#②を実装\u001b[0m\u001b[0;34m\u001b[0m\u001b[0;34m\u001b[0m\u001b[0m\n\u001b[0m",
      "\u001b[0;32m<ipython-input-37-091a088d5f03>\u001b[0m in \u001b[0;36mhypothesis_\u001b[0;34m(self, X)\u001b[0m\n\u001b[1;32m     40\u001b[0m         \"\"\"\"\"\n\u001b[1;32m     41\u001b[0m         \u001b[0;31m#self.coef_ = np.ones(X.shape[1]) #クラス外での実験用\u001b[0m\u001b[0;34m\u001b[0m\u001b[0;34m\u001b[0m\u001b[0;34m\u001b[0m\u001b[0m\n\u001b[0;32m---> 42\u001b[0;31m         \u001b[0mdot\u001b[0m \u001b[0;34m=\u001b[0m \u001b[0mnp\u001b[0m\u001b[0;34m.\u001b[0m\u001b[0mdot\u001b[0m\u001b[0;34m(\u001b[0m\u001b[0mX\u001b[0m\u001b[0;34m,\u001b[0m\u001b[0mself\u001b[0m\u001b[0;34m.\u001b[0m\u001b[0mcoef_\u001b[0m\u001b[0;34m)\u001b[0m\u001b[0;34m\u001b[0m\u001b[0;34m\u001b[0m\u001b[0m\n\u001b[0m\u001b[1;32m     43\u001b[0m         \u001b[0mh_theta\u001b[0m \u001b[0;34m=\u001b[0m \u001b[0;36m1\u001b[0m\u001b[0;34m/\u001b[0m\u001b[0;34m(\u001b[0m\u001b[0;36m1\u001b[0m\u001b[0;34m+\u001b[0m\u001b[0mnp\u001b[0m\u001b[0;34m.\u001b[0m\u001b[0mexp\u001b[0m\u001b[0;34m(\u001b[0m\u001b[0;34m-\u001b[0m\u001b[0mdot\u001b[0m\u001b[0;34m)\u001b[0m\u001b[0;34m)\u001b[0m\u001b[0;34m\u001b[0m\u001b[0;34m\u001b[0m\u001b[0m\n\u001b[1;32m     44\u001b[0m         \u001b[0;32mreturn\u001b[0m \u001b[0mh_theta\u001b[0m\u001b[0;34m\u001b[0m\u001b[0;34m\u001b[0m\u001b[0m\n",
      "\u001b[0;31mAttributeError\u001b[0m: 'ScratchLogisticRegression' object has no attribute 'coef_'"
     ]
    }
   ],
   "source": [
    "-np.dot(np.log(1-log_regression.hypothesis_(X_sample)),(1-y_sample)) / X_sample.shape[1] #②を実装"
   ]
  },
  {
   "cell_type": "code",
   "execution_count": 46,
   "metadata": {},
   "outputs": [],
   "source": [
    "ramda = 3\n",
    "theta = np.ones(X_sample.shape[1]) #self.coef"
   ]
  },
  {
   "cell_type": "code",
   "execution_count": 47,
   "metadata": {},
   "outputs": [
    {
     "data": {
      "text/plain": [
       "1.5"
      ]
     },
     "execution_count": 47,
     "metadata": {},
     "output_type": "execute_result"
    }
   ],
   "source": [
    "ramda / (2 * X_sample.shape[1]) * sum(theta**2)"
   ]
  },
  {
   "cell_type": "markdown",
   "metadata": {},
   "source": [
    "まとめ"
   ]
  },
  {
   "cell_type": "code",
   "execution_count": 48,
   "metadata": {},
   "outputs": [
    {
     "ename": "AttributeError",
     "evalue": "'ScratchLogisticRegression' object has no attribute 'coef_'",
     "output_type": "error",
     "traceback": [
      "\u001b[0;31m---------------------------------------------------------------------------\u001b[0m",
      "\u001b[0;31mAttributeError\u001b[0m                            Traceback (most recent call last)",
      "\u001b[0;32m<ipython-input-48-d46d643a579c>\u001b[0m in \u001b[0;36m<module>\u001b[0;34m\u001b[0m\n\u001b[0;32m----> 1\u001b[0;31m ((-np.dot(np.log(log_regression.hypothesis_(X_sample)),y_sample)) \\\n\u001b[0m\u001b[1;32m      2\u001b[0m     + (-np.dot(np.log(1-log_regression.hypothesis_(X_sample)),(1-y_sample)))) \\\n\u001b[1;32m      3\u001b[0m     \u001b[0;34m/\u001b[0m \u001b[0mX_sample\u001b[0m\u001b[0;34m.\u001b[0m\u001b[0mshape\u001b[0m\u001b[0;34m[\u001b[0m\u001b[0;36m1\u001b[0m\u001b[0;34m]\u001b[0m\u001b[0;31m \u001b[0m\u001b[0;31m \u001b[0m\u001b[0;31m\\\u001b[0m\u001b[0;34m\u001b[0m\u001b[0;34m\u001b[0m\u001b[0m\n\u001b[1;32m      4\u001b[0m     \u001b[0;34m+\u001b[0m \u001b[0mramda\u001b[0m \u001b[0;34m/\u001b[0m \u001b[0;34m(\u001b[0m\u001b[0;36m2\u001b[0m \u001b[0;34m*\u001b[0m \u001b[0mX_sample\u001b[0m\u001b[0;34m.\u001b[0m\u001b[0mshape\u001b[0m\u001b[0;34m[\u001b[0m\u001b[0;36m1\u001b[0m\u001b[0;34m]\u001b[0m\u001b[0;34m)\u001b[0m \u001b[0;34m*\u001b[0m \u001b[0msum\u001b[0m\u001b[0;34m(\u001b[0m\u001b[0mtheta\u001b[0m\u001b[0;34m**\u001b[0m\u001b[0;36m2\u001b[0m\u001b[0;34m)\u001b[0m\u001b[0;34m\u001b[0m\u001b[0;34m\u001b[0m\u001b[0m\n",
      "\u001b[0;32m<ipython-input-37-091a088d5f03>\u001b[0m in \u001b[0;36mhypothesis_\u001b[0;34m(self, X)\u001b[0m\n\u001b[1;32m     40\u001b[0m         \"\"\"\"\"\n\u001b[1;32m     41\u001b[0m         \u001b[0;31m#self.coef_ = np.ones(X.shape[1]) #クラス外での実験用\u001b[0m\u001b[0;34m\u001b[0m\u001b[0;34m\u001b[0m\u001b[0;34m\u001b[0m\u001b[0m\n\u001b[0;32m---> 42\u001b[0;31m         \u001b[0mdot\u001b[0m \u001b[0;34m=\u001b[0m \u001b[0mnp\u001b[0m\u001b[0;34m.\u001b[0m\u001b[0mdot\u001b[0m\u001b[0;34m(\u001b[0m\u001b[0mX\u001b[0m\u001b[0;34m,\u001b[0m\u001b[0mself\u001b[0m\u001b[0;34m.\u001b[0m\u001b[0mcoef_\u001b[0m\u001b[0;34m)\u001b[0m\u001b[0;34m\u001b[0m\u001b[0;34m\u001b[0m\u001b[0m\n\u001b[0m\u001b[1;32m     43\u001b[0m         \u001b[0mh_theta\u001b[0m \u001b[0;34m=\u001b[0m \u001b[0;36m1\u001b[0m\u001b[0;34m/\u001b[0m\u001b[0;34m(\u001b[0m\u001b[0;36m1\u001b[0m\u001b[0;34m+\u001b[0m\u001b[0mnp\u001b[0m\u001b[0;34m.\u001b[0m\u001b[0mexp\u001b[0m\u001b[0;34m(\u001b[0m\u001b[0;34m-\u001b[0m\u001b[0mdot\u001b[0m\u001b[0;34m)\u001b[0m\u001b[0;34m)\u001b[0m\u001b[0;34m\u001b[0m\u001b[0;34m\u001b[0m\u001b[0m\n\u001b[1;32m     44\u001b[0m         \u001b[0;32mreturn\u001b[0m \u001b[0mh_theta\u001b[0m\u001b[0;34m\u001b[0m\u001b[0;34m\u001b[0m\u001b[0m\n",
      "\u001b[0;31mAttributeError\u001b[0m: 'ScratchLogisticRegression' object has no attribute 'coef_'"
     ]
    }
   ],
   "source": [
    "((-np.dot(np.log(log_regression.hypothesis_(X_sample)),y_sample)) \\\n",
    "    + (-np.dot(np.log(1-log_regression.hypothesis_(X_sample)),(1-y_sample)))) \\\n",
    "    / X_sample.shape[1]  \\\n",
    "    + ramda / (2 * X_sample.shape[1]) * sum(theta**2)"
   ]
  },
  {
   "cell_type": "markdown",
   "metadata": {},
   "source": [
    "#### 　パラメータ更新の式　j>=1の場合"
   ]
  },
  {
   "cell_type": "code",
   "execution_count": 49,
   "metadata": {},
   "outputs": [
    {
     "ename": "AttributeError",
     "evalue": "'ScratchLogisticRegression' object has no attribute 'coef_'",
     "output_type": "error",
     "traceback": [
      "\u001b[0;31m---------------------------------------------------------------------------\u001b[0m",
      "\u001b[0;31mAttributeError\u001b[0m                            Traceback (most recent call last)",
      "\u001b[0;32m<ipython-input-49-aac4354ecd9f>\u001b[0m in \u001b[0;36m<module>\u001b[0;34m\u001b[0m\n\u001b[0;32m----> 1\u001b[0;31m \u001b[0mlog_regression\u001b[0m\u001b[0;34m.\u001b[0m\u001b[0mhypothesis_\u001b[0m\u001b[0;34m(\u001b[0m\u001b[0mX_sample\u001b[0m\u001b[0;34m)\u001b[0m\u001b[0;34m\u001b[0m\u001b[0;34m\u001b[0m\u001b[0m\n\u001b[0m",
      "\u001b[0;32m<ipython-input-37-091a088d5f03>\u001b[0m in \u001b[0;36mhypothesis_\u001b[0;34m(self, X)\u001b[0m\n\u001b[1;32m     40\u001b[0m         \"\"\"\"\"\n\u001b[1;32m     41\u001b[0m         \u001b[0;31m#self.coef_ = np.ones(X.shape[1]) #クラス外での実験用\u001b[0m\u001b[0;34m\u001b[0m\u001b[0;34m\u001b[0m\u001b[0;34m\u001b[0m\u001b[0m\n\u001b[0;32m---> 42\u001b[0;31m         \u001b[0mdot\u001b[0m \u001b[0;34m=\u001b[0m \u001b[0mnp\u001b[0m\u001b[0;34m.\u001b[0m\u001b[0mdot\u001b[0m\u001b[0;34m(\u001b[0m\u001b[0mX\u001b[0m\u001b[0;34m,\u001b[0m\u001b[0mself\u001b[0m\u001b[0;34m.\u001b[0m\u001b[0mcoef_\u001b[0m\u001b[0;34m)\u001b[0m\u001b[0;34m\u001b[0m\u001b[0;34m\u001b[0m\u001b[0m\n\u001b[0m\u001b[1;32m     43\u001b[0m         \u001b[0mh_theta\u001b[0m \u001b[0;34m=\u001b[0m \u001b[0;36m1\u001b[0m\u001b[0;34m/\u001b[0m\u001b[0;34m(\u001b[0m\u001b[0;36m1\u001b[0m\u001b[0;34m+\u001b[0m\u001b[0mnp\u001b[0m\u001b[0;34m.\u001b[0m\u001b[0mexp\u001b[0m\u001b[0;34m(\u001b[0m\u001b[0;34m-\u001b[0m\u001b[0mdot\u001b[0m\u001b[0;34m)\u001b[0m\u001b[0;34m)\u001b[0m\u001b[0;34m\u001b[0m\u001b[0;34m\u001b[0m\u001b[0m\n\u001b[1;32m     44\u001b[0m         \u001b[0;32mreturn\u001b[0m \u001b[0mh_theta\u001b[0m\u001b[0;34m\u001b[0m\u001b[0;34m\u001b[0m\u001b[0m\n",
      "\u001b[0;31mAttributeError\u001b[0m: 'ScratchLogisticRegression' object has no attribute 'coef_'"
     ]
    }
   ],
   "source": [
    "log_regression.hypothesis_(X_sample)"
   ]
  },
  {
   "cell_type": "code",
   "execution_count": 50,
   "metadata": {},
   "outputs": [
    {
     "data": {
      "text/plain": [
       "array([[-1,  0,  0]])"
      ]
     },
     "execution_count": 50,
     "metadata": {},
     "output_type": "execute_result"
    }
   ],
   "source": [
    "-y_sample.T #DIVERの式はiが固定されているが今回は行列処理なので転置を忘れない"
   ]
  },
  {
   "cell_type": "code",
   "execution_count": 51,
   "metadata": {},
   "outputs": [
    {
     "ename": "AttributeError",
     "evalue": "'ScratchLogisticRegression' object has no attribute 'coef_'",
     "output_type": "error",
     "traceback": [
      "\u001b[0;31m---------------------------------------------------------------------------\u001b[0m",
      "\u001b[0;31mAttributeError\u001b[0m                            Traceback (most recent call last)",
      "\u001b[0;32m<ipython-input-51-079c3d4ae36e>\u001b[0m in \u001b[0;36m<module>\u001b[0;34m\u001b[0m\n\u001b[1;32m      1\u001b[0m \u001b[0mX_sample\u001b[0m\u001b[0;34m\u001b[0m\u001b[0;34m\u001b[0m\u001b[0m\n\u001b[0;32m----> 2\u001b[0;31m \u001b[0;34m(\u001b[0m\u001b[0mlog_regression\u001b[0m\u001b[0;34m.\u001b[0m\u001b[0mhypothesis_\u001b[0m\u001b[0;34m(\u001b[0m\u001b[0mX_sample\u001b[0m\u001b[0;34m)\u001b[0m\u001b[0;34m-\u001b[0m\u001b[0my_sample\u001b[0m\u001b[0;34m.\u001b[0m\u001b[0mT\u001b[0m\u001b[0;34m)\u001b[0m\u001b[0;34m\u001b[0m\u001b[0;34m\u001b[0m\u001b[0m\n\u001b[0m\u001b[1;32m      3\u001b[0m \u001b[0mnp\u001b[0m\u001b[0;34m.\u001b[0m\u001b[0mdot\u001b[0m\u001b[0;34m(\u001b[0m\u001b[0mX_sample\u001b[0m\u001b[0;34m,\u001b[0m\u001b[0;34m(\u001b[0m\u001b[0mlog_regression\u001b[0m\u001b[0;34m.\u001b[0m\u001b[0mhypothesis_\u001b[0m\u001b[0;34m(\u001b[0m\u001b[0mX_sample\u001b[0m\u001b[0;34m)\u001b[0m\u001b[0;34m-\u001b[0m\u001b[0my_sample\u001b[0m\u001b[0;34m.\u001b[0m\u001b[0mT\u001b[0m\u001b[0;34m)\u001b[0m\u001b[0;34m.\u001b[0m\u001b[0mT\u001b[0m\u001b[0;34m)\u001b[0m \u001b[0;34m/\u001b[0m \u001b[0mX_sample\u001b[0m\u001b[0;34m.\u001b[0m\u001b[0mshape\u001b[0m\u001b[0;34m[\u001b[0m\u001b[0;36m1\u001b[0m\u001b[0;34m]\u001b[0m \u001b[0;31m#重み側の転置を忘れない\u001b[0m\u001b[0;34m\u001b[0m\u001b[0;34m\u001b[0m\u001b[0m\n",
      "\u001b[0;32m<ipython-input-37-091a088d5f03>\u001b[0m in \u001b[0;36mhypothesis_\u001b[0;34m(self, X)\u001b[0m\n\u001b[1;32m     40\u001b[0m         \"\"\"\"\"\n\u001b[1;32m     41\u001b[0m         \u001b[0;31m#self.coef_ = np.ones(X.shape[1]) #クラス外での実験用\u001b[0m\u001b[0;34m\u001b[0m\u001b[0;34m\u001b[0m\u001b[0;34m\u001b[0m\u001b[0m\n\u001b[0;32m---> 42\u001b[0;31m         \u001b[0mdot\u001b[0m \u001b[0;34m=\u001b[0m \u001b[0mnp\u001b[0m\u001b[0;34m.\u001b[0m\u001b[0mdot\u001b[0m\u001b[0;34m(\u001b[0m\u001b[0mX\u001b[0m\u001b[0;34m,\u001b[0m\u001b[0mself\u001b[0m\u001b[0;34m.\u001b[0m\u001b[0mcoef_\u001b[0m\u001b[0;34m)\u001b[0m\u001b[0;34m\u001b[0m\u001b[0;34m\u001b[0m\u001b[0m\n\u001b[0m\u001b[1;32m     43\u001b[0m         \u001b[0mh_theta\u001b[0m \u001b[0;34m=\u001b[0m \u001b[0;36m1\u001b[0m\u001b[0;34m/\u001b[0m\u001b[0;34m(\u001b[0m\u001b[0;36m1\u001b[0m\u001b[0;34m+\u001b[0m\u001b[0mnp\u001b[0m\u001b[0;34m.\u001b[0m\u001b[0mexp\u001b[0m\u001b[0;34m(\u001b[0m\u001b[0;34m-\u001b[0m\u001b[0mdot\u001b[0m\u001b[0;34m)\u001b[0m\u001b[0;34m)\u001b[0m\u001b[0;34m\u001b[0m\u001b[0;34m\u001b[0m\u001b[0m\n\u001b[1;32m     44\u001b[0m         \u001b[0;32mreturn\u001b[0m \u001b[0mh_theta\u001b[0m\u001b[0;34m\u001b[0m\u001b[0;34m\u001b[0m\u001b[0m\n",
      "\u001b[0;31mAttributeError\u001b[0m: 'ScratchLogisticRegression' object has no attribute 'coef_'"
     ]
    }
   ],
   "source": [
    "X_sample\n",
    "(log_regression.hypothesis_(X_sample)-y_sample.T)\n",
    "np.dot(X_sample,(log_regression.hypothesis_(X_sample)-y_sample.T).T) / X_sample.shape[1] #重み側の転置を忘れない"
   ]
  },
  {
   "cell_type": "code",
   "execution_count": 52,
   "metadata": {},
   "outputs": [
    {
     "ename": "AttributeError",
     "evalue": "'ScratchLogisticRegression' object has no attribute 'coef_'",
     "output_type": "error",
     "traceback": [
      "\u001b[0;31m---------------------------------------------------------------------------\u001b[0m",
      "\u001b[0;31mAttributeError\u001b[0m                            Traceback (most recent call last)",
      "\u001b[0;32m<ipython-input-52-5402e15f9247>\u001b[0m in \u001b[0;36m<module>\u001b[0;34m\u001b[0m\n\u001b[0;32m----> 1\u001b[0;31m \u001b[0;34m(\u001b[0m\u001b[0mramda\u001b[0m \u001b[0;34m/\u001b[0m \u001b[0mX_sample\u001b[0m\u001b[0;34m.\u001b[0m\u001b[0mshape\u001b[0m\u001b[0;34m[\u001b[0m\u001b[0;36m1\u001b[0m\u001b[0;34m]\u001b[0m\u001b[0;34m)\u001b[0m \u001b[0;34m*\u001b[0m \u001b[0mtheta\u001b[0m\u001b[0;34m.\u001b[0m\u001b[0mreshape\u001b[0m\u001b[0;34m(\u001b[0m\u001b[0;34m-\u001b[0m\u001b[0;36m1\u001b[0m\u001b[0;34m,\u001b[0m\u001b[0;36m1\u001b[0m\u001b[0;34m)\u001b[0m \u001b[0;34m+\u001b[0m \u001b[0mnp\u001b[0m\u001b[0;34m.\u001b[0m\u001b[0mdot\u001b[0m\u001b[0;34m(\u001b[0m\u001b[0mX_sample\u001b[0m\u001b[0;34m,\u001b[0m\u001b[0;34m(\u001b[0m\u001b[0mlog_regression\u001b[0m\u001b[0;34m.\u001b[0m\u001b[0mhypothesis_\u001b[0m\u001b[0;34m(\u001b[0m\u001b[0mX_sample\u001b[0m\u001b[0;34m)\u001b[0m\u001b[0;34m-\u001b[0m\u001b[0my_sample\u001b[0m\u001b[0;34m.\u001b[0m\u001b[0mT\u001b[0m\u001b[0;34m)\u001b[0m\u001b[0;34m.\u001b[0m\u001b[0mT\u001b[0m\u001b[0;34m)\u001b[0m \u001b[0;34m/\u001b[0m \u001b[0mX_sample\u001b[0m\u001b[0;34m.\u001b[0m\u001b[0mshape\u001b[0m\u001b[0;34m[\u001b[0m\u001b[0;36m1\u001b[0m\u001b[0;34m]\u001b[0m\u001b[0;34m\u001b[0m\u001b[0;34m\u001b[0m\u001b[0m\n\u001b[0m",
      "\u001b[0;32m<ipython-input-37-091a088d5f03>\u001b[0m in \u001b[0;36mhypothesis_\u001b[0;34m(self, X)\u001b[0m\n\u001b[1;32m     40\u001b[0m         \"\"\"\"\"\n\u001b[1;32m     41\u001b[0m         \u001b[0;31m#self.coef_ = np.ones(X.shape[1]) #クラス外での実験用\u001b[0m\u001b[0;34m\u001b[0m\u001b[0;34m\u001b[0m\u001b[0;34m\u001b[0m\u001b[0m\n\u001b[0;32m---> 42\u001b[0;31m         \u001b[0mdot\u001b[0m \u001b[0;34m=\u001b[0m \u001b[0mnp\u001b[0m\u001b[0;34m.\u001b[0m\u001b[0mdot\u001b[0m\u001b[0;34m(\u001b[0m\u001b[0mX\u001b[0m\u001b[0;34m,\u001b[0m\u001b[0mself\u001b[0m\u001b[0;34m.\u001b[0m\u001b[0mcoef_\u001b[0m\u001b[0;34m)\u001b[0m\u001b[0;34m\u001b[0m\u001b[0;34m\u001b[0m\u001b[0m\n\u001b[0m\u001b[1;32m     43\u001b[0m         \u001b[0mh_theta\u001b[0m \u001b[0;34m=\u001b[0m \u001b[0;36m1\u001b[0m\u001b[0;34m/\u001b[0m\u001b[0;34m(\u001b[0m\u001b[0;36m1\u001b[0m\u001b[0;34m+\u001b[0m\u001b[0mnp\u001b[0m\u001b[0;34m.\u001b[0m\u001b[0mexp\u001b[0m\u001b[0;34m(\u001b[0m\u001b[0;34m-\u001b[0m\u001b[0mdot\u001b[0m\u001b[0;34m)\u001b[0m\u001b[0;34m)\u001b[0m\u001b[0;34m\u001b[0m\u001b[0;34m\u001b[0m\u001b[0m\n\u001b[1;32m     44\u001b[0m         \u001b[0;32mreturn\u001b[0m \u001b[0mh_theta\u001b[0m\u001b[0;34m\u001b[0m\u001b[0;34m\u001b[0m\u001b[0m\n",
      "\u001b[0;31mAttributeError\u001b[0m: 'ScratchLogisticRegression' object has no attribute 'coef_'"
     ]
    }
   ],
   "source": [
    "(ramda / X_sample.shape[1]) * theta.reshape(-1,1) + np.dot(X_sample,(log_regression.hypothesis_(X_sample)-y_sample.T).T) / X_sample.shape[1]"
   ]
  },
  {
   "cell_type": "code",
   "execution_count": 53,
   "metadata": {},
   "outputs": [
    {
     "data": {
      "text/plain": [
       "array([[1.],\n",
       "       [1.],\n",
       "       [1.]])"
      ]
     },
     "execution_count": 53,
     "metadata": {},
     "output_type": "execute_result"
    }
   ],
   "source": [
    "theta.reshape(-1,1)"
   ]
  },
  {
   "cell_type": "markdown",
   "metadata": {},
   "source": [
    "#### 　パラメータ更新の式　j=0の場合"
   ]
  },
  {
   "cell_type": "code",
   "execution_count": 54,
   "metadata": {},
   "outputs": [
    {
     "ename": "AttributeError",
     "evalue": "'ScratchLogisticRegression' object has no attribute 'coef_'",
     "output_type": "error",
     "traceback": [
      "\u001b[0;31m---------------------------------------------------------------------------\u001b[0m",
      "\u001b[0;31mAttributeError\u001b[0m                            Traceback (most recent call last)",
      "\u001b[0;32m<ipython-input-54-11b0cfac1419>\u001b[0m in \u001b[0;36m<module>\u001b[0;34m\u001b[0m\n\u001b[0;32m----> 1\u001b[0;31m \u001b[0mnp\u001b[0m\u001b[0;34m.\u001b[0m\u001b[0mdot\u001b[0m\u001b[0;34m(\u001b[0m\u001b[0mX_sample\u001b[0m\u001b[0;34m,\u001b[0m\u001b[0;34m(\u001b[0m\u001b[0mlog_regression\u001b[0m\u001b[0;34m.\u001b[0m\u001b[0mhypothesis_\u001b[0m\u001b[0;34m(\u001b[0m\u001b[0mX_sample\u001b[0m\u001b[0;34m)\u001b[0m\u001b[0;34m-\u001b[0m\u001b[0my_sample\u001b[0m\u001b[0;34m.\u001b[0m\u001b[0mT\u001b[0m\u001b[0;34m)\u001b[0m\u001b[0;34m.\u001b[0m\u001b[0mT\u001b[0m\u001b[0;34m)\u001b[0m \u001b[0;34m/\u001b[0m \u001b[0mX_sample\u001b[0m\u001b[0;34m.\u001b[0m\u001b[0mshape\u001b[0m\u001b[0;34m[\u001b[0m\u001b[0;36m1\u001b[0m\u001b[0;34m]\u001b[0m\u001b[0;34m\u001b[0m\u001b[0;34m\u001b[0m\u001b[0m\n\u001b[0m",
      "\u001b[0;32m<ipython-input-37-091a088d5f03>\u001b[0m in \u001b[0;36mhypothesis_\u001b[0;34m(self, X)\u001b[0m\n\u001b[1;32m     40\u001b[0m         \"\"\"\"\"\n\u001b[1;32m     41\u001b[0m         \u001b[0;31m#self.coef_ = np.ones(X.shape[1]) #クラス外での実験用\u001b[0m\u001b[0;34m\u001b[0m\u001b[0;34m\u001b[0m\u001b[0;34m\u001b[0m\u001b[0m\n\u001b[0;32m---> 42\u001b[0;31m         \u001b[0mdot\u001b[0m \u001b[0;34m=\u001b[0m \u001b[0mnp\u001b[0m\u001b[0;34m.\u001b[0m\u001b[0mdot\u001b[0m\u001b[0;34m(\u001b[0m\u001b[0mX\u001b[0m\u001b[0;34m,\u001b[0m\u001b[0mself\u001b[0m\u001b[0;34m.\u001b[0m\u001b[0mcoef_\u001b[0m\u001b[0;34m)\u001b[0m\u001b[0;34m\u001b[0m\u001b[0;34m\u001b[0m\u001b[0m\n\u001b[0m\u001b[1;32m     43\u001b[0m         \u001b[0mh_theta\u001b[0m \u001b[0;34m=\u001b[0m \u001b[0;36m1\u001b[0m\u001b[0;34m/\u001b[0m\u001b[0;34m(\u001b[0m\u001b[0;36m1\u001b[0m\u001b[0;34m+\u001b[0m\u001b[0mnp\u001b[0m\u001b[0;34m.\u001b[0m\u001b[0mexp\u001b[0m\u001b[0;34m(\u001b[0m\u001b[0;34m-\u001b[0m\u001b[0mdot\u001b[0m\u001b[0;34m)\u001b[0m\u001b[0;34m)\u001b[0m\u001b[0;34m\u001b[0m\u001b[0;34m\u001b[0m\u001b[0m\n\u001b[1;32m     44\u001b[0m         \u001b[0;32mreturn\u001b[0m \u001b[0mh_theta\u001b[0m\u001b[0;34m\u001b[0m\u001b[0;34m\u001b[0m\u001b[0m\n",
      "\u001b[0;31mAttributeError\u001b[0m: 'ScratchLogisticRegression' object has no attribute 'coef_'"
     ]
    }
   ],
   "source": [
    "np.dot(X_sample,(log_regression.hypothesis_(X_sample)-y_sample.T).T) / X_sample.shape[1]"
   ]
  },
  {
   "cell_type": "code",
   "execution_count": 55,
   "metadata": {},
   "outputs": [
    {
     "data": {
      "text/plain": [
       "array([1., 1., 1.])"
      ]
     },
     "execution_count": 55,
     "metadata": {},
     "output_type": "execute_result"
    }
   ],
   "source": [
    "np.ones(X_sample.shape[1])"
   ]
  },
  {
   "cell_type": "code",
   "execution_count": 56,
   "metadata": {},
   "outputs": [
    {
     "data": {
      "text/plain": [
       "array([[1., 1., 2., 3.],\n",
       "       [1., 4., 5., 6.],\n",
       "       [1., 7., 8., 9.]])"
      ]
     },
     "execution_count": 56,
     "metadata": {},
     "output_type": "execute_result"
    }
   ],
   "source": [
    "np.hstack([np.c_[np.ones(X_sample.shape[0])],np.c_[X_sample]]) "
   ]
  },
  {
   "cell_type": "code",
   "execution_count": 57,
   "metadata": {},
   "outputs": [
    {
     "data": {
      "text/plain": [
       "array([[1.],\n",
       "       [1.],\n",
       "       [1.]])"
      ]
     },
     "execution_count": 57,
     "metadata": {},
     "output_type": "execute_result"
    }
   ],
   "source": [
    "np.c_[np.ones(X_sample.shape[0])]"
   ]
  },
  {
   "cell_type": "markdown",
   "metadata": {},
   "source": [
    "ここから実験室⬇︎"
   ]
  },
  {
   "cell_type": "code",
   "execution_count": 189,
   "metadata": {},
   "outputs": [
    {
     "data": {
      "text/plain": [
       "array([[0, 0, 1],\n",
       "       [0, 0, 2],\n",
       "       [0, 1, 2],\n",
       "       [1, 1, 1]])"
      ]
     },
     "execution_count": 189,
     "metadata": {},
     "output_type": "execute_result"
    }
   ],
   "source": [
    "X = np.array([[0,0,1],[0,0,2],[0,1,2],[1,1,1]])\n",
    "y = np.array([[0],[0],[1],[1]])\n",
    "X"
   ]
  },
  {
   "cell_type": "code",
   "execution_count": 223,
   "metadata": {},
   "outputs": [
    {
     "data": {
      "text/plain": [
       "array([[0.5],\n",
       "       [0.5],\n",
       "       [0.5],\n",
       "       [0.5]])"
      ]
     },
     "execution_count": 223,
     "metadata": {},
     "output_type": "execute_result"
    }
   ],
   "source": [
    "loss = []\n",
    "val_loss = []\n",
    "coef_ = np.zeros(X.shape[1])\n",
    "lr = 0.1\n",
    "iter = 10\n",
    "\n",
    "def hypothesis_(X):\n",
    "        \"\"\"\"\"\n",
    "        仮説関数\n",
    "        X行列と重みの内積をシグモイド関数に入れる\n",
    "        \n",
    "        重みの初期値は全て1\n",
    "        \"\"\"\"\"\n",
    "        #self.coef_ = np.ones(X.shape[1]) #クラス外での実験用\n",
    "        dot = np.dot(X,coef_.reshape(-1,1))\n",
    "        h_theta = 1/(1+np.exp(-dot))\n",
    "        return h_theta.reshape(-1,1)\n",
    "\n",
    "hypothesis_(X)"
   ]
  },
  {
   "cell_type": "code",
   "execution_count": 194,
   "metadata": {},
   "outputs": [
    {
     "data": {
      "text/plain": [
       "array([0., 0., 0.])"
      ]
     },
     "execution_count": 194,
     "metadata": {},
     "output_type": "execute_result"
    }
   ],
   "source": [
    "coef_"
   ]
  },
  {
   "cell_type": "code",
   "execution_count": 195,
   "metadata": {},
   "outputs": [
    {
     "data": {
      "text/plain": [
       "array([[0.5],\n",
       "       [0.5],\n",
       "       [0.5],\n",
       "       [0.5]])"
      ]
     },
     "execution_count": 195,
     "metadata": {},
     "output_type": "execute_result"
    }
   ],
   "source": [
    "hypothesis_(X)"
   ]
  },
  {
   "cell_type": "code",
   "execution_count": 196,
   "metadata": {},
   "outputs": [
    {
     "data": {
      "text/plain": [
       "array([[0],\n",
       "       [0],\n",
       "       [1],\n",
       "       [1]])"
      ]
     },
     "execution_count": 196,
     "metadata": {},
     "output_type": "execute_result"
    }
   ],
   "source": [
    "y"
   ]
  },
  {
   "cell_type": "code",
   "execution_count": 197,
   "metadata": {},
   "outputs": [
    {
     "data": {
      "text/plain": [
       "array([[ 0.5],\n",
       "       [ 0.5],\n",
       "       [-0.5],\n",
       "       [-0.5]])"
      ]
     },
     "execution_count": 197,
     "metadata": {},
     "output_type": "execute_result"
    }
   ],
   "source": [
    "hypothesis_(X) - y"
   ]
  },
  {
   "cell_type": "code",
   "execution_count": 198,
   "metadata": {},
   "outputs": [
    {
     "data": {
      "text/plain": [
       "array([[ 0. ,  0. ,  0.5],\n",
       "       [ 0. ,  0. ,  1. ],\n",
       "       [-0. , -0.5, -1. ],\n",
       "       [-0.5, -0.5, -0.5]])"
      ]
     },
     "execution_count": 198,
     "metadata": {},
     "output_type": "execute_result"
    }
   ],
   "source": [
    "(hypothesis_(X)- y) * X"
   ]
  },
  {
   "cell_type": "code",
   "execution_count": 199,
   "metadata": {},
   "outputs": [
    {
     "data": {
      "text/plain": [
       "array([-0.125, -0.25 ,  0.   ])"
      ]
     },
     "execution_count": 199,
     "metadata": {},
     "output_type": "execute_result"
    }
   ],
   "source": [
    "((hypothesis_(X)- y) * X).mean(axis=0) + (ramda / X.shape[1] * coef_)"
   ]
  },
  {
   "cell_type": "code",
   "execution_count": 200,
   "metadata": {},
   "outputs": [
    {
     "name": "stdout",
     "output_type": "stream",
     "text": [
      "[[0.5]\n",
      " [0.5]\n",
      " [0.5]\n",
      " [0.5]]\n",
      "[0.0125 0.025  0.    ]\n",
      "[[0.5       ]\n",
      " [0.5       ]\n",
      " [0.50624967]\n",
      " [0.5093739 ]]\n",
      "[ 0.03726565  0.07460941 -0.00054683]\n",
      "[[0.49986329]\n",
      " [0.49972658]\n",
      " [0.51837066]\n",
      " [0.52780335]]\n",
      "[ 0.08633622  0.17306447 -0.00269019]\n",
      "[[0.49932745]\n",
      " [0.49865491]\n",
      " [0.54182307]\n",
      " [0.56382749]]\n",
      "[ 0.18357676  0.36848768 -0.00898315]\n",
      "[[0.49775423]\n",
      " [0.49550854]\n",
      " [0.586744  ]\n",
      " [0.63252891]]\n",
      "[ 0.37634029  0.75649353 -0.02533601]\n",
      "[[0.49366634]\n",
      " [0.4873347 ]\n",
      " [0.66947721]\n",
      " [0.75166233]]\n",
      "[ 0.75888902  1.52745858 -0.06464584]\n",
      "[[0.48384417]\n",
      " [0.46772203]\n",
      " [0.80189284]\n",
      " [0.90218148]]\n",
      "[ 1.5202235   3.0623153  -0.15242307]\n",
      "[[0.46196784]\n",
      " [0.42437324]\n",
      " [0.9403338 ]\n",
      " [0.98822714]]\n",
      "[ 3.04074132  6.12641657 -0.33433636]\n",
      "[[0.4171859 ]\n",
      " [0.3387941 ]\n",
      " [0.99575493]\n",
      " [0.99985416]]\n",
      "[ 6.08148628 12.25294291 -0.69582617]\n",
      "[[0.33273827]\n",
      " [0.1991441 ]\n",
      " [0.99998081]\n",
      " [0.99999998]]\n",
      "[12.16297256 24.5058863  -1.40992705]\n"
     ]
    }
   ],
   "source": [
    "for i in range(0,iter):\n",
    "        y_pred_temp = hypothesis_(X)#試行回数時点のthetaにおける予測値\n",
    "        print(y_pred_temp)\n",
    "        #y_val_pred_temp = hypothesis_(X_val) #試行回数時点のthetaにおけるy_val予測値\n",
    "            \n",
    "        #一旦 j >=　1の場合の計算式で実施\n",
    "        coef_ = coef_ - lr * ((hypothesis_(X)- y) * X).mean(axis=0) + (ramda / X.shape[1] * coef_) #重み更新\n",
    "        print(coef_)\n",
    "        #loss[i] = ((y_pred_temp - y)**2).mean() #学習データの損失関数MSEスコアを格納してゆく\n",
    "        #val_loss[i] = ((y_val_pred_temp - y_val)**2).mean() #検証データのMSEスコアを格納してゆく"
   ]
  },
  {
   "cell_type": "code",
   "execution_count": 264,
   "metadata": {},
   "outputs": [
    {
     "data": {
      "text/plain": [
       "array([1. , 1.4, 1.4])"
      ]
     },
     "execution_count": 264,
     "metadata": {},
     "output_type": "execute_result"
    }
   ],
   "source": [
    "coef_ = np.ones(X.shape[1])\n",
    "coef_[1:] = coef_[1:] + 0.4\n",
    "coef_"
   ]
  },
  {
   "cell_type": "code",
   "execution_count": null,
   "metadata": {},
   "outputs": [],
   "source": []
  },
  {
   "cell_type": "code",
   "execution_count": 131,
   "metadata": {},
   "outputs": [],
   "source": [
    "X_val=None"
   ]
  },
  {
   "cell_type": "code",
   "execution_count": 132,
   "metadata": {},
   "outputs": [
    {
     "data": {
      "text/plain": [
       "array([[0, 0, 1],\n",
       "       [0, 0, 2],\n",
       "       [0, 1, 2],\n",
       "       [1, 1, 1]])"
      ]
     },
     "execution_count": 132,
     "metadata": {},
     "output_type": "execute_result"
    }
   ],
   "source": [
    "X_val = X\n",
    "X_val"
   ]
  },
  {
   "cell_type": "code",
   "execution_count": 231,
   "metadata": {},
   "outputs": [
    {
     "data": {
      "text/plain": [
       "(30, 4)"
      ]
     },
     "execution_count": 231,
     "metadata": {},
     "output_type": "execute_result"
    }
   ],
   "source": [
    "(X_val * X_val[1]).shape"
   ]
  },
  {
   "cell_type": "code",
   "execution_count": 348,
   "metadata": {},
   "outputs": [],
   "source": [
    "def sigmoid_(X):\n",
    "    \"\"\"\"\"\n",
    "    シグモイド関数の作成 #今回は一旦使わないが...\n",
    "    \"\"\"\"\"\n",
    "    return 1/(1+np.exp(-X))"
   ]
  },
  {
   "cell_type": "code",
   "execution_count": 353,
   "metadata": {},
   "outputs": [],
   "source": [
    "\n",
    "\n",
    "def hypothesis_(X):\n",
    "    \"\"\"\"\"\n",
    "    仮説関数\n",
    "    X行列と重みの内積をシグモイド関数に入れる\n",
    "        \n",
    "    重みの初期値は全て1\n",
    "        \n",
    "        Xの配列は(n_samples,n_features)\n",
    "     \n",
    "    返す値の配列は(n_sanples,1)\n",
    "        \n",
    "    \"\"\"\"\"\n",
    "    #self.coef_ = np.ones(X.shape[1]) #クラス外での実験用\n",
    "    dot = np.dot(X,coef_.reshape(-1,1))\n",
    "    h_theta = sigmoid_(dot)\n",
    "    return h_theta"
   ]
  },
  {
   "cell_type": "code",
   "execution_count": 354,
   "metadata": {},
   "outputs": [
    {
     "data": {
      "text/plain": [
       "array([[0.99999972],\n",
       "       [0.99986363],\n",
       "       [0.99999876],\n",
       "       [0.99999848],\n",
       "       [0.99999983],\n",
       "       [0.99999979],\n",
       "       [0.99999815],\n",
       "       [0.99998763],\n",
       "       [0.99999959],\n",
       "       [0.99998987],\n",
       "       [0.99991728],\n",
       "       [0.99999917],\n",
       "       [0.99988835],\n",
       "       [0.99999888],\n",
       "       [0.99994455],\n",
       "       [0.99997508],\n",
       "       [0.99999963],\n",
       "       [0.9999546 ],\n",
       "       [0.99999795],\n",
       "       [0.99999083],\n",
       "       [0.99992515],\n",
       "       [0.99996637],\n",
       "       [0.99999938],\n",
       "       [0.99999083],\n",
       "       [0.99997746],\n",
       "       [0.99999985],\n",
       "       [0.99990858],\n",
       "       [0.99997746],\n",
       "       [0.99999979],\n",
       "       [0.99994983],\n",
       "       [0.99995892],\n",
       "       [0.99999724],\n",
       "       [0.9999796 ],\n",
       "       [0.99999938],\n",
       "       [0.99999989],\n",
       "       [0.99991728],\n",
       "       [0.99999954],\n",
       "       [0.99999908],\n",
       "       [0.99999992],\n",
       "       [0.99977518],\n",
       "       [0.99996957],\n",
       "       [0.99999898],\n",
       "       [0.99999171],\n",
       "       [0.9999833 ],\n",
       "       [0.99992515],\n",
       "       [0.99999944],\n",
       "       [0.99999944],\n",
       "       [0.99998154],\n",
       "       [0.99999925],\n",
       "       [0.99999992],\n",
       "       [0.99999724],\n",
       "       [0.99986363],\n",
       "       [0.99999932],\n",
       "       [0.99999983],\n",
       "       [0.99999979],\n",
       "       [0.99999975],\n",
       "       [0.99997746],\n",
       "       [0.99999663],\n",
       "       [0.99999988],\n",
       "       [0.9999888 ],\n",
       "       [0.99996957],\n",
       "       [0.9999546 ],\n",
       "       [0.99999925],\n",
       "       [0.99993872],\n",
       "       [0.99998987],\n",
       "       [0.99996283],\n",
       "       [0.99991728],\n",
       "       [0.99999992],\n",
       "       [0.99999386],\n",
       "       [0.99996283]])"
      ]
     },
     "execution_count": 354,
     "metadata": {},
     "output_type": "execute_result"
    }
   ],
   "source": [
    "hypothesis_(X)"
   ]
  },
  {
   "cell_type": "code",
   "execution_count": 366,
   "metadata": {},
   "outputs": [
    {
     "ename": "ValueError",
     "evalue": "shapes (70,4) and (4900,1) not aligned: 4 (dim 1) != 4900 (dim 0)",
     "output_type": "error",
     "traceback": [
      "\u001b[0;31m---------------------------------------------------------------------------\u001b[0m",
      "\u001b[0;31mValueError\u001b[0m                                Traceback (most recent call last)",
      "\u001b[0;32m<ipython-input-366-b2d367709f8d>\u001b[0m in \u001b[0;36m<module>\u001b[0;34m\u001b[0m\n\u001b[0;32m----> 1\u001b[0;31m \u001b[0mhypothesis_\u001b[0m\u001b[0;34m(\u001b[0m\u001b[0mX\u001b[0m\u001b[0;34m)\u001b[0m\u001b[0;34m-\u001b[0m \u001b[0my\u001b[0m\u001b[0;34m\u001b[0m\u001b[0;34m\u001b[0m\u001b[0m\n\u001b[0m",
      "\u001b[0;32m<ipython-input-353-4310a64d43d5>\u001b[0m in \u001b[0;36mhypothesis_\u001b[0;34m(X)\u001b[0m\n\u001b[1;32m     14\u001b[0m     \"\"\"\"\"\n\u001b[1;32m     15\u001b[0m     \u001b[0;31m#self.coef_ = np.ones(X.shape[1]) #クラス外での実験用\u001b[0m\u001b[0;34m\u001b[0m\u001b[0;34m\u001b[0m\u001b[0;34m\u001b[0m\u001b[0m\n\u001b[0;32m---> 16\u001b[0;31m     \u001b[0mdot\u001b[0m \u001b[0;34m=\u001b[0m \u001b[0mnp\u001b[0m\u001b[0;34m.\u001b[0m\u001b[0mdot\u001b[0m\u001b[0;34m(\u001b[0m\u001b[0mX\u001b[0m\u001b[0;34m,\u001b[0m\u001b[0mcoef_\u001b[0m\u001b[0;34m.\u001b[0m\u001b[0mreshape\u001b[0m\u001b[0;34m(\u001b[0m\u001b[0;34m-\u001b[0m\u001b[0;36m1\u001b[0m\u001b[0;34m,\u001b[0m\u001b[0;36m1\u001b[0m\u001b[0;34m)\u001b[0m\u001b[0;34m)\u001b[0m\u001b[0;34m\u001b[0m\u001b[0;34m\u001b[0m\u001b[0m\n\u001b[0m\u001b[1;32m     17\u001b[0m     \u001b[0mh_theta\u001b[0m \u001b[0;34m=\u001b[0m \u001b[0msigmoid_\u001b[0m\u001b[0;34m(\u001b[0m\u001b[0mdot\u001b[0m\u001b[0;34m)\u001b[0m\u001b[0;34m\u001b[0m\u001b[0;34m\u001b[0m\u001b[0m\n\u001b[1;32m     18\u001b[0m     \u001b[0;32mreturn\u001b[0m \u001b[0mh_theta\u001b[0m\u001b[0;34m\u001b[0m\u001b[0;34m\u001b[0m\u001b[0m\n",
      "\u001b[0;31mValueError\u001b[0m: shapes (70,4) and (4900,1) not aligned: 4 (dim 1) != 4900 (dim 0)"
     ]
    }
   ],
   "source": [
    "hypothesis_(X)- y\n"
   ]
  },
  {
   "cell_type": "code",
   "execution_count": 379,
   "metadata": {},
   "outputs": [
    {
     "data": {
      "text/plain": [
       "array([[0],\n",
       "       [0],\n",
       "       [1],\n",
       "       [0],\n",
       "       [0],\n",
       "       [0],\n",
       "       [1],\n",
       "       [1],\n",
       "       [0],\n",
       "       [0],\n",
       "       [0],\n",
       "       [0],\n",
       "       [0],\n",
       "       [0],\n",
       "       [0],\n",
       "       [1],\n",
       "       [0],\n",
       "       [1],\n",
       "       [1],\n",
       "       [1],\n",
       "       [0],\n",
       "       [0],\n",
       "       [1],\n",
       "       [1],\n",
       "       [1],\n",
       "       [1],\n",
       "       [1],\n",
       "       [1],\n",
       "       [0],\n",
       "       [0],\n",
       "       [0],\n",
       "       [1],\n",
       "       [0],\n",
       "       [1],\n",
       "       [1],\n",
       "       [0],\n",
       "       [0],\n",
       "       [1],\n",
       "       [0],\n",
       "       [1],\n",
       "       [1],\n",
       "       [1],\n",
       "       [0],\n",
       "       [0],\n",
       "       [0],\n",
       "       [0],\n",
       "       [0],\n",
       "       [0],\n",
       "       [1],\n",
       "       [1],\n",
       "       [0],\n",
       "       [1],\n",
       "       [1],\n",
       "       [1],\n",
       "       [0],\n",
       "       [1],\n",
       "       [1],\n",
       "       [1],\n",
       "       [1],\n",
       "       [1],\n",
       "       [0],\n",
       "       [1],\n",
       "       [1],\n",
       "       [1],\n",
       "       [0],\n",
       "       [0],\n",
       "       [1],\n",
       "       [1],\n",
       "       [1],\n",
       "       [0]])"
      ]
     },
     "execution_count": 379,
     "metadata": {},
     "output_type": "execute_result"
    }
   ],
   "source": [
    "from sklearn.datasets import load_iris\n",
    "from sklearn import datasets\n",
    "import pandas as pd\n",
    "\n",
    "#データセット読み込み\n",
    "iris = datasets.load_iris()\n",
    "X = iris.data\n",
    "y = iris.target\n",
    "\n",
    "\n",
    "#データセットの準備 ラベルが０または１のみのデータを抜き出す。\n",
    "df = pd.DataFrame(iris.data, columns=iris.feature_names)\n",
    "df['target'] = iris.target\n",
    "df_2 = df[df['target'] != 2]\n",
    "\n",
    "#データの配列変換\n",
    "X = np.array(df_2.iloc[:,:4])\n",
    "y = np.array(df_2.iloc[:,4]).reshape(-1,1)\n",
    "\n",
    "#学習データ、検証データ分割\n",
    "from sklearn.model_selection import train_test_split\n",
    "X, X_val, y, y_val = train_test_split(X, y,test_size=0.3)\n",
    "y"
   ]
  },
  {
   "cell_type": "code",
   "execution_count": 380,
   "metadata": {},
   "outputs": [
    {
     "data": {
      "text/plain": [
       "(70, 1)"
      ]
     },
     "execution_count": 380,
     "metadata": {},
     "output_type": "execute_result"
    }
   ],
   "source": [
    "(hypothesis_(X)-y).shape"
   ]
  },
  {
   "cell_type": "code",
   "execution_count": 381,
   "metadata": {},
   "outputs": [],
   "source": [
    "coef_ = np.ones(X.shape[1])"
   ]
  },
  {
   "cell_type": "code",
   "execution_count": null,
   "metadata": {},
   "outputs": [],
   "source": []
  }
 ],
 "metadata": {
  "kernelspec": {
   "display_name": "Python 3",
   "language": "python",
   "name": "python3"
  },
  "language_info": {
   "codemirror_mode": {
    "name": "ipython",
    "version": 3
   },
   "file_extension": ".py",
   "mimetype": "text/x-python",
   "name": "python",
   "nbconvert_exporter": "python",
   "pygments_lexer": "ipython3",
   "version": "3.7.3"
  }
 },
 "nbformat": 4,
 "nbformat_minor": 2
}
