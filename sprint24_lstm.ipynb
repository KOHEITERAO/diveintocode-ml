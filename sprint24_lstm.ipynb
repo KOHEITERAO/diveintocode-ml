{
  "nbformat": 4,
  "nbformat_minor": 0,
  "metadata": {
    "colab": {
      "name": "sprint24-lstm.ipynb",
      "version": "0.3.2",
      "provenance": [],
      "include_colab_link": true
    },
    "kernelspec": {
      "name": "python3",
      "display_name": "Python 3"
    },
    "accelerator": "GPU"
  },
  "cells": [
    {
      "cell_type": "markdown",
      "metadata": {
        "id": "view-in-github",
        "colab_type": "text"
      },
      "source": [
        "<a href=\"https://colab.research.google.com/github/KOHEITERAO/diveintocode-ml/blob/master/sprint24_lstm.ipynb\" target=\"_parent\"><img src=\"https://colab.research.google.com/assets/colab-badge.svg\" alt=\"Open In Colab\"/></a>"
      ]
    },
    {
      "cell_type": "markdown",
      "metadata": {
        "id": "dUzvL-O7MgH-",
        "colab_type": "text"
      },
      "source": [
        "# KerasのRecurrentレイヤー\n",
        "Kerasには複数のRecurrentレイヤーが用意されています。今回のSprintではこれら全てを動かし、それらを理解し区別できる状態を目指します。\n",
        "\n",
        "以下のドキュメントにまとめられています。\n",
        "\n",
        "Recurrentレイヤー - Keras Documentation\n",
        "\n",
        "次の11個の項目があります。\n",
        "\n",
        "* RNN\n",
        "* SimpleRNN\n",
        "* GRU\n",
        "* LSTM\n",
        "* ConvLSTM2D\n",
        "* SimpleRNNCell\n",
        "* GRUCell\n",
        "* LSTMCell\n",
        "* StackedRNNCells\n",
        "* CuDNNGRU\n",
        "* CuDNNLSTM\n"
      ]
    },
    {
      "cell_type": "markdown",
      "metadata": {
        "id": "Dwg3_2pWMeFy",
        "colab_type": "text"
      },
      "source": [
        "# 【問題1】各種手法の実行\n",
        "Keras公式のサンプルをスタートコードとします。これを元に、上記11個の項目全てを使用してください。\n",
        "\n",
        "例えばこの中でSimpleRNNとLSTMなどは並列関係であり、精度の比較が行えます。そういった関係を見つけて比較をしてください。\n",
        "\n",
        "なおConvLSTM2Dのみ2次元配列を受け付ける手法であり、他と単純な精度の比較はできません。\n",
        "\n",
        "LSTMのサンプルコード\n",
        "\n",
        "keras/imdb_lstm.py at master · keras-team/keras\n",
        "\n",
        "ConvLSTM2Dのサンプルコード\n",
        "\n",
        "keras/conv_lstm.py at master · keras-team/keras\n",
        "\n",
        "このサンプルコードをそのまま使う必要はなく、  \n",
        "ノード数やエポックなどは変更して構いません。全て実行する上での実行時間を考慮した数に設定してください。"
      ]
    },
    {
      "cell_type": "markdown",
      "metadata": {
        "id": "eg-NcyC1dQeV",
        "colab_type": "text"
      },
      "source": [
        "#### 最初に必要なライブラリをインポート"
      ]
    },
    {
      "cell_type": "code",
      "metadata": {
        "id": "ba5bN4frNSv7",
        "colab_type": "code",
        "outputId": "7f9c50b7-0d96-40c0-cc67-80cd30469ab8",
        "colab": {
          "base_uri": "https://localhost:8080/",
          "height": 34
        }
      },
      "source": [
        "import keras\n",
        "from keras.layers.core import Reshape, RepeatVector, Permute, Dense, Activation\n",
        "from keras.layers.merge import Multiply, Add, Concatenate\n",
        "from keras.models import Model, load_model\n",
        "from keras.optimizers import Adam\n",
        "from keras.callbacks import TensorBoard\n",
        "from keras.layers.wrappers import TimeDistributed\n",
        "from keras.layers.core import Lambda\n",
        "from keras import backend as K"
      ],
      "execution_count": 0,
      "outputs": [
        {
          "output_type": "execute_result",
          "data": {
            "text/plain": [
              "<keras.layers.recurrent.SimpleRNNCell at 0x7f8321cb19b0>"
            ]
          },
          "metadata": {
            "tags": []
          },
          "execution_count": 44
        }
      ]
    },
    {
      "cell_type": "markdown",
      "metadata": {
        "id": "rYXIJIJAeLmc",
        "colab_type": "text"
      },
      "source": [
        "#### 必要なデータ等の前準備を行う"
      ]
    },
    {
      "cell_type": "code",
      "metadata": {
        "id": "0VA-Tbg_eLuO",
        "colab_type": "code",
        "colab": {}
      },
      "source": [
        "from __future__ import print_function\n",
        "from keras.preprocessing import sequence\n",
        "from keras.models import Sequential\n",
        "from keras.layers import Dense, Embedding\n",
        "from keras.datasets import imdb\n",
        "import numpy as np\n",
        "\n",
        "max_features = 20000\n",
        "# cut texts after this number of words (among top max_features most common words)\n",
        "maxlen = 80\n",
        "batch_size = 32\n",
        "\n",
        "############################################\n",
        "# allow_pickle=True の問題を起こさないために追加\n",
        "############################################\n",
        "# save np.load\n",
        "np_load_old = np.load\n",
        "\n",
        "# modify the default parameters of np.load\n",
        "np.load = lambda *a,**k: np_load_old(*a, allow_pickle=True, **k)\n",
        "\n",
        "# call load_data with allow_pickle implicitly set to true\n",
        "(x_train, y_train), (x_test, y_test) = imdb.load_data(num_words=max_features)\n",
        "\n",
        "# restore np.load for future normal usage\n",
        "np.load = np_load_old\n",
        "############################################\n",
        "\n",
        "print('Loading data...')\n",
        "\n",
        "print(len(x_train), 'train sequences')\n",
        "print(len(x_test), 'test sequences')\n",
        "\n",
        "print('Pad sequences (samples x time)')\n",
        "x_train = sequence.pad_sequences(x_train, maxlen=maxlen)\n",
        "x_test = sequence.pad_sequences(x_test, maxlen=maxlen)\n",
        "print('x_train shape:', x_train.shape)\n",
        "print('x_test shape:', x_test.shape)"
      ],
      "execution_count": 0,
      "outputs": []
    },
    {
      "cell_type": "markdown",
      "metadata": {
        "id": "gGipVN0wM1zp",
        "colab_type": "text"
      },
      "source": [
        "### RNNを実装"
      ]
    },
    {
      "cell_type": "code",
      "metadata": {
        "id": "TGFcjmTlb0EE",
        "colab_type": "code",
        "colab": {}
      },
      "source": [
        "from keras.layers import RNN"
      ],
      "execution_count": 0,
      "outputs": []
    },
    {
      "cell_type": "code",
      "metadata": {
        "id": "Nzxj9hBHbpfE",
        "colab_type": "code",
        "outputId": "bbaa1abc-cd18-4b2e-ea4a-76c1fd4d3db5",
        "colab": {
          "base_uri": "https://localhost:8080/",
          "height": 34
        }
      },
      "source": [
        "class MinimalRNNCell(keras.layers.Layer):\n",
        "\n",
        "    def __init__(self, units, **kwargs):\n",
        "        self.units = units\n",
        "        self.state_size = units\n",
        "        super(MinimalRNNCell, self).__init__(**kwargs)\n",
        "\n",
        "    def build(self, input_shape):\n",
        "        self.kernel = self.add_weight(shape=(input_shape[-1], self.units),\n",
        "                                      initializer='uniform',\n",
        "                                      name='kernel')\n",
        "        self.recurrent_kernel = self.add_weight(\n",
        "            shape=(self.units, self.units),\n",
        "            initializer='uniform',\n",
        "            name='recurrent_kernel')\n",
        "        self.built = True\n",
        "\n",
        "    def call(self, inputs, states):\n",
        "        prev_output = states[0]\n",
        "        h = K.dot(inputs, self.kernel)\n",
        "        output = h + K.dot(prev_output, self.recurrent_kernel)\n",
        "        return output, [output]\n",
        "\n",
        "# Let's use this cell in a RNN layer:\n",
        "\n",
        "cell = MinimalRNNCell(32)\n",
        "#x = keras.Input((None, 5))\n",
        "#layer = RNN(cell)\n",
        "#y = layer(x)\n",
        "\n",
        "\"\"\"\n",
        "# Here's how to use the cell to build a stacked RNN:\n",
        "\n",
        "cells = [MinimalRNNCell(32), MinimalRNNCell(64)]\n",
        "x = keras.Input((None, 5))\n",
        "layer = RNN(cells)\n",
        "y = layer(x)\n",
        "\"\"\"\n",
        "cell"
      ],
      "execution_count": 0,
      "outputs": [
        {
          "output_type": "execute_result",
          "data": {
            "text/plain": [
              "<__main__.MinimalRNNCell at 0x7f831fe1f470>"
            ]
          },
          "metadata": {
            "tags": []
          },
          "execution_count": 61
        }
      ]
    },
    {
      "cell_type": "code",
      "metadata": {
        "id": "244L_kyxMyrU",
        "colab_type": "code",
        "outputId": "befec381-8d59-48e7-8c2f-583f50da0b12",
        "colab": {
          "base_uri": "https://localhost:8080/",
          "height": 221
        }
      },
      "source": [
        "############################################\n",
        "# RNNに変更　#　RNNの１つ目の引数をcellに変更\n",
        "############################################\n",
        "print('Build model...')\n",
        "model = Sequential()\n",
        "model.add(Embedding(max_features, 32))\n",
        "model.add(RNN(cell))\n",
        "model.add(Dense(1, activation='sigmoid'))\n",
        "\n",
        "# try using different optimizers and different optimizer configs\n",
        "model.compile(loss='binary_crossentropy',\n",
        "              optimizer='adam',\n",
        "              metrics=['accuracy'])\n",
        "\n",
        "print('Train...')\n",
        "model.fit(x_train, y_train,\n",
        "          batch_size=batch_size,\n",
        "          epochs=3,\n",
        "          validation_data=(x_test, y_test))\n",
        "score, acc = model.evaluate(x_test, y_test,\n",
        "                            batch_size=batch_size)\n",
        "print('Test score:', score)\n",
        "print('Test accuracy:', acc)"
      ],
      "execution_count": 0,
      "outputs": [
        {
          "output_type": "stream",
          "text": [
            "Build model...\n",
            "Train...\n",
            "Train on 25000 samples, validate on 25000 samples\n",
            "Epoch 1/3\n",
            "25000/25000 [==============================] - 35s 1ms/step - loss: 0.4662 - acc: 0.7672 - val_loss: 0.4069 - val_acc: 0.8284\n",
            "Epoch 2/3\n",
            "25000/25000 [==============================] - 31s 1ms/step - loss: 0.2769 - acc: 0.8880 - val_loss: 0.4553 - val_acc: 0.8139\n",
            "Epoch 3/3\n",
            "25000/25000 [==============================] - 31s 1ms/step - loss: 0.1823 - acc: 0.9310 - val_loss: 0.4872 - val_acc: 0.8170\n",
            "25000/25000 [==============================] - 6s 223us/step\n",
            "Test score: 0.48715485373020173\n",
            "Test accuracy: 0.81696\n"
          ],
          "name": "stdout"
        }
      ]
    },
    {
      "cell_type": "markdown",
      "metadata": {
        "id": "S_hn5MYYdhNz",
        "colab_type": "text"
      },
      "source": [
        "### SimpleRNNを実装"
      ]
    },
    {
      "cell_type": "code",
      "metadata": {
        "id": "6L8FYyJAeqs8",
        "colab_type": "code",
        "outputId": "c61577b9-a97c-4baa-b083-eee9fee17d9c",
        "colab": {
          "base_uri": "https://localhost:8080/",
          "height": 221
        }
      },
      "source": [
        "#層のクラスをインポート\n",
        "from keras.layers import SimpleRNN\n",
        "\n",
        "############################################\n",
        "# SimpleRNNに変更\n",
        "############################################\n",
        "print('Build model...')\n",
        "model = Sequential()\n",
        "model.add(Embedding(max_features, 128))\n",
        "model.add(SimpleRNN(128, dropout=0.2, recurrent_dropout=0.2))\n",
        "model.add(Dense(1, activation='sigmoid'))\n",
        "\n",
        "# try using different optimizers and different optimizer configs\n",
        "model.compile(loss='binary_crossentropy',\n",
        "              optimizer='adam',\n",
        "              metrics=['accuracy'])\n",
        "\n",
        "print('Train...')\n",
        "model.fit(x_train, y_train,\n",
        "          batch_size=batch_size,\n",
        "          epochs=3,\n",
        "          validation_data=(x_test, y_test))\n",
        "score, acc = model.evaluate(x_test, y_test,\n",
        "                            batch_size=batch_size)\n",
        "print('Test score:', score)\n",
        "print('Test accuracy:', acc)"
      ],
      "execution_count": 0,
      "outputs": [
        {
          "output_type": "stream",
          "text": [
            "Build model...\n",
            "Train...\n",
            "Train on 25000 samples, validate on 25000 samples\n",
            "Epoch 1/3\n",
            "25000/25000 [==============================] - 51s 2ms/step - loss: 0.6897 - acc: 0.5393 - val_loss: 0.6555 - val_acc: 0.6077\n",
            "Epoch 2/3\n",
            "25000/25000 [==============================] - 47s 2ms/step - loss: 0.5573 - acc: 0.7093 - val_loss: 0.5222 - val_acc: 0.7571\n",
            "Epoch 3/3\n",
            "25000/25000 [==============================] - 47s 2ms/step - loss: 0.4661 - acc: 0.7851 - val_loss: 0.5156 - val_acc: 0.7520\n",
            "25000/25000 [==============================] - 8s 318us/step\n",
            "Test score: 0.5156316001033783\n",
            "Test accuracy: 0.752\n"
          ],
          "name": "stdout"
        }
      ]
    },
    {
      "cell_type": "markdown",
      "metadata": {
        "id": "SeqBR5GAeq04",
        "colab_type": "text"
      },
      "source": [
        "### GRUを実装"
      ]
    },
    {
      "cell_type": "code",
      "metadata": {
        "id": "gdclXfemeq7S",
        "colab_type": "code",
        "outputId": "42110f35-8f73-4764-9223-349f86a95897",
        "colab": {
          "base_uri": "https://localhost:8080/",
          "height": 221
        }
      },
      "source": [
        "#層のクラスをインポート\n",
        "from keras.layers import GRU\n",
        "\n",
        "############################################\n",
        "# SimpleRNNに変更\n",
        "############################################\n",
        "print('Build model...')\n",
        "model = Sequential()\n",
        "model.add(Embedding(max_features, 128))\n",
        "model.add(GRU(128, dropout=0.2, recurrent_dropout=0.2))\n",
        "model.add(Dense(1, activation='sigmoid'))\n",
        "\n",
        "# try using different optimizers and different optimizer configs\n",
        "model.compile(loss='binary_crossentropy',\n",
        "              optimizer='adam',\n",
        "              metrics=['accuracy'])\n",
        "\n",
        "print('Train...')\n",
        "model.fit(x_train, y_train,\n",
        "          batch_size=batch_size,\n",
        "          epochs=3,\n",
        "          validation_data=(x_test, y_test))\n",
        "score, acc = model.evaluate(x_test, y_test,\n",
        "                            batch_size=batch_size)\n",
        "print('Test score:', score)\n",
        "print('Test accuracy:', acc)"
      ],
      "execution_count": 0,
      "outputs": [
        {
          "output_type": "stream",
          "text": [
            "Build model...\n",
            "Train...\n",
            "Train on 25000 samples, validate on 25000 samples\n",
            "Epoch 1/3\n",
            "25000/25000 [==============================] - 133s 5ms/step - loss: 0.4683 - acc: 0.7734 - val_loss: 0.3754 - val_acc: 0.8360\n",
            "Epoch 2/3\n",
            "25000/25000 [==============================] - 127s 5ms/step - loss: 0.2771 - acc: 0.8872 - val_loss: 0.3887 - val_acc: 0.8329\n",
            "Epoch 3/3\n",
            "25000/25000 [==============================] - 128s 5ms/step - loss: 0.1682 - acc: 0.9369 - val_loss: 0.4136 - val_acc: 0.8396\n",
            "25000/25000 [==============================] - 23s 922us/step\n",
            "Test score: 0.41361671339035033\n",
            "Test accuracy: 0.83956\n"
          ],
          "name": "stdout"
        }
      ]
    },
    {
      "cell_type": "markdown",
      "metadata": {
        "id": "tDR5MHKserCT",
        "colab_type": "text"
      },
      "source": [
        "### LSTMを実装　#サンプルコードをそのまま実行"
      ]
    },
    {
      "cell_type": "code",
      "metadata": {
        "id": "-sC4DSJAAYrV",
        "colab_type": "code",
        "outputId": "9209549e-7bdf-4b5b-ae2d-eac9af93f53f",
        "colab": {
          "base_uri": "https://localhost:8080/",
          "height": 717
        }
      },
      "source": [
        "'''\n",
        "#Trains an LSTM model on the IMDB sentiment classification task.\n",
        "The dataset is actually too small for LSTM to be of any advantage\n",
        "compared to simpler, much faster methods such as TF-IDF + LogReg.\n",
        "**Notes**\n",
        "- RNNs are tricky. Choice of batch size is important,\n",
        "choice of loss and optimizer is critical, etc.\n",
        "Some configurations won't converge.\n",
        "- LSTM loss decrease patterns during training can be quite different\n",
        "from what you see with CNNs/MLPs/etc.\n",
        "'''\n",
        "\n",
        "from __future__ import print_function\n",
        "\n",
        "from keras.preprocessing import sequence\n",
        "from keras.models import Sequential\n",
        "from keras.layers import Dense, Embedding\n",
        "from keras.layers import LSTM\n",
        "from keras.datasets import imdb\n",
        "import numpy as np\n",
        "\n",
        "max_features = 20000\n",
        "# cut texts after this number of words (among top max_features most common words)\n",
        "maxlen = 80\n",
        "batch_size = 32\n",
        "\n",
        "############################################\n",
        "# allow_pickle=True の問題を起こさないために追加\n",
        "############################################\n",
        "# save np.load\n",
        "np_load_old = np.load\n",
        "\n",
        "# modify the default parameters of np.load\n",
        "np.load = lambda *a,**k: np_load_old(*a, allow_pickle=True, **k)\n",
        "\n",
        "# call load_data with allow_pickle implicitly set to true\n",
        "(x_train, y_train), (x_test, y_test) = imdb.load_data(num_words=max_features)\n",
        "\n",
        "# restore np.load for future normal usage\n",
        "np.load = np_load_old\n",
        "############################################\n",
        "\n",
        "print('Loading data...')\n",
        "\n",
        "print(len(x_train), 'train sequences')\n",
        "print(len(x_test), 'test sequences')\n",
        "\n",
        "print('Pad sequences (samples x time)')\n",
        "x_train = sequence.pad_sequences(x_train, maxlen=maxlen)\n",
        "x_test = sequence.pad_sequences(x_test, maxlen=maxlen)\n",
        "print('x_train shape:', x_train.shape)\n",
        "print('x_test shape:', x_test.shape)\n",
        "\n",
        "print('Build model...')\n",
        "model = Sequential()\n",
        "model.add(Embedding(max_features, 128))\n",
        "model.add(LSTM(128, dropout=0.2, recurrent_dropout=0.2))\n",
        "model.add(Dense(1, activation='sigmoid'))\n",
        "\n",
        "# try using different optimizers and different optimizer configs\n",
        "model.compile(loss='binary_crossentropy',\n",
        "              optimizer='adam',\n",
        "              metrics=['accuracy'])\n",
        "\n",
        "print('Train...')\n",
        "model.fit(x_train, y_train,\n",
        "          batch_size=batch_size,\n",
        "          epochs=3,\n",
        "          validation_data=(x_test, y_test))\n",
        "score, acc = model.evaluate(x_test, y_test,\n",
        "                            batch_size=batch_size)\n",
        "print('Test score:', score)\n",
        "print('Test accuracy:', acc)"
      ],
      "execution_count": 0,
      "outputs": [
        {
          "output_type": "stream",
          "text": [
            "Using TensorFlow backend.\n"
          ],
          "name": "stderr"
        },
        {
          "output_type": "stream",
          "text": [
            "Downloading data from https://s3.amazonaws.com/text-datasets/imdb.npz\n",
            "17465344/17464789 [==============================] - 1s 0us/step\n",
            "Loading data...\n",
            "25000 train sequences\n",
            "25000 test sequences\n",
            "Pad sequences (samples x time)\n"
          ],
          "name": "stdout"
        },
        {
          "output_type": "stream",
          "text": [
            "WARNING: Logging before flag parsing goes to stderr.\n",
            "W0627 04:14:20.689201 140712918361984 deprecation_wrapper.py:119] From /usr/local/lib/python3.6/dist-packages/keras/backend/tensorflow_backend.py:74: The name tf.get_default_graph is deprecated. Please use tf.compat.v1.get_default_graph instead.\n",
            "\n",
            "W0627 04:14:20.720693 140712918361984 deprecation_wrapper.py:119] From /usr/local/lib/python3.6/dist-packages/keras/backend/tensorflow_backend.py:517: The name tf.placeholder is deprecated. Please use tf.compat.v1.placeholder instead.\n",
            "\n",
            "W0627 04:14:20.727603 140712918361984 deprecation_wrapper.py:119] From /usr/local/lib/python3.6/dist-packages/keras/backend/tensorflow_backend.py:4138: The name tf.random_uniform is deprecated. Please use tf.random.uniform instead.\n",
            "\n",
            "W0627 04:14:20.879083 140712918361984 deprecation_wrapper.py:119] From /usr/local/lib/python3.6/dist-packages/keras/backend/tensorflow_backend.py:133: The name tf.placeholder_with_default is deprecated. Please use tf.compat.v1.placeholder_with_default instead.\n",
            "\n"
          ],
          "name": "stderr"
        },
        {
          "output_type": "stream",
          "text": [
            "x_train shape: (25000, 80)\n",
            "x_test shape: (25000, 80)\n",
            "Build model...\n"
          ],
          "name": "stdout"
        },
        {
          "output_type": "stream",
          "text": [
            "W0627 04:14:20.897521 140712918361984 deprecation.py:506] From /usr/local/lib/python3.6/dist-packages/keras/backend/tensorflow_backend.py:3445: calling dropout (from tensorflow.python.ops.nn_ops) with keep_prob is deprecated and will be removed in a future version.\n",
            "Instructions for updating:\n",
            "Please use `rate` instead of `keep_prob`. Rate should be set to `rate = 1 - keep_prob`.\n",
            "W0627 04:14:21.189680 140712918361984 deprecation_wrapper.py:119] From /usr/local/lib/python3.6/dist-packages/keras/optimizers.py:790: The name tf.train.Optimizer is deprecated. Please use tf.compat.v1.train.Optimizer instead.\n",
            "\n",
            "W0627 04:14:21.215983 140712918361984 deprecation_wrapper.py:119] From /usr/local/lib/python3.6/dist-packages/keras/backend/tensorflow_backend.py:3376: The name tf.log is deprecated. Please use tf.math.log instead.\n",
            "\n",
            "W0627 04:14:21.222885 140712918361984 deprecation.py:323] From /usr/local/lib/python3.6/dist-packages/tensorflow/python/ops/nn_impl.py:180: add_dispatch_support.<locals>.wrapper (from tensorflow.python.ops.array_ops) is deprecated and will be removed in a future version.\n",
            "Instructions for updating:\n",
            "Use tf.where in 2.0, which has the same broadcast rule as np.where\n"
          ],
          "name": "stderr"
        },
        {
          "output_type": "stream",
          "text": [
            "Train...\n",
            "Train on 25000 samples, validate on 25000 samples\n",
            "Epoch 1/3\n",
            "25000/25000 [==============================] - 147s 6ms/step - loss: 0.4622 - acc: 0.7828 - val_loss: 0.3938 - val_acc: 0.8255\n",
            "Epoch 2/3\n",
            "25000/25000 [==============================] - 149s 6ms/step - loss: 0.3056 - acc: 0.8752 - val_loss: 0.3722 - val_acc: 0.8383\n",
            "Epoch 3/3\n",
            "25000/25000 [==============================] - 148s 6ms/step - loss: 0.2238 - acc: 0.9120 - val_loss: 0.4261 - val_acc: 0.8328\n",
            "25000/25000 [==============================] - 21s 822us/step\n",
            "Test score: 0.4261469538974762\n",
            "Test accuracy: 0.83276\n"
          ],
          "name": "stdout"
        }
      ]
    },
    {
      "cell_type": "markdown",
      "metadata": {
        "id": "FmY4M5DherOD",
        "colab_type": "text"
      },
      "source": [
        "### ConvLSTM2Dを実装　#この部分だけ他のコードとは異なるサンプルコードを利用"
      ]
    },
    {
      "cell_type": "code",
      "metadata": {
        "id": "jDOnydu6AhrY",
        "colab_type": "code",
        "outputId": "b0330111-bec5-46eb-c956-176e9dd6e217",
        "colab": {
          "base_uri": "https://localhost:8080/",
          "height": 1000
        }
      },
      "source": [
        "\"\"\"\n",
        "#This script demonstrates the use of a convolutional LSTM network.\n",
        "This network is used to predict the next frame of an artificially\n",
        "generated movie which contains moving squares.\n",
        "\"\"\"\n",
        "from keras.models import Sequential\n",
        "from keras.layers.convolutional import Conv3D\n",
        "from keras.layers.convolutional_recurrent import ConvLSTM2D\n",
        "from keras.layers.normalization import BatchNormalization\n",
        "import numpy as np\n",
        "import pylab as plt\n",
        "\n",
        "# We create a layer which take as input movies of shape\n",
        "# (n_frames, width, height, channels) and returns a movie\n",
        "# of identical shape.\n",
        "\n",
        "seq = Sequential()\n",
        "seq.add(ConvLSTM2D(filters=40, kernel_size=(3, 3),\n",
        "                   input_shape=(None, 40, 40, 1),\n",
        "                   padding='same', return_sequences=True))\n",
        "seq.add(BatchNormalization())\n",
        "\n",
        "seq.add(ConvLSTM2D(filters=40, kernel_size=(3, 3),\n",
        "                   padding='same', return_sequences=True))\n",
        "seq.add(BatchNormalization())\n",
        "\n",
        "seq.add(ConvLSTM2D(filters=40, kernel_size=(3, 3),\n",
        "                   padding='same', return_sequences=True))\n",
        "seq.add(BatchNormalization())\n",
        "\n",
        "seq.add(ConvLSTM2D(filters=40, kernel_size=(3, 3),\n",
        "                   padding='same', return_sequences=True))\n",
        "seq.add(BatchNormalization())\n",
        "\n",
        "seq.add(Conv3D(filters=1, kernel_size=(3, 3, 3),\n",
        "               activation='sigmoid',\n",
        "               padding='same', data_format='channels_last'))\n",
        "seq.compile(loss='binary_crossentropy', optimizer='adadelta')\n",
        "\n",
        "\n",
        "# Artificial data generation:\n",
        "# Generate movies with 3 to 7 moving squares inside.\n",
        "# The squares are of shape 1x1 or 2x2 pixels,\n",
        "# which move linearly over time.\n",
        "# For convenience we first create movies with bigger width and height (80x80)\n",
        "# and at the end we select a 40x40 window.\n",
        "\n",
        "def generate_movies(n_samples=1200, n_frames=15):\n",
        "    row = 80\n",
        "    col = 80\n",
        "    noisy_movies = np.zeros((n_samples, n_frames, row, col, 1), dtype=np.float)\n",
        "    shifted_movies = np.zeros((n_samples, n_frames, row, col, 1),\n",
        "                              dtype=np.float)\n",
        "\n",
        "    for i in range(n_samples):\n",
        "        # Add 3 to 7 moving squares\n",
        "        n = np.random.randint(3, 8)\n",
        "\n",
        "        for j in range(n):\n",
        "            # Initial position\n",
        "            xstart = np.random.randint(20, 60)\n",
        "            ystart = np.random.randint(20, 60)\n",
        "            # Direction of motion\n",
        "            directionx = np.random.randint(0, 3) - 1\n",
        "            directiony = np.random.randint(0, 3) - 1\n",
        "\n",
        "            # Size of the square\n",
        "            w = np.random.randint(2, 4)\n",
        "\n",
        "            for t in range(n_frames):\n",
        "                x_shift = xstart + directionx * t\n",
        "                y_shift = ystart + directiony * t\n",
        "                noisy_movies[i, t, x_shift - w: x_shift + w,\n",
        "                             y_shift - w: y_shift + w, 0] += 1\n",
        "\n",
        "                # Make it more robust by adding noise.\n",
        "                # The idea is that if during inference,\n",
        "                # the value of the pixel is not exactly one,\n",
        "                # we need to train the network to be robust and still\n",
        "                # consider it as a pixel belonging to a square.\n",
        "                if np.random.randint(0, 2):\n",
        "                    noise_f = (-1)**np.random.randint(0, 2)\n",
        "                    noisy_movies[i, t,\n",
        "                                 x_shift - w - 1: x_shift + w + 1,\n",
        "                                 y_shift - w - 1: y_shift + w + 1,\n",
        "                                 0] += noise_f * 0.1\n",
        "\n",
        "                # Shift the ground truth by 1\n",
        "                x_shift = xstart + directionx * (t + 1)\n",
        "                y_shift = ystart + directiony * (t + 1)\n",
        "                shifted_movies[i, t, x_shift - w: x_shift + w,\n",
        "                               y_shift - w: y_shift + w, 0] += 1\n",
        "\n",
        "    # Cut to a 40x40 window\n",
        "    noisy_movies = noisy_movies[::, ::, 20:60, 20:60, ::]\n",
        "    shifted_movies = shifted_movies[::, ::, 20:60, 20:60, ::]\n",
        "    noisy_movies[noisy_movies >= 1] = 1\n",
        "    shifted_movies[shifted_movies >= 1] = 1\n",
        "    return noisy_movies, shifted_movies\n",
        "\n",
        "# Train the network\n",
        "noisy_movies, shifted_movies = generate_movies(n_samples=1200)\n",
        "seq.fit(noisy_movies[:1000], shifted_movies[:1000], batch_size=10,\n",
        "        epochs=5, validation_split=0.05)\n",
        "\n",
        "# Testing the network on one movie\n",
        "# feed it with the first 7 positions and then\n",
        "# predict the new positions\n",
        "which = 1004\n",
        "track = noisy_movies[which][:7, ::, ::, ::]\n",
        "\n",
        "for j in range(16):\n",
        "    new_pos = seq.predict(track[np.newaxis, ::, ::, ::, ::])\n",
        "    new = new_pos[::, -1, ::, ::, ::]\n",
        "    track = np.concatenate((track, new), axis=0)\n",
        "\n",
        "\n",
        "# And then compare the predictions\n",
        "# to the ground truth\n",
        "track2 = noisy_movies[which][::, ::, ::, ::]\n",
        "for i in range(15):\n",
        "    fig = plt.figure(figsize=(10, 5))\n",
        "\n",
        "    ax = fig.add_subplot(121)\n",
        "\n",
        "    if i >= 7:\n",
        "        ax.text(1, 3, 'Predictions !', fontsize=20, color='w')\n",
        "    else:\n",
        "        ax.text(1, 3, 'Initial trajectory', fontsize=20)\n",
        "\n",
        "    toplot = track[i, ::, ::, 0]\n",
        "\n",
        "    plt.imshow(toplot)\n",
        "    ax = fig.add_subplot(122)\n",
        "    plt.text(1, 3, 'Ground truth', fontsize=20)\n",
        "\n",
        "    toplot = track2[i, ::, ::, 0]\n",
        "    if i >= 2:\n",
        "        toplot = shifted_movies[which][i - 1, ::, ::, 0]\n",
        "\n",
        "    plt.imshow(toplot)\n",
        "    plt.savefig('%i_animate.png' % (i + 1))"
      ],
      "execution_count": 0,
      "outputs": [
        {
          "output_type": "stream",
          "text": [
            "Train on 950 samples, validate on 50 samples\n",
            "Epoch 1/5\n",
            "950/950 [==============================] - 122s 129ms/step - loss: 0.2683 - val_loss: 0.0654\n",
            "Epoch 2/5\n",
            "950/950 [==============================] - 115s 121ms/step - loss: 0.0266 - val_loss: 0.0162\n",
            "Epoch 3/5\n",
            "950/950 [==============================] - 115s 121ms/step - loss: 0.0043 - val_loss: 0.0044\n",
            "Epoch 4/5\n",
            "950/950 [==============================] - 115s 121ms/step - loss: 0.0014 - val_loss: 0.0011\n",
            "Epoch 5/5\n",
            "950/950 [==============================] - 115s 121ms/step - loss: 7.5978e-04 - val_loss: 9.6950e-04\n"
          ],
          "name": "stdout"
        },
        {
          "output_type": "display_data",
          "data": {
            "image/png": "[encoded data removed]",
            "text/plain": [
              "<Figure size 720x360 with 2 Axes>"
            ]
          },
          "metadata": {
            "tags": []
          }
        },
        {
          "output_type": "display_data",
          "data": {
            "image/png": "[encoded data removed]",
            "text/plain": [
              "<Figure size 720x360 with 2 Axes>"
            ]
          },
          "metadata": {
            "tags": []
          }
        },
        {
          "output_type": "display_data",
          "data": {
            "image/png": "[encoded data removed]",
            "text/plain": [
              "<Figure size 720x360 with 2 Axes>"
            ]
          },
          "metadata": {
            "tags": []
          }
        },
        {
          "output_type": "display_data",
          "data": {
            "image/png": "[encoded data removed]",
            "text/plain": [
              "<Figure size 720x360 with 2 Axes>"
            ]
          },
          "metadata": {
            "tags": []
          }
        },
        {
          "output_type": "display_data",
          "data": {
            "image/png": "[encoded data removed]",
            "text/plain": [
              "<Figure size 720x360 with 2 Axes>"
            ]
          },
          "metadata": {
            "tags": []
          }
        },
        {
          "output_type": "display_data",
          "data": {
            "image/png": "[encoded data removed]",
            "text/plain": [
              "<Figure size 720x360 with 2 Axes>"
            ]
          },
          "metadata": {
            "tags": []
          }
        },
        {
          "output_type": "display_data",
          "data": {
            "image/png": "[encoded data removed]",
            "text/plain": [
              "<Figure size 720x360 with 2 Axes>"
            ]
          },
          "metadata": {
            "tags": []
          }
        },
        {
          "output_type": "display_data",
          "data": {
            "image/png": "[encoded data removed]",
            "text/plain": [
              "<Figure size 720x360 with 2 Axes>"
            ]
          },
          "metadata": {
            "tags": []
          }
        },
        {
          "output_type": "display_data",
          "data": {
            "image/png": "[encoded data removed]",
            "text/plain": [
              "<Figure size 720x360 with 2 Axes>"
            ]
          },
          "metadata": {
            "tags": []
          }
        },
        {
          "output_type": "display_data",
          "data": {
            "image/png": "[encoded data removed]",
            "text/plain": [
              "<Figure size 720x360 with 2 Axes>"
            ]
          },
          "metadata": {
            "tags": []
          }
        },
        {
          "output_type": "display_data",
          "data": {
            "image/png": "[encoded data removed]",
            "text/plain": [
              "<Figure size 720x360 with 2 Axes>"
            ]
          },
          "metadata": {
            "tags": []
          }
        },
        {
          "output_type": "display_data",
          "data": {
            "image/png": "[encoded data removed]",
            "text/plain": [
              "<Figure size 720x360 with 2 Axes>"
            ]
          },
          "metadata": {
            "tags": []
          }
        },
        {
          "output_type": "display_data",
          "data": {
            "image/png": "[encoded data removed]",
            "text/plain": [
              "<Figure size 720x360 with 2 Axes>"
            ]
          },
          "metadata": {
            "tags": []
          }
        },
        {
          "output_type": "display_data",
          "data": {
            "image/png": "[encoded data removed]",
            "text/plain": [
              "<Figure size 720x360 with 2 Axes>"
            ]
          },
          "metadata": {
            "tags": []
          }
        },
        {
          "output_type": "display_data",
          "data": {
            "image/png": "[encoded data removed]",
            "text/plain": [
              "<Figure size 720x360 with 2 Axes>"
            ]
          },
          "metadata": {
            "tags": []
          }
        }
      ]
    },
    {
      "cell_type": "markdown",
      "metadata": {
        "id": "QcEPEhpLerZS",
        "colab_type": "text"
      },
      "source": [
        "### SimpleRNNCellを実装"
      ]
    },
    {
      "cell_type": "code",
      "metadata": {
        "id": "Ksux8hkJereq",
        "colab_type": "code",
        "outputId": "9feee6c9-38ce-4bbf-a31d-c50769d9d26b",
        "colab": {
          "base_uri": "https://localhost:8080/",
          "height": 221
        }
      },
      "source": [
        "#層のクラスをインポート\n",
        "from keras.layers import SimpleRNNCell\n",
        "\n",
        "# SimpleRNNCellのインスタンスを作成\n",
        "cell_simple_rnn = SimpleRNNCell(128)\n",
        "\n",
        "############################################\n",
        "# SimpleRNNCellに変更\n",
        "############################################\n",
        "print('Build model...')\n",
        "model = Sequential()\n",
        "model.add(Embedding(max_features, 128))\n",
        "model.add(RNN(cell_simple_rnn)) #基底になるRNNの引数にcellを入れる\n",
        "model.add(Dense(1, activation='sigmoid'))\n",
        "\n",
        "# try using different optimizers and different optimizer configs\n",
        "model.compile(loss='binary_crossentropy',\n",
        "              optimizer='adam',\n",
        "              metrics=['accuracy'])\n",
        "\n",
        "print('Train...')\n",
        "model.fit(x_train, y_train,\n",
        "          batch_size=batch_size,\n",
        "          epochs=3,\n",
        "          validation_data=(x_test, y_test))\n",
        "score, acc = model.evaluate(x_test, y_test,\n",
        "                            batch_size=batch_size)\n",
        "print('Test score:', score)\n",
        "print('Test accuracy:', acc)"
      ],
      "execution_count": 0,
      "outputs": [
        {
          "output_type": "stream",
          "text": [
            "Build model...\n",
            "Train...\n",
            "Train on 25000 samples, validate on 25000 samples\n",
            "Epoch 1/3\n",
            "25000/25000 [==============================] - 45s 2ms/step - loss: 0.6330 - acc: 0.6194 - val_loss: 0.5855 - val_acc: 0.6985\n",
            "Epoch 2/3\n",
            "25000/25000 [==============================] - 41s 2ms/step - loss: 0.4708 - acc: 0.7776 - val_loss: 0.4736 - val_acc: 0.7900\n",
            "Epoch 3/3\n",
            "25000/25000 [==============================] - 41s 2ms/step - loss: 0.3578 - acc: 0.8500 - val_loss: 0.4542 - val_acc: 0.7936\n",
            "25000/25000 [==============================] - 7s 279us/step\n",
            "Test score: 0.4541937585449219\n",
            "Test accuracy: 0.7936\n"
          ],
          "name": "stdout"
        }
      ]
    },
    {
      "cell_type": "markdown",
      "metadata": {
        "id": "uDiVDqjEerkt",
        "colab_type": "text"
      },
      "source": [
        "### GRUCellを実装"
      ]
    },
    {
      "cell_type": "code",
      "metadata": {
        "id": "hJ54TpqMerqt",
        "colab_type": "code",
        "outputId": "1e4a5a9e-5a9e-432a-fae7-b7280c617a19",
        "colab": {
          "base_uri": "https://localhost:8080/",
          "height": 221
        }
      },
      "source": [
        "#層のクラスをインポート\n",
        "from keras.layers import GRUCell\n",
        "\n",
        "# GRUCellのインスタンスを作成\n",
        "cell_gru_rnn = GRUCell(128, dropout=0.2, recurrent_dropout=0.2)\n",
        "\n",
        "############################################\n",
        "# GRUCellに変更\n",
        "############################################\n",
        "print('Build model...')\n",
        "model = Sequential()\n",
        "model.add(Embedding(max_features, 128))\n",
        "model.add(RNN(cell_gru_rnn )) #変更\n",
        "model.add(Dense(1, activation='sigmoid'))\n",
        "\n",
        "# try using different optimizers and different optimizer configs\n",
        "model.compile(loss='binary_crossentropy',\n",
        "              optimizer='adam',\n",
        "              metrics=['accuracy'])\n",
        "\n",
        "print('Train...')\n",
        "model.fit(x_train, y_train,\n",
        "          batch_size=batch_size,\n",
        "          epochs=3,\n",
        "          validation_data=(x_test, y_test))\n",
        "score, acc = model.evaluate(x_test, y_test,\n",
        "                            batch_size=batch_size)\n",
        "print('Test score:', score)\n",
        "print('Test accuracy:', acc)"
      ],
      "execution_count": 0,
      "outputs": [
        {
          "output_type": "stream",
          "text": [
            "Build model...\n",
            "Train...\n",
            "Train on 25000 samples, validate on 25000 samples\n",
            "Epoch 1/3\n",
            "25000/25000 [==============================] - 139s 6ms/step - loss: 0.4728 - acc: 0.7729 - val_loss: 0.4254 - val_acc: 0.8103\n",
            "Epoch 2/3\n",
            "25000/25000 [==============================] - 134s 5ms/step - loss: 0.2914 - acc: 0.8822 - val_loss: 0.3714 - val_acc: 0.8446\n",
            "Epoch 3/3\n",
            "25000/25000 [==============================] - 134s 5ms/step - loss: 0.1842 - acc: 0.9306 - val_loss: 0.3907 - val_acc: 0.8365\n",
            "25000/25000 [==============================] - 23s 934us/step\n",
            "Test score: 0.3907018481254578\n",
            "Test accuracy: 0.83652\n"
          ],
          "name": "stdout"
        }
      ]
    },
    {
      "cell_type": "markdown",
      "metadata": {
        "id": "fwXXPbYMerxJ",
        "colab_type": "text"
      },
      "source": [
        "### LSTMCellを実装"
      ]
    },
    {
      "cell_type": "code",
      "metadata": {
        "id": "LbE8kZLRfGkx",
        "colab_type": "code",
        "outputId": "55438fff-c4cc-412d-b5e7-41e6f2a79146",
        "colab": {
          "base_uri": "https://localhost:8080/",
          "height": 221
        }
      },
      "source": [
        "#層のクラスをインポート\n",
        "from keras.layers import LSTMCell\n",
        "\n",
        "# LSTMCellのインスタンスを作成\n",
        "cell_lstm_rnn = LSTMCell(128, dropout=0.2, recurrent_dropout=0.2)\n",
        "\n",
        "############################################\n",
        "# LSTMCellに変更\n",
        "############################################\n",
        "print('Build model...')\n",
        "model = Sequential()\n",
        "model.add(Embedding(max_features, 128))\n",
        "model.add(RNN(cell_lstm_rnn)) #変更\n",
        "model.add(Dense(1, activation='sigmoid'))\n",
        "\n",
        "# try using different optimizers and different optimizer configs\n",
        "model.compile(loss='binary_crossentropy',\n",
        "              optimizer='adam',\n",
        "              metrics=['accuracy'])\n",
        "\n",
        "print('Train...')\n",
        "model.fit(x_train, y_train,\n",
        "          batch_size=batch_size,\n",
        "          epochs=3,\n",
        "          validation_data=(x_test, y_test))\n",
        "score, acc = model.evaluate(x_test, y_test,\n",
        "                            batch_size=batch_size)\n",
        "print('Test score:', score)\n",
        "print('Test accuracy:', acc)"
      ],
      "execution_count": 0,
      "outputs": [
        {
          "output_type": "stream",
          "text": [
            "Build model...\n",
            "Train...\n",
            "Train on 25000 samples, validate on 25000 samples\n",
            "Epoch 1/3\n",
            "25000/25000 [==============================] - 171s 7ms/step - loss: 0.4536 - acc: 0.7863 - val_loss: 0.4009 - val_acc: 0.8178\n",
            "Epoch 2/3\n",
            "25000/25000 [==============================] - 163s 7ms/step - loss: 0.2966 - acc: 0.8791 - val_loss: 0.3769 - val_acc: 0.8334\n",
            "Epoch 3/3\n",
            "25000/25000 [==============================] - 166s 7ms/step - loss: 0.2085 - acc: 0.9182 - val_loss: 0.4897 - val_acc: 0.8286\n",
            "25000/25000 [==============================] - 29s 1ms/step\n",
            "Test score: 0.4897028240966797\n",
            "Test accuracy: 0.82864\n"
          ],
          "name": "stdout"
        }
      ]
    },
    {
      "cell_type": "markdown",
      "metadata": {
        "id": "ajAqjhhlfGsu",
        "colab_type": "text"
      },
      "source": [
        "### StackedRNNCellsを実装"
      ]
    },
    {
      "cell_type": "code",
      "metadata": {
        "id": "go95Z_MCfGyb",
        "colab_type": "code",
        "outputId": "b7ba1e13-f183-4922-e42c-7a5b5aec9fb8",
        "colab": {
          "base_uri": "https://localhost:8080/",
          "height": 221
        }
      },
      "source": [
        "#層のクラスをインポート\n",
        "from keras.layers import StackedRNNCells\n",
        "\n",
        "\n",
        "\n",
        "stacked_rnn_cells = [MinimalRNNCell(32), MinimalRNNCell(64)]\n",
        "\n",
        "\n",
        "\n",
        "############################################\n",
        "# StackedRNNCellsに変更\n",
        "############################################\n",
        "print('Build model...')\n",
        "model = Sequential()\n",
        "model.add(Embedding(max_features, 128))\n",
        "model.add(RNN(stacked_rnn_cells)) #変更\n",
        "model.add(Dense(1, activation='sigmoid'))\n",
        "\n",
        "# try using different optimizers and different optimizer configs\n",
        "model.compile(loss='binary_crossentropy',\n",
        "              optimizer='adam',\n",
        "              metrics=['accuracy'])\n",
        "\n",
        "print('Train...')\n",
        "model.fit(x_train, y_train,\n",
        "          batch_size=batch_size,\n",
        "          epochs=3,\n",
        "          validation_data=(x_test, y_test))\n",
        "score, acc = model.evaluate(x_test, y_test,\n",
        "                            batch_size=batch_size)\n",
        "print('Test score:', score)\n",
        "print('Test accuracy:', acc)"
      ],
      "execution_count": 0,
      "outputs": [
        {
          "output_type": "stream",
          "text": [
            "Build model...\n",
            "Train...\n",
            "Train on 25000 samples, validate on 25000 samples\n",
            "Epoch 1/3\n",
            "25000/25000 [==============================] - 56s 2ms/step - loss: 0.4950 - acc: 0.7502 - val_loss: 0.4065 - val_acc: 0.8158\n",
            "Epoch 2/3\n",
            "25000/25000 [==============================] - 50s 2ms/step - loss: 0.3186 - acc: 0.8632 - val_loss: 0.4727 - val_acc: 0.7743\n",
            "Epoch 3/3\n",
            "25000/25000 [==============================] - 50s 2ms/step - loss: 0.1980 - acc: 0.9245 - val_loss: 0.4346 - val_acc: 0.8139\n",
            "25000/25000 [==============================] - 8s 332us/step\n",
            "Test score: 0.4346396702289581\n",
            "Test accuracy: 0.81392\n"
          ],
          "name": "stdout"
        }
      ]
    },
    {
      "cell_type": "markdown",
      "metadata": {
        "id": "WL7WnxGsfG4E",
        "colab_type": "text"
      },
      "source": [
        "### CuDNNGRUを実装"
      ]
    },
    {
      "cell_type": "code",
      "metadata": {
        "id": "7VHWEtG9fG9K",
        "colab_type": "code",
        "outputId": "ea08b435-800d-4dc5-ff85-26fcf4752cb1",
        "colab": {
          "base_uri": "https://localhost:8080/",
          "height": 221
        }
      },
      "source": [
        "#層のクラスをインポート\n",
        "from keras.layers import CuDNNGRU\n",
        "\n",
        "############################################\n",
        "# SimpleRNNに変更\n",
        "############################################\n",
        "print('Build model...')\n",
        "model = Sequential()\n",
        "model.add(Embedding(max_features, 128))\n",
        "model.add(CuDNNGRU(128))\n",
        "model.add(Dense(1, activation='sigmoid'))\n",
        "\n",
        "# try using different optimizers and different optimizer configs\n",
        "model.compile(loss='binary_crossentropy',\n",
        "              optimizer='adam',\n",
        "              metrics=['accuracy'])\n",
        "\n",
        "print('Train...')\n",
        "model.fit(x_train, y_train,\n",
        "          batch_size=batch_size,\n",
        "          epochs=3,\n",
        "          validation_data=(x_test, y_test))\n",
        "score, acc = model.evaluate(x_test, y_test,\n",
        "                            batch_size=batch_size)\n",
        "print('Test score:', score)\n",
        "print('Test accuracy:', acc)"
      ],
      "execution_count": 0,
      "outputs": [
        {
          "output_type": "stream",
          "text": [
            "Build model...\n",
            "Train...\n",
            "Train on 25000 samples, validate on 25000 samples\n",
            "Epoch 1/3\n",
            "25000/25000 [==============================] - 30s 1ms/step - loss: 0.4408 - acc: 0.7847 - val_loss: 0.3507 - val_acc: 0.8465\n",
            "Epoch 2/3\n",
            "25000/25000 [==============================] - 25s 1ms/step - loss: 0.2401 - acc: 0.9043 - val_loss: 0.3638 - val_acc: 0.8410\n",
            "Epoch 3/3\n",
            "25000/25000 [==============================] - 25s 1ms/step - loss: 0.1313 - acc: 0.9531 - val_loss: 0.4645 - val_acc: 0.8357\n",
            "25000/25000 [==============================] - 6s 232us/step\n",
            "Test score: 0.46447244542121885\n",
            "Test accuracy: 0.83572\n"
          ],
          "name": "stdout"
        }
      ]
    },
    {
      "cell_type": "markdown",
      "metadata": {
        "id": "SQl3COcLfHCb",
        "colab_type": "text"
      },
      "source": [
        "### CuDNNLSTMを実装"
      ]
    },
    {
      "cell_type": "code",
      "metadata": {
        "id": "lx7_s2AafHH1",
        "colab_type": "code",
        "outputId": "781340d1-9d64-4a50-94d6-e412b12c641e",
        "colab": {
          "base_uri": "https://localhost:8080/",
          "height": 221
        }
      },
      "source": [
        "#層のクラスをインポート\n",
        "from keras.layers import CuDNNLSTM\n",
        "\n",
        "############################################\n",
        "# SimpleRNNに変更\n",
        "############################################\n",
        "print('Build model...')\n",
        "model = Sequential()\n",
        "model.add(Embedding(max_features, 128))\n",
        "model.add(CuDNNLSTM(128))\n",
        "model.add(Dense(1, activation='sigmoid'))\n",
        "\n",
        "# try using different optimizers and different optimizer configs\n",
        "model.compile(loss='binary_crossentropy',\n",
        "              optimizer='adam',\n",
        "              metrics=['accuracy'])\n",
        "\n",
        "print('Train...')\n",
        "model.fit(x_train, y_train,\n",
        "          batch_size=batch_size,\n",
        "          epochs=3,\n",
        "          validation_data=(x_test, y_test))\n",
        "score, acc = model.evaluate(x_test, y_test,\n",
        "                            batch_size=batch_size)\n",
        "print('Test score:', score)\n",
        "print('Test accuracy:', acc)"
      ],
      "execution_count": 0,
      "outputs": [
        {
          "output_type": "stream",
          "text": [
            "Build model...\n",
            "Train...\n",
            "Train on 25000 samples, validate on 25000 samples\n",
            "Epoch 1/3\n",
            "25000/25000 [==============================] - 29s 1ms/step - loss: 0.4288 - acc: 0.7972 - val_loss: 0.3574 - val_acc: 0.8416\n",
            "Epoch 2/3\n",
            "25000/25000 [==============================] - 24s 976us/step - loss: 0.2519 - acc: 0.9000 - val_loss: 0.3796 - val_acc: 0.8354\n",
            "Epoch 3/3\n",
            "25000/25000 [==============================] - 24s 941us/step - loss: 0.1558 - acc: 0.9409 - val_loss: 0.4452 - val_acc: 0.8302\n",
            "25000/25000 [==============================] - 6s 232us/step\n",
            "Test score: 0.4452444035577774\n",
            "Test accuracy: 0.83024\n"
          ],
          "name": "stdout"
        }
      ]
    },
    {
      "cell_type": "markdown",
      "metadata": {
        "id": "oOSaezN9fHMd",
        "colab_type": "text"
      },
      "source": [
        "# 【問題2】比較結果の説明\n",
        "11の項目それぞれがどういうものなのかを説明してください。また、比較した結果を表やグラフで載せ、説明してください。今回は「RNNはそれほど詳しくないがタスクで必要になったためKerasのドキュメントを見た」という仮定を置きます。"
      ]
    },
    {
      "cell_type": "code",
      "metadata": {
        "id": "OHsAdleFAtjP",
        "colab_type": "code",
        "outputId": "db8ad7ee-6088-4b2f-c98b-347775a08400",
        "colab": {
          "base_uri": "https://localhost:8080/",
          "height": 80
        }
      },
      "source": [
        "import pandas as pd\n",
        "model_list = ['RNN', 'SimpleRNN', 'GRU', 'LSTM', 'SimpleRNNCell', 'GRUCell', 'LSTMCell', 'StackedRNNCells', 'CuDNNGRU', 'CuDNNLSTM']\n",
        "score_list = [0.81696, 0.752, 0.83956, 0.83276, 0.7936, 0.83652, 0.82864, 0.81392, 0.83572, 0.83024]\n",
        "\n",
        "df_accuracy_comparison = pd.DataFrame([score_list], index= ['accuracy score'], columns=model_list)\n",
        "display(df_accuracy_comparison )"
      ],
      "execution_count": 0,
      "outputs": [
        {
          "output_type": "display_data",
          "data": {
            "text/html": [
              "<div>\n",
              "<style scoped>\n",
              "    .dataframe tbody tr th:only-of-type {\n",
              "        vertical-align: middle;\n",
              "    }\n",
              "\n",
              "    .dataframe tbody tr th {\n",
              "        vertical-align: top;\n",
              "    }\n",
              "\n",
              "    .dataframe thead th {\n",
              "        text-align: right;\n",
              "    }\n",
              "</style>\n",
              "<table border=\"1\" class=\"dataframe\">\n",
              "  <thead>\n",
              "    <tr style=\"text-align: right;\">\n",
              "      <th></th>\n",
              "      <th>RNN</th>\n",
              "      <th>SimpleRNN</th>\n",
              "      <th>GRU</th>\n",
              "      <th>LSTM</th>\n",
              "      <th>SimpleRNNCell</th>\n",
              "      <th>GRUCell</th>\n",
              "      <th>LSTMCell</th>\n",
              "      <th>StackedRNNCells</th>\n",
              "      <th>CuDNNGRU</th>\n",
              "      <th>CuDNNLSTM</th>\n",
              "    </tr>\n",
              "  </thead>\n",
              "  <tbody>\n",
              "    <tr>\n",
              "      <th>accuracy score</th>\n",
              "      <td>0.81696</td>\n",
              "      <td>0.752</td>\n",
              "      <td>0.83956</td>\n",
              "      <td>0.83276</td>\n",
              "      <td>0.7936</td>\n",
              "      <td>0.83652</td>\n",
              "      <td>0.82864</td>\n",
              "      <td>0.81392</td>\n",
              "      <td>0.83572</td>\n",
              "      <td>0.83024</td>\n",
              "    </tr>\n",
              "  </tbody>\n",
              "</table>\n",
              "</div>"
            ],
            "text/plain": [
              "                    RNN  SimpleRNN  ...  CuDNNGRU  CuDNNLSTM\n",
              "accuracy score  0.81696      0.752  ...   0.83572    0.83024\n",
              "\n",
              "[1 rows x 10 columns]"
            ]
          },
          "metadata": {
            "tags": []
          }
        }
      ]
    },
    {
      "cell_type": "markdown",
      "metadata": {
        "id": "klUhVuDlRZgm",
        "colab_type": "text"
      },
      "source": [
        "#### ＜比較＞\n",
        "SimpleRNN, SimpleRNNCell,StackedRNNCells,RNNのスコアが相対的にやや低く出ているが、他のモデルのスコアは概ね８３％程度で安定している。"
      ]
    },
    {
      "cell_type": "markdown",
      "metadata": {
        "id": "hj_ybJAWJHDN",
        "colab_type": "text"
      },
      "source": [
        "# 【問題3】（アドバンス課題）複数のデータセット間での比較\n",
        "単一のデータセットでの実験に留めず、他のデータセットでも実験してみます。  \n",
        "データセット - Keras Documentation  \n",
        "Kerasで簡単に利用できる自然言語データセットとしてロイターのニュースワイヤー トピックス分類があります。  \n",
        "IMDBは2値分類であったが、こちらは46値分類の問題です。"
      ]
    },
    {
      "cell_type": "markdown",
      "metadata": {
        "id": "_frh_HD_JM8o",
        "colab_type": "text"
      },
      "source": [
        "※未完"
      ]
    }
  ]
}